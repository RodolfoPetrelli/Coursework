{
  "cells": [
    {
      "cell_type": "markdown",
      "metadata": {
        "id": "si4GyXeauaja"
      },
      "source": [
        "# A project of Matteo Conterno, Rodolfo Petrelli, Filippo Scaramozzino, Filippo Orlandi and Matteo Ling"
      ]
    },
    {
      "cell_type": "markdown",
      "metadata": {
        "id": "uIUmKgVlzwu5"
      },
      "source": [
        "We develop a volatility surface from a given set of call options data and check for arbitrage opportunities within the dataset. We analyze how option prices react to changes in implied volatility using Vega, Vanna and Volga (VVV) components, and test P&L performance on the exploited arbitrage opportunities."
      ]
    },
    {
      "cell_type": "markdown",
      "metadata": {
        "id": "2pdy3AF1N8EL"
      },
      "source": [
        "### Importing Libraries"
      ]
    },
    {
      "cell_type": "code",
      "execution_count": null,
      "metadata": {
        "colab": {
          "base_uri": "https://localhost:8080/"
        },
        "id": "Bt3EBzWzsGvx",
        "outputId": "8fe470ae-6874-49bb-e5cf-a56d84d72a2e"
      },
      "outputs": [],
      "source": [
        "!pip install QuantLib"
      ]
    },
    {
      "cell_type": "code",
      "execution_count": 5,
      "metadata": {
        "id": "DMxmc1HvOASd"
      },
      "outputs": [],
      "source": [
        "import numpy as np\n",
        "import pandas as pd\n",
        "import QuantLib as ql\n",
        "import matplotlib.pyplot as plt\n",
        "import plotly.graph_objects as go\n",
        "from scipy.interpolate import interp1d\n",
        "from plotly.subplots import make_subplots"
      ]
    },
    {
      "cell_type": "markdown",
      "metadata": {
        "id": "MVdte2GAOc8S"
      },
      "source": [
        "### Preprocess the dataset\n",
        "\n",
        "Convert the entire excel sheet in a single dataframe in order to have a single variable considering everything and normalize the days by calculating the maturities in a year."
      ]
    },
    {
      "cell_type": "code",
      "execution_count": null,
      "metadata": {
        "colab": {
          "base_uri": "https://localhost:8080/",
          "height": 424
        },
        "id": "-9kdF-vWASPr",
        "outputId": "79035cc9-66af-401c-da31-aff34d160526"
      },
      "outputs": [
        {
          "data": {
            "text/html": [
              "<div>\n",
              "<style scoped>\n",
              "    .dataframe tbody tr th:only-of-type {\n",
              "        vertical-align: middle;\n",
              "    }\n",
              "\n",
              "    .dataframe tbody tr th {\n",
              "        vertical-align: top;\n",
              "    }\n",
              "\n",
              "    .dataframe thead th {\n",
              "        text-align: right;\n",
              "    }\n",
              "</style>\n",
              "<table border=\"1\" class=\"dataframe\">\n",
              "  <thead>\n",
              "    <tr style=\"text-align: right;\">\n",
              "      <th></th>\n",
              "      <th>Date</th>\n",
              "      <th>Days</th>\n",
              "      <th>Delta</th>\n",
              "      <th>Volatility</th>\n",
              "      <th>Strike</th>\n",
              "      <th>Forward</th>\n",
              "      <th>Spot</th>\n",
              "      <th>Maturity</th>\n",
              "    </tr>\n",
              "  </thead>\n",
              "  <tbody>\n",
              "    <tr>\n",
              "      <th>0</th>\n",
              "      <td>2000-01-03</td>\n",
              "      <td>30</td>\n",
              "      <td>0.1</td>\n",
              "      <td>0.172792</td>\n",
              "      <td>1558.999</td>\n",
              "      <td>1461.336754</td>\n",
              "      <td>1458.18</td>\n",
              "      <td>0.082192</td>\n",
              "    </tr>\n",
              "    <tr>\n",
              "      <th>1</th>\n",
              "      <td>2000-01-03</td>\n",
              "      <td>91</td>\n",
              "      <td>0.1</td>\n",
              "      <td>0.173377</td>\n",
              "      <td>1653.449</td>\n",
              "      <td>1474.440355</td>\n",
              "      <td>1458.18</td>\n",
              "      <td>0.249315</td>\n",
              "    </tr>\n",
              "    <tr>\n",
              "      <th>2</th>\n",
              "      <td>2000-01-03</td>\n",
              "      <td>182</td>\n",
              "      <td>0.1</td>\n",
              "      <td>0.165017</td>\n",
              "      <td>1746.986</td>\n",
              "      <td>1494.896179</td>\n",
              "      <td>1458.18</td>\n",
              "      <td>0.498630</td>\n",
              "    </tr>\n",
              "    <tr>\n",
              "      <th>3</th>\n",
              "      <td>2000-01-03</td>\n",
              "      <td>273</td>\n",
              "      <td>0.1</td>\n",
              "      <td>0.162485</td>\n",
              "      <td>1832.825</td>\n",
              "      <td>1516.515312</td>\n",
              "      <td>1458.18</td>\n",
              "      <td>0.747945</td>\n",
              "    </tr>\n",
              "    <tr>\n",
              "      <th>4</th>\n",
              "      <td>2000-01-03</td>\n",
              "      <td>365</td>\n",
              "      <td>0.1</td>\n",
              "      <td>0.162835</td>\n",
              "      <td>1920.602</td>\n",
              "      <td>1539.565658</td>\n",
              "      <td>1458.18</td>\n",
              "      <td>1.000000</td>\n",
              "    </tr>\n",
              "    <tr>\n",
              "      <th>...</th>\n",
              "      <td>...</td>\n",
              "      <td>...</td>\n",
              "      <td>...</td>\n",
              "      <td>...</td>\n",
              "      <td>...</td>\n",
              "      <td>...</td>\n",
              "      <td>...</td>\n",
              "      <td>...</td>\n",
              "    </tr>\n",
              "    <tr>\n",
              "      <th>138395</th>\n",
              "      <td>2021-12-31</td>\n",
              "      <td>30</td>\n",
              "      <td>0.9</td>\n",
              "      <td>0.297709</td>\n",
              "      <td>4283.507</td>\n",
              "      <td>4763.391298</td>\n",
              "      <td>4776.29</td>\n",
              "      <td>0.082192</td>\n",
              "    </tr>\n",
              "    <tr>\n",
              "      <th>138396</th>\n",
              "      <td>2021-12-31</td>\n",
              "      <td>91</td>\n",
              "      <td>0.9</td>\n",
              "      <td>0.300537</td>\n",
              "      <td>3960.417</td>\n",
              "      <td>4757.947241</td>\n",
              "      <td>4776.29</td>\n",
              "      <td>0.249315</td>\n",
              "    </tr>\n",
              "    <tr>\n",
              "      <th>138397</th>\n",
              "      <td>2021-12-31</td>\n",
              "      <td>182</td>\n",
              "      <td>0.9</td>\n",
              "      <td>0.312074</td>\n",
              "      <td>3643.571</td>\n",
              "      <td>4750.604483</td>\n",
              "      <td>4776.29</td>\n",
              "      <td>0.498630</td>\n",
              "    </tr>\n",
              "    <tr>\n",
              "      <th>138398</th>\n",
              "      <td>2021-12-31</td>\n",
              "      <td>273</td>\n",
              "      <td>0.9</td>\n",
              "      <td>0.332495</td>\n",
              "      <td>3372.290</td>\n",
              "      <td>4744.505281</td>\n",
              "      <td>4776.29</td>\n",
              "      <td>0.747945</td>\n",
              "    </tr>\n",
              "    <tr>\n",
              "      <th>138399</th>\n",
              "      <td>2021-12-31</td>\n",
              "      <td>365</td>\n",
              "      <td>0.9</td>\n",
              "      <td>0.336577</td>\n",
              "      <td>3186.017</td>\n",
              "      <td>4739.917649</td>\n",
              "      <td>4776.29</td>\n",
              "      <td>1.000000</td>\n",
              "    </tr>\n",
              "  </tbody>\n",
              "</table>\n",
              "<p>138400 rows × 8 columns</p>\n",
              "</div>"
            ],
            "text/plain": [
              "             Date  Days  Delta  Volatility    Strike      Forward     Spot  \\\n",
              "0      2000-01-03    30    0.1    0.172792  1558.999  1461.336754  1458.18   \n",
              "1      2000-01-03    91    0.1    0.173377  1653.449  1474.440355  1458.18   \n",
              "2      2000-01-03   182    0.1    0.165017  1746.986  1494.896179  1458.18   \n",
              "3      2000-01-03   273    0.1    0.162485  1832.825  1516.515312  1458.18   \n",
              "4      2000-01-03   365    0.1    0.162835  1920.602  1539.565658  1458.18   \n",
              "...           ...   ...    ...         ...       ...          ...      ...   \n",
              "138395 2021-12-31    30    0.9    0.297709  4283.507  4763.391298  4776.29   \n",
              "138396 2021-12-31    91    0.9    0.300537  3960.417  4757.947241  4776.29   \n",
              "138397 2021-12-31   182    0.9    0.312074  3643.571  4750.604483  4776.29   \n",
              "138398 2021-12-31   273    0.9    0.332495  3372.290  4744.505281  4776.29   \n",
              "138399 2021-12-31   365    0.9    0.336577  3186.017  4739.917649  4776.29   \n",
              "\n",
              "        Maturity  \n",
              "0       0.082192  \n",
              "1       0.249315  \n",
              "2       0.498630  \n",
              "3       0.747945  \n",
              "4       1.000000  \n",
              "...          ...  \n",
              "138395  0.082192  \n",
              "138396  0.249315  \n",
              "138397  0.498630  \n",
              "138398  0.747945  \n",
              "138399  1.000000  \n",
              "\n",
              "[138400 rows x 8 columns]"
            ]
          },
          "metadata": {},
          "output_type": "display_data"
        }
      ],
      "source": [
        "path = r\"SPX.xlsx\"\n",
        "dodf = pd.read_excel(path, sheet_name=None)\n",
        "df = pd.merge(dodf.get(\"IVS\"),\n",
        "              dodf.get(\"Fwd\"),\n",
        "              how=\"left\",\n",
        "              on=[\"Date\", \"Days\"]\n",
        "              )\n",
        "df[\"Maturity\"] = df[\"Days\"] / 365\n",
        "display(df)"
      ]
    },
    {
      "cell_type": "markdown",
      "metadata": {
        "id": "B-pvYzWNPQhV"
      },
      "source": [
        "### Plot the implied volatility surface"
      ]
    },
    {
      "cell_type": "markdown",
      "metadata": {
        "id": "ORai_v2RrV93"
      },
      "source": [
        "The order under which the intepolation is done matters in many case, in our code we decided to intepolate:\n",
        "\n",
        "1.   Over the strikes to present the volatility smile\n",
        "2.   Over the maturity to add the possible missing point\n",
        "\n",
        "In case of interpolation we have decided to use linear and quadratic, the second one is done to obtain a smooth surface."
      ]
    },
    {
      "cell_type": "code",
      "execution_count": 10,
      "metadata": {
        "id": "w_5w0JTkKJgK"
      },
      "outputs": [],
      "source": [
        "def quad_interpolate_pivot(pivot):\n",
        "    \"\"\"\n",
        "    Perform quadratic interpolation on a pivot table using only existing points\n",
        "    \"\"\"\n",
        "    result = pivot.copy()\n",
        "\n",
        "    # First interpolate along strikes (index)\n",
        "    for col in result.columns:\n",
        "        valid = result[col].dropna()\n",
        "        if len(valid) >= 3:\n",
        "            quad_interp = interp1d(valid.index,\n",
        "                                 valid.values,\n",
        "                                 kind='quadratic',\n",
        "                                 bounds_error=False)\n",
        "            result[col] = quad_interp(result.index)\n",
        "\n",
        "    # Then interpolate along maturities (columns)\n",
        "    for idx in result.index:\n",
        "        row = result.loc[idx].dropna()\n",
        "        if len(row) >= 3:\n",
        "            quad_interp = interp1d(row.index,\n",
        "                                 row.values,\n",
        "                                 kind='quadratic',\n",
        "                                 bounds_error=False)\n",
        "            result.loc[idx] = quad_interp(result.columns)\n",
        "\n",
        "    return result"
      ]
    },
    {
      "cell_type": "code",
      "execution_count": 11,
      "metadata": {
        "colab": {
          "base_uri": "https://localhost:8080/",
          "height": 542
        },
        "id": "3J_EnpnSg3UX",
        "outputId": "43d4996c-0b23-4d8a-d4ee-fcca38d63289"
      },
      "outputs": [
        {
          "data": {
            "application/vnd.plotly.v1+json": {
              "config": {
                "plotlyServerURL": "https://plot.ly"
              },
              "data": [
                {
                  "colorbar": {
                    "title": {
                      "text": "Implied Volatility"
                    }
                  },
                  "colorscale": [
                    [
                      0,
                      "#440154"
                    ],
                    [
                      0.1111111111111111,
                      "#482878"
                    ],
                    [
                      0.2222222222222222,
                      "#3e4989"
                    ],
                    [
                      0.3333333333333333,
                      "#31688e"
                    ],
                    [
                      0.4444444444444444,
                      "#26828e"
                    ],
                    [
                      0.5555555555555556,
                      "#1f9e89"
                    ],
                    [
                      0.6666666666666666,
                      "#35b779"
                    ],
                    [
                      0.7777777777777778,
                      "#6ece58"
                    ],
                    [
                      0.8888888888888888,
                      "#b5de2b"
                    ],
                    [
                      1,
                      "#fde725"
                    ]
                  ],
                  "scene": "scene",
                  "type": "surface",
                  "x": {
                    "bdata": "qFChQoUKtT+Z/slgjunPP5n+yWCO6d8/836XyCrv5z8AAAAAAADwP6hQoUKFCrU/mf7JYI7pzz+Z/slgjunfP/N+l8gq7+c/AAAAAAAA8D+oUKFChQq1P5n+yWCO6c8/mf7JYI7p3z/zfpfIKu/nPwAAAAAAAPA/qFChQoUKtT+Z/slgjunPP5n+yWCO6d8/836XyCrv5z8AAAAAAADwP6hQoUKFCrU/mf7JYI7pzz+Z/slgjunfP/N+l8gq7+c/AAAAAAAA8D+oUKFChQq1P5n+yWCO6c8/mf7JYI7p3z/zfpfIKu/nPwAAAAAAAPA/qFChQoUKtT+Z/slgjunPP5n+yWCO6d8/836XyCrv5z8AAAAAAADwP6hQoUKFCrU/mf7JYI7pzz+Z/slgjunfP/N+l8gq7+c/AAAAAAAA8D+oUKFChQq1P5n+yWCO6c8/mf7JYI7p3z/zfpfIKu/nPwAAAAAAAPA/qFChQoUKtT+Z/slgjunPP5n+yWCO6d8/836XyCrv5z8AAAAAAADwP6hQoUKFCrU/mf7JYI7pzz+Z/slgjunfP/N+l8gq7+c/AAAAAAAA8D+oUKFChQq1P5n+yWCO6c8/mf7JYI7p3z/zfpfIKu/nPwAAAAAAAPA/qFChQoUKtT+Z/slgjunPP5n+yWCO6d8/836XyCrv5z8AAAAAAADwP6hQoUKFCrU/mf7JYI7pzz+Z/slgjunfP/N+l8gq7+c/AAAAAAAA8D+oUKFChQq1P5n+yWCO6c8/mf7JYI7p3z/zfpfIKu/nPwAAAAAAAPA/qFChQoUKtT+Z/slgjunPP5n+yWCO6d8/836XyCrv5z8AAAAAAADwP6hQoUKFCrU/mf7JYI7pzz+Z/slgjunfP/N+l8gq7+c/AAAAAAAA8D+oUKFChQq1P5n+yWCO6c8/mf7JYI7p3z/zfpfIKu/nPwAAAAAAAPA/qFChQoUKtT+Z/slgjunPP5n+yWCO6d8/836XyCrv5z8AAAAAAADwP6hQoUKFCrU/mf7JYI7pzz+Z/slgjunfP/N+l8gq7+c/AAAAAAAA8D+oUKFChQq1P5n+yWCO6c8/mf7JYI7p3z/zfpfIKu/nPwAAAAAAAPA/qFChQoUKtT+Z/slgjunPP5n+yWCO6d8/836XyCrv5z8AAAAAAADwP6hQoUKFCrU/mf7JYI7pzz+Z/slgjunfP/N+l8gq7+c/AAAAAAAA8D+oUKFChQq1P5n+yWCO6c8/mf7JYI7p3z/zfpfIKu/nPwAAAAAAAPA/qFChQoUKtT+Z/slgjunPP5n+yWCO6d8/836XyCrv5z8AAAAAAADwPw==",
                    "dtype": "f8",
                    "shape": "25, 5"
                  },
                  "y": {
                    "bdata": "EFg5tAjkqEAQWDm0COSoQBBYObQI5KhAEFg5tAjkqEAQWDm0COSoQK5H4XqUWKpArkfhepRYqkCuR+F6lFiqQK5H4XqUWKpArkfhepRYqkAIrBxaJHesQAisHFokd6xACKwcWiR3rEAIrBxaJHesQAisHFokd6xA3SQGgdXwrkDdJAaB1fCuQN0kBoHV8K5A3SQGgdXwrkDdJAaB1fCuQIlBYOXQ2a9AiUFg5dDZr0CJQWDl0NmvQIlBYOXQ2a9AiUFg5dDZr0B9PzVeOkOwQH0/NV46Q7BAfT81XjpDsEB9PzVeOkOwQH0/NV46Q7BAPQrXo5C6sEA9CtejkLqwQD0K16OQurBAPQrXo5C6sEA9CtejkLqwQBKDwMqBu7BAEoPAyoG7sEASg8DKgbuwQBKDwMqBu7BAEoPAyoG7sEBaZDvf71KxQFpkO9/vUrFAWmQ73+9SsUBaZDvf71KxQFpkO9/vUrFADi2ynW/3sUAOLbKdb/exQA4tsp1v97FADi2ynW/3sUAOLbKdb/exQKabxCCwnrJAppvEILCeskCmm8QgsJ6yQKabxCCwnrJAppvEILCeskAbL90kBqSyQBsv3SQGpLJAGy/dJAakskAbL90kBqSyQBsv3SQGpLJAGy/dJKavskAbL90kpq+yQBsv3SSmr7JAGy/dJKavskAbL90kpq+yQMHKoUXWv7JAwcqhRda/skDByqFF1r+yQMHKoUXWv7JAwcqhRda/skAdWmQ7f9CyQB1aZDt/0LJAHVpkO3/QskAdWmQ7f9CyQB1aZDt/0LJA/Knx0s0Es0D8qfHSzQSzQPyp8dLNBLNA/Knx0s0Es0D8qfHSzQSzQFyPwvVoW7NAXI/C9Whbs0Bcj8L1aFuzQFyPwvVoW7NAXI/C9Whbs0B3vp8a73WzQHe+nxrvdbNAd76fGu91s0B3vp8a73WzQHe+nxrvdbNAaJHtfF/1s0Boke18X/WzQGiR7Xxf9bNAaJHtfF/1s0Boke18X/WzQKjGSzfpJrRAqMZLN+kmtECoxks36Sa0QKjGSzfpJrRAqMZLN+kmtEBQjZduEma0QFCNl24SZrRAUI2XbhJmtEBQjZduEma0QFCNl24SZrRAyXa+nzrKtEDJdr6fOsq0QMl2vp86yrRAyXa+nzrKtEDJdr6fOsq0QA4tsp2vBrVADi2yna8GtUAOLbKdrwa1QA4tsp2vBrVADi2yna8GtUDl0CLbWcm1QOXQIttZybVA5dAi21nJtUDl0CLbWcm1QOXQIttZybVAnu+nxgt3tkCe76fGC3e2QJ7vp8YLd7ZAnu+nxgt3tkCe76fGC3e2QA==",
                    "dtype": "f8",
                    "shape": "25, 5"
                  },
                  "z": {
                    "bdata": "LGSuDKoN0z+bOo+K/zvTP1Gk+zkF+dM/ZFjFG5lH1T+dfeVBeorVPyxkrgyqDdM/mzqPiv870z9RpPs5BfnTP2RYxRuZR9U/pBr2e2Jd1D8sZK4Mqg3TP5s6j4r/O9M/UaT7OQX50z88vr1r0BfUP6q3BrZKMNM/LGSuDKoN0z+bOo+K/zvTP3iBkgIL4NI/FCS2uwfo0j+wVBfwMgPSPyxkrgyqDdM/unFBbJ9E0j+eXinLEMfRP+uJrgs/uNE/t/EnKhvW0D8sZK4Mqg3TP9qo800/TdE/xTvAkxau0D/D76ZbdojQPyLRuvw9Z9A/LGSuDKoN0z/536Uv31XQP9cxrrg4Ks8/zD6PUZ75zz8bYZuewfDPPyxkrgyqDdM/MC6wIv68zj/ppOTCbsXNPxKe0OtP4s4/8R/BQwcTzz8IeNLCZRXPP2+cFOY9zsw/+xcbzaRgzD9Y/RGGAcvNP8fe5uhMNc4/tydIbHcPyD9I6b/04xzKPw2LUdfa+8o/nlxTILOzzD+enQyOklfNP8B7R40JMcE/ITZrA4prxz8f/ofhEJfJP+S7lLpknMs/dFwyM9h5zD+o4mt0c5bAP/qCFhIwusQ/MXG+60YyyD8qG9ZUFoXKP0obWNgdnMs/HpMgt7r3vz+vE4QY1Q/EP0Pk9PV8zcY/cHoX78dtyT8g2n19Y77KP+5gaYWOwr4/ZaTxHnplwz/R3B0sdg7GP7bZWIl5Vsg/95ijIqngyT+9LrJTYo29Pxo1XyUfu8I/YNVGYm9PxT93543U/aDHP81XycfuAsk/jPz6ITZYvD/PxcwrxBDCP+7Nb5hokMQ/OfXCH4Lrxj/EUTcTkkrIPyMYB5eOObs/hVY6MmlmwT98xpjOYdHDP/oC+GoGNsY/vEulXjWSxz8jGAeXjjm7PzrnpzgOvMA/C7/BBFsSwz+8EC22ioDFP7NFE6rY2cY/IxgHl445uz/sEP+wpUfAP5m36jpUU8I/fR5iAQ/LxD+qP4H1eyHGPyMYB5eOObs/PXWsUnqmvz891LZhFATCPz4sl0yTFcQ/oTnvQB9pxT8jGAeXjjm7Pz11rFJ6pr8/4PCCiNS0wT8AOsyXF2DDP5kzXYzCsMQ/IxgHl445uz89daxSeqa/P4QNT6+UZcE/wCoEX77iwj+QLcvXZfjDPyMYB5eOObs/PXWsUnqmvz8oKhvWVBbBP4EbPCZlZcI/D9JT5BBxwz8jGAeXjjm7Pz11rFJ6pr8/KCob1lQWwT9BDHTtC+jBP4523PC76cI/IxgHl445uz89daxSeqa/PygqG9ZUFsE/QQx07QvowT8NG2X9ZmLCPw==",
                    "dtype": "f8",
                    "shape": "25, 5"
                  }
                },
                {
                  "colorbar": {
                    "title": {
                      "text": "Implied Volatility"
                    }
                  },
                  "colorscale": [
                    [
                      0,
                      "#440154"
                    ],
                    [
                      0.1111111111111111,
                      "#482878"
                    ],
                    [
                      0.2222222222222222,
                      "#3e4989"
                    ],
                    [
                      0.3333333333333333,
                      "#31688e"
                    ],
                    [
                      0.4444444444444444,
                      "#26828e"
                    ],
                    [
                      0.5555555555555556,
                      "#1f9e89"
                    ],
                    [
                      0.6666666666666666,
                      "#35b779"
                    ],
                    [
                      0.7777777777777778,
                      "#6ece58"
                    ],
                    [
                      0.8888888888888888,
                      "#b5de2b"
                    ],
                    [
                      1,
                      "#fde725"
                    ]
                  ],
                  "scene": "scene2",
                  "type": "surface",
                  "x": {
                    "bdata": "qFChQoUKtT+Z/slgjunPP5n+yWCO6d8/836XyCrv5z8AAAAAAADwP6hQoUKFCrU/mf7JYI7pzz+Z/slgjunfP/N+l8gq7+c/AAAAAAAA8D+oUKFChQq1P5n+yWCO6c8/mf7JYI7p3z/zfpfIKu/nPwAAAAAAAPA/qFChQoUKtT+Z/slgjunPP5n+yWCO6d8/836XyCrv5z8AAAAAAADwP6hQoUKFCrU/mf7JYI7pzz+Z/slgjunfP/N+l8gq7+c/AAAAAAAA8D+oUKFChQq1P5n+yWCO6c8/mf7JYI7p3z/zfpfIKu/nPwAAAAAAAPA/qFChQoUKtT+Z/slgjunPP5n+yWCO6d8/836XyCrv5z8AAAAAAADwP6hQoUKFCrU/mf7JYI7pzz+Z/slgjunfP/N+l8gq7+c/AAAAAAAA8D+oUKFChQq1P5n+yWCO6c8/mf7JYI7p3z/zfpfIKu/nPwAAAAAAAPA/qFChQoUKtT+Z/slgjunPP5n+yWCO6d8/836XyCrv5z8AAAAAAADwP6hQoUKFCrU/mf7JYI7pzz+Z/slgjunfP/N+l8gq7+c/AAAAAAAA8D+oUKFChQq1P5n+yWCO6c8/mf7JYI7p3z/zfpfIKu/nPwAAAAAAAPA/qFChQoUKtT+Z/slgjunPP5n+yWCO6d8/836XyCrv5z8AAAAAAADwP6hQoUKFCrU/mf7JYI7pzz+Z/slgjunfP/N+l8gq7+c/AAAAAAAA8D+oUKFChQq1P5n+yWCO6c8/mf7JYI7p3z/zfpfIKu/nPwAAAAAAAPA/qFChQoUKtT+Z/slgjunPP5n+yWCO6d8/836XyCrv5z8AAAAAAADwP6hQoUKFCrU/mf7JYI7pzz+Z/slgjunfP/N+l8gq7+c/AAAAAAAA8D+oUKFChQq1P5n+yWCO6c8/mf7JYI7p3z/zfpfIKu/nPwAAAAAAAPA/qFChQoUKtT+Z/slgjunPP5n+yWCO6d8/836XyCrv5z8AAAAAAADwP6hQoUKFCrU/mf7JYI7pzz+Z/slgjunfP/N+l8gq7+c/AAAAAAAA8D+oUKFChQq1P5n+yWCO6c8/mf7JYI7p3z/zfpfIKu/nPwAAAAAAAPA/qFChQoUKtT+Z/slgjunPP5n+yWCO6d8/836XyCrv5z8AAAAAAADwP6hQoUKFCrU/mf7JYI7pzz+Z/slgjunfP/N+l8gq7+c/AAAAAAAA8D+oUKFChQq1P5n+yWCO6c8/mf7JYI7p3z/zfpfIKu/nPwAAAAAAAPA/qFChQoUKtT+Z/slgjunPP5n+yWCO6d8/836XyCrv5z8AAAAAAADwPw==",
                    "dtype": "f8",
                    "shape": "25, 5"
                  },
                  "y": {
                    "bdata": "EFg5tAjkqEAQWDm0COSoQBBYObQI5KhAEFg5tAjkqEAQWDm0COSoQK5H4XqUWKpArkfhepRYqkCuR+F6lFiqQK5H4XqUWKpArkfhepRYqkAIrBxaJHesQAisHFokd6xACKwcWiR3rEAIrBxaJHesQAisHFokd6xA3SQGgdXwrkDdJAaB1fCuQN0kBoHV8K5A3SQGgdXwrkDdJAaB1fCuQIlBYOXQ2a9AiUFg5dDZr0CJQWDl0NmvQIlBYOXQ2a9AiUFg5dDZr0B9PzVeOkOwQH0/NV46Q7BAfT81XjpDsEB9PzVeOkOwQH0/NV46Q7BAPQrXo5C6sEA9CtejkLqwQD0K16OQurBAPQrXo5C6sEA9CtejkLqwQBKDwMqBu7BAEoPAyoG7sEASg8DKgbuwQBKDwMqBu7BAEoPAyoG7sEBaZDvf71KxQFpkO9/vUrFAWmQ73+9SsUBaZDvf71KxQFpkO9/vUrFADi2ynW/3sUAOLbKdb/exQA4tsp1v97FADi2ynW/3sUAOLbKdb/exQKabxCCwnrJAppvEILCeskCmm8QgsJ6yQKabxCCwnrJAppvEILCeskAbL90kBqSyQBsv3SQGpLJAGy/dJAakskAbL90kBqSyQBsv3SQGpLJAGy/dJKavskAbL90kpq+yQBsv3SSmr7JAGy/dJKavskAbL90kpq+yQMHKoUXWv7JAwcqhRda/skDByqFF1r+yQMHKoUXWv7JAwcqhRda/skAdWmQ7f9CyQB1aZDt/0LJAHVpkO3/QskAdWmQ7f9CyQB1aZDt/0LJA/Knx0s0Es0D8qfHSzQSzQPyp8dLNBLNA/Knx0s0Es0D8qfHSzQSzQFyPwvVoW7NAXI/C9Whbs0Bcj8L1aFuzQFyPwvVoW7NAXI/C9Whbs0B3vp8a73WzQHe+nxrvdbNAd76fGu91s0B3vp8a73WzQHe+nxrvdbNAaJHtfF/1s0Boke18X/WzQGiR7Xxf9bNAaJHtfF/1s0Boke18X/WzQKjGSzfpJrRAqMZLN+kmtECoxks36Sa0QKjGSzfpJrRAqMZLN+kmtEBQjZduEma0QFCNl24SZrRAUI2XbhJmtEBQjZduEma0QFCNl24SZrRAyXa+nzrKtEDJdr6fOsq0QMl2vp86yrRAyXa+nzrKtEDJdr6fOsq0QA4tsp2vBrVADi2yna8GtUAOLbKdrwa1QA4tsp2vBrVADi2yna8GtUDl0CLbWcm1QOXQIttZybVA5dAi21nJtUDl0CLbWcm1QOXQIttZybVAnu+nxgt3tkCe76fGC3e2QJ7vp8YLd7ZAnu+nxgt3tkCe76fGC3e2QA==",
                    "dtype": "f8",
                    "shape": "25, 5"
                  },
                  "z": {
                    "bdata": "AAAAAAAA+H8AAAAAAAD4fwAAAAAAAPh/AAAAAAAA+H+dfeVBeorVPwAAAAAAAPh/AAAAAAAA+H8AAAAAAAD4f2RYxRuZR9U/HtegETae1D8AAAAAAAD4fwAAAAAAAPh/UaT7OQX50z8TCAngCcLTP4Gg4TlqN9M/AAAAAAAA+H+bOo+K/zvTP6bBz0a79tE/718EoBLX0T/ZWtmMRn7RPwAAAAAAAPh/9BPpNc4r0j+EmMWzYSTRP1FqUd7RGNE/tvEnKhvW0D8AAAAAAAD4f8Ci3p3oVNE/E6ff7CKB0D/D76ZbdojQP1AN9gRrV9A/AAAAAAAA+H/5qK6xThnQP9gxrrg4Ks8/VmyVME14zz/8/o6gukrPPyxkrgyqDdM/Hoi1ELsW0D+gAmBgZibPP+x/W0IIdc8/ieAtJeRHzz+dDp5mU0bPP3CcFOY9zsw/HeT6mpyszD/ilSHck17NP2FChb47es0/tidIbHcPyD9kSWluJNbIP9OjkW+T18k/0D2neOEPyz9WhY9lCoTLP8F7R40JMcE/dpefDNzYxD+3nT2e2RLHP4aEEe0ByMg/cCmQ/96TyT8dGTchIQDBP/qCFhIwusQ/m5V5i/r8xj9msDrnrrXIP2pLpy1IhMk/999k+IuXwD+1Hv+dxnfEP0Tk9PV8zcY/4Hrur9ONyD83t1X5XmLJP8GiA1poCsA/OiSjPzscxD+vH73qt4vGP7bZWIl5Vsg/Ic6KX0QzyT/VBhYYO/2+P8BEi5Unv8M/gKSCfHhIxj9PUTFmsB3IP85XycfuAsk/jfz6ITZYvD+7bfTVaqLCP/7jdXY7eMU/FNUG6JZsxz8GkTYDH2zIPyMYB5eOObs/x12+Io0WwT+w4Ln2ZSnEP2RXfKxTS8Y/dr3J5491xz8AAAAAAAD4fzrnpzgOvMA/UOdvaXDJwz8o4S3oufPFPxgsYbrVKsc/AAAAAAAA+H8StEibv6a/P5q36jpUU8I/H2ryXbhtxD8yY18hnsvFPwAAAAAAAPh/PXWsUnqmvz/8XQzBwOjBP5uuvIdI7sM/y3NzvCRPxT8AAAAAAAD4fwAAAAAAAPh/j9153WiAwT8AOsyXF2DDPzYjKhhJvsQ/AAAAAAAA+H8AAAAAAAD4f0VEIe1tI8E/reD89D2twj+QLcvXZfjDPwAAAAAAAPh/AAAAAAAA+H8oKhvWVBbBP8vIIcT2XMI/acXUXtaTwz8AAAAAAAD4fwAAAAAAAPh/AAAAAAAA+H9BDHTtC+jBP/CMH+imsMI/AAAAAAAA+H8AAAAAAAD4fwAAAAAAAPh/AAAAAAAA+H8NG2X9ZmLCPw==",
                    "dtype": "f8",
                    "shape": "25, 5"
                  }
                }
              ],
              "layout": {
                "annotations": [
                  {
                    "font": {
                      "size": 16
                    },
                    "showarrow": false,
                    "text": "Linear",
                    "x": 0.225,
                    "xanchor": "center",
                    "xref": "paper",
                    "y": 1,
                    "yanchor": "bottom",
                    "yref": "paper"
                  },
                  {
                    "font": {
                      "size": 16
                    },
                    "showarrow": false,
                    "text": "Quadratic",
                    "x": 0.775,
                    "xanchor": "center",
                    "xref": "paper",
                    "y": 1,
                    "yanchor": "bottom",
                    "yref": "paper"
                  }
                ],
                "scene": {
                  "domain": {
                    "x": [
                      0,
                      0.45
                    ],
                    "y": [
                      0,
                      1
                    ]
                  },
                  "xaxis": {
                    "title": {
                      "text": "Maturities"
                    }
                  },
                  "yaxis": {
                    "title": {
                      "text": "Strikes"
                    }
                  },
                  "zaxis": {
                    "title": {
                      "text": "Volatilities"
                    }
                  }
                },
                "scene2": {
                  "domain": {
                    "x": [
                      0.55,
                      1
                    ],
                    "y": [
                      0,
                      1
                    ]
                  },
                  "xaxis": {
                    "title": {
                      "text": "Maturities"
                    }
                  },
                  "yaxis": {
                    "title": {
                      "text": "Strikes"
                    }
                  },
                  "zaxis": {
                    "title": {
                      "text": "Volatilities"
                    }
                  }
                },
                "template": {
                  "data": {
                    "bar": [
                      {
                        "error_x": {
                          "color": "#2a3f5f"
                        },
                        "error_y": {
                          "color": "#2a3f5f"
                        },
                        "marker": {
                          "line": {
                            "color": "#E5ECF6",
                            "width": 0.5
                          },
                          "pattern": {
                            "fillmode": "overlay",
                            "size": 10,
                            "solidity": 0.2
                          }
                        },
                        "type": "bar"
                      }
                    ],
                    "barpolar": [
                      {
                        "marker": {
                          "line": {
                            "color": "#E5ECF6",
                            "width": 0.5
                          },
                          "pattern": {
                            "fillmode": "overlay",
                            "size": 10,
                            "solidity": 0.2
                          }
                        },
                        "type": "barpolar"
                      }
                    ],
                    "carpet": [
                      {
                        "aaxis": {
                          "endlinecolor": "#2a3f5f",
                          "gridcolor": "white",
                          "linecolor": "white",
                          "minorgridcolor": "white",
                          "startlinecolor": "#2a3f5f"
                        },
                        "baxis": {
                          "endlinecolor": "#2a3f5f",
                          "gridcolor": "white",
                          "linecolor": "white",
                          "minorgridcolor": "white",
                          "startlinecolor": "#2a3f5f"
                        },
                        "type": "carpet"
                      }
                    ],
                    "choropleth": [
                      {
                        "colorbar": {
                          "outlinewidth": 0,
                          "ticks": ""
                        },
                        "type": "choropleth"
                      }
                    ],
                    "contour": [
                      {
                        "colorbar": {
                          "outlinewidth": 0,
                          "ticks": ""
                        },
                        "colorscale": [
                          [
                            0,
                            "#0d0887"
                          ],
                          [
                            0.1111111111111111,
                            "#46039f"
                          ],
                          [
                            0.2222222222222222,
                            "#7201a8"
                          ],
                          [
                            0.3333333333333333,
                            "#9c179e"
                          ],
                          [
                            0.4444444444444444,
                            "#bd3786"
                          ],
                          [
                            0.5555555555555556,
                            "#d8576b"
                          ],
                          [
                            0.6666666666666666,
                            "#ed7953"
                          ],
                          [
                            0.7777777777777778,
                            "#fb9f3a"
                          ],
                          [
                            0.8888888888888888,
                            "#fdca26"
                          ],
                          [
                            1,
                            "#f0f921"
                          ]
                        ],
                        "type": "contour"
                      }
                    ],
                    "contourcarpet": [
                      {
                        "colorbar": {
                          "outlinewidth": 0,
                          "ticks": ""
                        },
                        "type": "contourcarpet"
                      }
                    ],
                    "heatmap": [
                      {
                        "colorbar": {
                          "outlinewidth": 0,
                          "ticks": ""
                        },
                        "colorscale": [
                          [
                            0,
                            "#0d0887"
                          ],
                          [
                            0.1111111111111111,
                            "#46039f"
                          ],
                          [
                            0.2222222222222222,
                            "#7201a8"
                          ],
                          [
                            0.3333333333333333,
                            "#9c179e"
                          ],
                          [
                            0.4444444444444444,
                            "#bd3786"
                          ],
                          [
                            0.5555555555555556,
                            "#d8576b"
                          ],
                          [
                            0.6666666666666666,
                            "#ed7953"
                          ],
                          [
                            0.7777777777777778,
                            "#fb9f3a"
                          ],
                          [
                            0.8888888888888888,
                            "#fdca26"
                          ],
                          [
                            1,
                            "#f0f921"
                          ]
                        ],
                        "type": "heatmap"
                      }
                    ],
                    "histogram": [
                      {
                        "marker": {
                          "pattern": {
                            "fillmode": "overlay",
                            "size": 10,
                            "solidity": 0.2
                          }
                        },
                        "type": "histogram"
                      }
                    ],
                    "histogram2d": [
                      {
                        "colorbar": {
                          "outlinewidth": 0,
                          "ticks": ""
                        },
                        "colorscale": [
                          [
                            0,
                            "#0d0887"
                          ],
                          [
                            0.1111111111111111,
                            "#46039f"
                          ],
                          [
                            0.2222222222222222,
                            "#7201a8"
                          ],
                          [
                            0.3333333333333333,
                            "#9c179e"
                          ],
                          [
                            0.4444444444444444,
                            "#bd3786"
                          ],
                          [
                            0.5555555555555556,
                            "#d8576b"
                          ],
                          [
                            0.6666666666666666,
                            "#ed7953"
                          ],
                          [
                            0.7777777777777778,
                            "#fb9f3a"
                          ],
                          [
                            0.8888888888888888,
                            "#fdca26"
                          ],
                          [
                            1,
                            "#f0f921"
                          ]
                        ],
                        "type": "histogram2d"
                      }
                    ],
                    "histogram2dcontour": [
                      {
                        "colorbar": {
                          "outlinewidth": 0,
                          "ticks": ""
                        },
                        "colorscale": [
                          [
                            0,
                            "#0d0887"
                          ],
                          [
                            0.1111111111111111,
                            "#46039f"
                          ],
                          [
                            0.2222222222222222,
                            "#7201a8"
                          ],
                          [
                            0.3333333333333333,
                            "#9c179e"
                          ],
                          [
                            0.4444444444444444,
                            "#bd3786"
                          ],
                          [
                            0.5555555555555556,
                            "#d8576b"
                          ],
                          [
                            0.6666666666666666,
                            "#ed7953"
                          ],
                          [
                            0.7777777777777778,
                            "#fb9f3a"
                          ],
                          [
                            0.8888888888888888,
                            "#fdca26"
                          ],
                          [
                            1,
                            "#f0f921"
                          ]
                        ],
                        "type": "histogram2dcontour"
                      }
                    ],
                    "mesh3d": [
                      {
                        "colorbar": {
                          "outlinewidth": 0,
                          "ticks": ""
                        },
                        "type": "mesh3d"
                      }
                    ],
                    "parcoords": [
                      {
                        "line": {
                          "colorbar": {
                            "outlinewidth": 0,
                            "ticks": ""
                          }
                        },
                        "type": "parcoords"
                      }
                    ],
                    "pie": [
                      {
                        "automargin": true,
                        "type": "pie"
                      }
                    ],
                    "scatter": [
                      {
                        "fillpattern": {
                          "fillmode": "overlay",
                          "size": 10,
                          "solidity": 0.2
                        },
                        "type": "scatter"
                      }
                    ],
                    "scatter3d": [
                      {
                        "line": {
                          "colorbar": {
                            "outlinewidth": 0,
                            "ticks": ""
                          }
                        },
                        "marker": {
                          "colorbar": {
                            "outlinewidth": 0,
                            "ticks": ""
                          }
                        },
                        "type": "scatter3d"
                      }
                    ],
                    "scattercarpet": [
                      {
                        "marker": {
                          "colorbar": {
                            "outlinewidth": 0,
                            "ticks": ""
                          }
                        },
                        "type": "scattercarpet"
                      }
                    ],
                    "scattergeo": [
                      {
                        "marker": {
                          "colorbar": {
                            "outlinewidth": 0,
                            "ticks": ""
                          }
                        },
                        "type": "scattergeo"
                      }
                    ],
                    "scattergl": [
                      {
                        "marker": {
                          "colorbar": {
                            "outlinewidth": 0,
                            "ticks": ""
                          }
                        },
                        "type": "scattergl"
                      }
                    ],
                    "scattermap": [
                      {
                        "marker": {
                          "colorbar": {
                            "outlinewidth": 0,
                            "ticks": ""
                          }
                        },
                        "type": "scattermap"
                      }
                    ],
                    "scattermapbox": [
                      {
                        "marker": {
                          "colorbar": {
                            "outlinewidth": 0,
                            "ticks": ""
                          }
                        },
                        "type": "scattermapbox"
                      }
                    ],
                    "scatterpolar": [
                      {
                        "marker": {
                          "colorbar": {
                            "outlinewidth": 0,
                            "ticks": ""
                          }
                        },
                        "type": "scatterpolar"
                      }
                    ],
                    "scatterpolargl": [
                      {
                        "marker": {
                          "colorbar": {
                            "outlinewidth": 0,
                            "ticks": ""
                          }
                        },
                        "type": "scatterpolargl"
                      }
                    ],
                    "scatterternary": [
                      {
                        "marker": {
                          "colorbar": {
                            "outlinewidth": 0,
                            "ticks": ""
                          }
                        },
                        "type": "scatterternary"
                      }
                    ],
                    "surface": [
                      {
                        "colorbar": {
                          "outlinewidth": 0,
                          "ticks": ""
                        },
                        "colorscale": [
                          [
                            0,
                            "#0d0887"
                          ],
                          [
                            0.1111111111111111,
                            "#46039f"
                          ],
                          [
                            0.2222222222222222,
                            "#7201a8"
                          ],
                          [
                            0.3333333333333333,
                            "#9c179e"
                          ],
                          [
                            0.4444444444444444,
                            "#bd3786"
                          ],
                          [
                            0.5555555555555556,
                            "#d8576b"
                          ],
                          [
                            0.6666666666666666,
                            "#ed7953"
                          ],
                          [
                            0.7777777777777778,
                            "#fb9f3a"
                          ],
                          [
                            0.8888888888888888,
                            "#fdca26"
                          ],
                          [
                            1,
                            "#f0f921"
                          ]
                        ],
                        "type": "surface"
                      }
                    ],
                    "table": [
                      {
                        "cells": {
                          "fill": {
                            "color": "#EBF0F8"
                          },
                          "line": {
                            "color": "white"
                          }
                        },
                        "header": {
                          "fill": {
                            "color": "#C8D4E3"
                          },
                          "line": {
                            "color": "white"
                          }
                        },
                        "type": "table"
                      }
                    ]
                  },
                  "layout": {
                    "annotationdefaults": {
                      "arrowcolor": "#2a3f5f",
                      "arrowhead": 0,
                      "arrowwidth": 1
                    },
                    "autotypenumbers": "strict",
                    "coloraxis": {
                      "colorbar": {
                        "outlinewidth": 0,
                        "ticks": ""
                      }
                    },
                    "colorscale": {
                      "diverging": [
                        [
                          0,
                          "#8e0152"
                        ],
                        [
                          0.1,
                          "#c51b7d"
                        ],
                        [
                          0.2,
                          "#de77ae"
                        ],
                        [
                          0.3,
                          "#f1b6da"
                        ],
                        [
                          0.4,
                          "#fde0ef"
                        ],
                        [
                          0.5,
                          "#f7f7f7"
                        ],
                        [
                          0.6,
                          "#e6f5d0"
                        ],
                        [
                          0.7,
                          "#b8e186"
                        ],
                        [
                          0.8,
                          "#7fbc41"
                        ],
                        [
                          0.9,
                          "#4d9221"
                        ],
                        [
                          1,
                          "#276419"
                        ]
                      ],
                      "sequential": [
                        [
                          0,
                          "#0d0887"
                        ],
                        [
                          0.1111111111111111,
                          "#46039f"
                        ],
                        [
                          0.2222222222222222,
                          "#7201a8"
                        ],
                        [
                          0.3333333333333333,
                          "#9c179e"
                        ],
                        [
                          0.4444444444444444,
                          "#bd3786"
                        ],
                        [
                          0.5555555555555556,
                          "#d8576b"
                        ],
                        [
                          0.6666666666666666,
                          "#ed7953"
                        ],
                        [
                          0.7777777777777778,
                          "#fb9f3a"
                        ],
                        [
                          0.8888888888888888,
                          "#fdca26"
                        ],
                        [
                          1,
                          "#f0f921"
                        ]
                      ],
                      "sequentialminus": [
                        [
                          0,
                          "#0d0887"
                        ],
                        [
                          0.1111111111111111,
                          "#46039f"
                        ],
                        [
                          0.2222222222222222,
                          "#7201a8"
                        ],
                        [
                          0.3333333333333333,
                          "#9c179e"
                        ],
                        [
                          0.4444444444444444,
                          "#bd3786"
                        ],
                        [
                          0.5555555555555556,
                          "#d8576b"
                        ],
                        [
                          0.6666666666666666,
                          "#ed7953"
                        ],
                        [
                          0.7777777777777778,
                          "#fb9f3a"
                        ],
                        [
                          0.8888888888888888,
                          "#fdca26"
                        ],
                        [
                          1,
                          "#f0f921"
                        ]
                      ]
                    },
                    "colorway": [
                      "#636efa",
                      "#EF553B",
                      "#00cc96",
                      "#ab63fa",
                      "#FFA15A",
                      "#19d3f3",
                      "#FF6692",
                      "#B6E880",
                      "#FF97FF",
                      "#FECB52"
                    ],
                    "font": {
                      "color": "#2a3f5f"
                    },
                    "geo": {
                      "bgcolor": "white",
                      "lakecolor": "white",
                      "landcolor": "#E5ECF6",
                      "showlakes": true,
                      "showland": true,
                      "subunitcolor": "white"
                    },
                    "hoverlabel": {
                      "align": "left"
                    },
                    "hovermode": "closest",
                    "mapbox": {
                      "style": "light"
                    },
                    "paper_bgcolor": "white",
                    "plot_bgcolor": "#E5ECF6",
                    "polar": {
                      "angularaxis": {
                        "gridcolor": "white",
                        "linecolor": "white",
                        "ticks": ""
                      },
                      "bgcolor": "#E5ECF6",
                      "radialaxis": {
                        "gridcolor": "white",
                        "linecolor": "white",
                        "ticks": ""
                      }
                    },
                    "scene": {
                      "xaxis": {
                        "backgroundcolor": "#E5ECF6",
                        "gridcolor": "white",
                        "gridwidth": 2,
                        "linecolor": "white",
                        "showbackground": true,
                        "ticks": "",
                        "zerolinecolor": "white"
                      },
                      "yaxis": {
                        "backgroundcolor": "#E5ECF6",
                        "gridcolor": "white",
                        "gridwidth": 2,
                        "linecolor": "white",
                        "showbackground": true,
                        "ticks": "",
                        "zerolinecolor": "white"
                      },
                      "zaxis": {
                        "backgroundcolor": "#E5ECF6",
                        "gridcolor": "white",
                        "gridwidth": 2,
                        "linecolor": "white",
                        "showbackground": true,
                        "ticks": "",
                        "zerolinecolor": "white"
                      }
                    },
                    "shapedefaults": {
                      "line": {
                        "color": "#2a3f5f"
                      }
                    },
                    "ternary": {
                      "aaxis": {
                        "gridcolor": "white",
                        "linecolor": "white",
                        "ticks": ""
                      },
                      "baxis": {
                        "gridcolor": "white",
                        "linecolor": "white",
                        "ticks": ""
                      },
                      "bgcolor": "#E5ECF6",
                      "caxis": {
                        "gridcolor": "white",
                        "linecolor": "white",
                        "ticks": ""
                      }
                    },
                    "title": {
                      "x": 0.05
                    },
                    "xaxis": {
                      "automargin": true,
                      "gridcolor": "white",
                      "linecolor": "white",
                      "ticks": "",
                      "title": {
                        "standoff": 15
                      },
                      "zerolinecolor": "white",
                      "zerolinewidth": 2
                    },
                    "yaxis": {
                      "automargin": true,
                      "gridcolor": "white",
                      "linecolor": "white",
                      "ticks": "",
                      "title": {
                        "standoff": 15
                      },
                      "zerolinecolor": "white",
                      "zerolinewidth": 2
                    }
                  }
                },
                "title": {
                  "text": "Implied Volatility Surface Interpolation on 2021-12-31 00:00:00",
                  "x": 0.5,
                  "y": 0.95
                }
              }
            }
          },
          "metadata": {},
          "output_type": "display_data"
        }
      ],
      "source": [
        "# Select a specific date for plotting (e.g., latest available)\n",
        "selected_date = df[\"Date\"].max()\n",
        "df_filtered = df[df[\"Date\"] == selected_date]\n",
        "\n",
        "# Create pivot table\n",
        "pivot_table = df_filtered.pivot_table(\n",
        "    values='Volatility',\n",
        "    index='Strike',\n",
        "    columns='Maturity',\n",
        "    aggfunc='last'\n",
        ")\n",
        "\n",
        "# Interpolate missing values using linear interpolation\n",
        "linear_pivot_table = pivot_table.interpolate(method='linear', axis=0)\n",
        "linear_pivot_table = linear_pivot_table.interpolate(method='linear', axis=1)\n",
        "linear_pivot_table = linear_pivot_table.ffill().bfill()\n",
        "\n",
        "X, Y = np.meshgrid(linear_pivot_table.columns, linear_pivot_table.index)\n",
        "Z = linear_pivot_table.values\n",
        "\n",
        "quadratic_pivot_table = quad_interpolate_pivot(pivot_table)\n",
        "Xq, Yq = np.meshgrid(quadratic_pivot_table.columns, quadratic_pivot_table.index)\n",
        "Zq = quadratic_pivot_table.values\n",
        "\n",
        "# Create a Plotly 3D surface plot\n",
        "fig = make_subplots(rows=1, cols=2,\n",
        "                    specs=[[{'is_3d': True}, {'is_3d': True}]],\n",
        "                    subplot_titles=['Linear',\n",
        "                                    'Quadratic',\n",
        "                                    'Cubic'],\n",
        "                    )\n",
        "\n",
        "fig.add_trace(go.Surface(\n",
        "        z=Z,\n",
        "        x=X,\n",
        "        y=Y,\n",
        "        colorscale='Viridis',\n",
        "        colorbar=dict(title=\"Implied Volatility\")\n",
        "    ), row=1, col=1)\n",
        "\n",
        "fig.add_trace(go.Surface(\n",
        "        z=Zq,\n",
        "        x=Xq,\n",
        "        y=Yq,\n",
        "        colorscale='Viridis',\n",
        "        colorbar=dict(title=\"Implied Volatility\")\n",
        "    ), row=1, col=2)\n",
        "\n",
        "scene = dict(\n",
        "  xaxis=dict(\n",
        "      title=dict(\n",
        "          text='Maturities'\n",
        "      )\n",
        "  ),\n",
        "  yaxis=dict(\n",
        "      title=dict(\n",
        "          text='Strikes'\n",
        "      )\n",
        "  ),\n",
        "  zaxis=dict(\n",
        "      title=dict(\n",
        "          text='Volatilities'\n",
        "      )\n",
        "  ),\n",
        ")\n",
        "\n",
        "fig.update_layout(\n",
        "    title=f\"Implied Volatility Surface Interpolation on {selected_date}\",\n",
        "    title_x=0.5,\n",
        "    title_y=0.95\n",
        ")\n",
        "\n",
        "fig.update_layout(\n",
        "    scene = scene,\n",
        "    scene2 = scene\n",
        ")\n",
        "\n",
        "fig.show()\n"
      ]
    },
    {
      "cell_type": "markdown",
      "metadata": {
        "id": "7ewfThGIsFCX"
      },
      "source": [
        "## Calculate the Vanna Vega Volga sensitivities\n",
        "\n",
        "To calculate the sensitivities of the call options we decided to use an engine called quantlib in order to handle the heavyweight calculation required and reduce the time. We decide to give an average estimate of this quantity by applying a small volatility shock of $\\pm 1%$.\n",
        "\n",
        "We know that the average of non-linearity quantity is not correct since we should consider a weighted qunatity, but this was done only to obtain an estimate, since no arbitrage opportunities have been found capable of leveraging these quantities."
      ]
    },
    {
      "cell_type": "code",
      "execution_count": 12,
      "metadata": {
        "id": "_vsMn7r4Mvuu"
      },
      "outputs": [],
      "source": [
        "class GreeksCalculator:\n",
        "    def __init__(self, settlement_date, rate=0.02, day_count=ql.Actual365Fixed()):\n",
        "        self.settlement_date = settlement_date\n",
        "        self.day_count = day_count\n",
        "        self.calendar = ql.NullCalendar()\n",
        "        self.yield_curve = ql.FlatForward(\n",
        "            settlement_date,\n",
        "            ql.QuoteHandle(ql.SimpleQuote(rate)),\n",
        "            day_count\n",
        "        )\n",
        "        self.yield_curve_handle = ql.YieldTermStructureHandle(self.yield_curve)\n",
        "        self.epsilon = 1e-4\n",
        "\n",
        "    def create_process(self, S, sigma):\n",
        "        \"\"\"Create a Black-Scholes process with given spot and volatility\"\"\"\n",
        "        vol_ts = ql.BlackConstantVol(\n",
        "            self.settlement_date,\n",
        "            self.calendar,\n",
        "            ql.QuoteHandle(ql.SimpleQuote(sigma)),\n",
        "            self.day_count\n",
        "        )\n",
        "        return ql.BlackScholesProcess(\n",
        "            ql.QuoteHandle(ql.SimpleQuote(S)),\n",
        "            self.yield_curve_handle,\n",
        "            ql.BlackVolTermStructureHandle(vol_ts)\n",
        "        )\n",
        "\n",
        "\n",
        "    def create_option(self, K, T, option_type=\"call\"):\n",
        "        \"\"\"Create a European option \"\"\"\n",
        "        maturity_date = self.settlement_date + int(T * 365)\n",
        "        payoff = ql.PlainVanillaPayoff(\n",
        "            ql.Option.Call if option_type == \"call\" else ql.Option.Put,\n",
        "            K\n",
        "        )\n",
        "        return ql.EuropeanOption(\n",
        "            payoff,\n",
        "            ql.EuropeanExercise(maturity_date)\n",
        "        )\n",
        "\n",
        "    def compute_greeks(self, S, K, T, sigma, option_type=\"call\"):\n",
        "        \"\"\"Compute all Greeks in a single pass\"\"\"\n",
        "        shocks = np.array([-0.01, 0.01])\n",
        "\n",
        "        vega_values, vanna_values, volga_values = [], [], []\n",
        "\n",
        "        for shock in shocks:\n",
        "            shocked_sigma = sigma * (1 + shock)\n",
        "\n",
        "            process = self.create_process(S, shocked_sigma)\n",
        "            option = self.create_option(K, T, option_type)\n",
        "            option.setPricingEngine(ql.AnalyticEuropeanEngine(process))\n",
        "\n",
        "            vega = option.vega()\n",
        "            vega_values.append(vega)\n",
        "\n",
        "            spot_up_process = self.create_process(S * (1 + self.epsilon), shocked_sigma)\n",
        "            spot_down_process = self.create_process(S * (1 - self.epsilon), shocked_sigma)\n",
        "\n",
        "            option.setPricingEngine(ql.AnalyticEuropeanEngine(spot_up_process))\n",
        "            vega_up = option.vega()\n",
        "\n",
        "            option.setPricingEngine(ql.AnalyticEuropeanEngine(spot_down_process))\n",
        "            vega_down = option.vega()\n",
        "\n",
        "            vanna = (vega_up - vega_down) / (2 * self.epsilon * S)\n",
        "            vanna_values.append(vanna)\n",
        "\n",
        "            sigma_up_process = self.create_process(S, shocked_sigma * (1 + self.epsilon))\n",
        "            sigma_down_process = self.create_process(S, shocked_sigma * (1 - self.epsilon))\n",
        "\n",
        "            option.setPricingEngine(ql.AnalyticEuropeanEngine(sigma_up_process))\n",
        "            vega_sigma_up = option.vega()\n",
        "\n",
        "            option.setPricingEngine(ql.AnalyticEuropeanEngine(sigma_down_process))\n",
        "            vega_sigma_down = option.vega()\n",
        "\n",
        "            volga = (vega_sigma_up - vega_sigma_down) / (2 * self.epsilon * shocked_sigma)\n",
        "            volga_values.append(volga)\n",
        "\n",
        "        return np.mean(vega_values), np.mean(vanna_values), np.mean(volga_values)\n",
        "\n",
        "\n",
        "def calculate_sensitivity(df, calculator=None):\n",
        "    \"\"\"Calculate sensitivities using 3 shocks and return a single estimate\"\"\"\n",
        "    if calculator is None:\n",
        "        calculator = GreeksCalculator(ql.Date().todaysDate())\n",
        "\n",
        "    results = [\n",
        "        calculator.compute_greeks(\n",
        "            S=row[\"Forward\"],\n",
        "            K=row[\"Strike\"],\n",
        "            T=row[\"Days\"] / 365,\n",
        "            sigma=row[\"Volatility\"]\n",
        "        )\n",
        "        for _, row in df.iterrows()\n",
        "    ]\n",
        "\n",
        "    vega_list, vanna_list, volga_list = zip(*results)\n",
        "\n",
        "    df[\"Vega\"] = vega_list\n",
        "    df[\"Vanna\"] = vanna_list\n",
        "    df[\"Volga\"] = volga_list\n",
        "\n",
        "    return df"
      ]
    },
    {
      "cell_type": "code",
      "execution_count": 13,
      "metadata": {
        "colab": {
          "base_uri": "https://localhost:8080/",
          "height": 424
        },
        "id": "husXgsC1Nbld",
        "outputId": "08fa6fce-5aa5-4b62-dfeb-ba91f6c67172"
      },
      "outputs": [
        {
          "data": {
            "text/html": [
              "<div>\n",
              "<style scoped>\n",
              "    .dataframe tbody tr th:only-of-type {\n",
              "        vertical-align: middle;\n",
              "    }\n",
              "\n",
              "    .dataframe tbody tr th {\n",
              "        vertical-align: top;\n",
              "    }\n",
              "\n",
              "    .dataframe thead th {\n",
              "        text-align: right;\n",
              "    }\n",
              "</style>\n",
              "<table border=\"1\" class=\"dataframe\">\n",
              "  <thead>\n",
              "    <tr style=\"text-align: right;\">\n",
              "      <th></th>\n",
              "      <th>Date</th>\n",
              "      <th>Days</th>\n",
              "      <th>Delta</th>\n",
              "      <th>Volatility</th>\n",
              "      <th>Strike</th>\n",
              "      <th>Forward</th>\n",
              "      <th>Spot</th>\n",
              "      <th>Maturity</th>\n",
              "      <th>Vega</th>\n",
              "      <th>Vanna</th>\n",
              "      <th>Volga</th>\n",
              "    </tr>\n",
              "  </thead>\n",
              "  <tbody>\n",
              "    <tr>\n",
              "      <th>0</th>\n",
              "      <td>2000-01-03</td>\n",
              "      <td>30</td>\n",
              "      <td>0.1</td>\n",
              "      <td>0.172792</td>\n",
              "      <td>1558.999</td>\n",
              "      <td>1461.336754</td>\n",
              "      <td>1458.18</td>\n",
              "      <td>0.082192</td>\n",
              "      <td>76.707571</td>\n",
              "      <td>1.374824</td>\n",
              "      <td>718.908592</td>\n",
              "    </tr>\n",
              "    <tr>\n",
              "      <th>1</th>\n",
              "      <td>2000-01-03</td>\n",
              "      <td>91</td>\n",
              "      <td>0.1</td>\n",
              "      <td>0.173377</td>\n",
              "      <td>1653.449</td>\n",
              "      <td>1474.440355</td>\n",
              "      <td>1458.18</td>\n",
              "      <td>0.249315</td>\n",
              "      <td>139.063106</td>\n",
              "      <td>1.426428</td>\n",
              "      <td>1284.230627</td>\n",
              "    </tr>\n",
              "    <tr>\n",
              "      <th>2</th>\n",
              "      <td>2000-01-03</td>\n",
              "      <td>182</td>\n",
              "      <td>0.1</td>\n",
              "      <td>0.165017</td>\n",
              "      <td>1746.986</td>\n",
              "      <td>1494.896179</td>\n",
              "      <td>1458.18</td>\n",
              "      <td>0.498630</td>\n",
              "      <td>206.557606</td>\n",
              "      <td>1.553425</td>\n",
              "      <td>1957.400996</td>\n",
              "    </tr>\n",
              "    <tr>\n",
              "      <th>3</th>\n",
              "      <td>2000-01-03</td>\n",
              "      <td>273</td>\n",
              "      <td>0.1</td>\n",
              "      <td>0.162485</td>\n",
              "      <td>1832.825</td>\n",
              "      <td>1516.515312</td>\n",
              "      <td>1458.18</td>\n",
              "      <td>0.747945</td>\n",
              "      <td>263.432984</td>\n",
              "      <td>1.621756</td>\n",
              "      <td>2491.962079</td>\n",
              "    </tr>\n",
              "    <tr>\n",
              "      <th>4</th>\n",
              "      <td>2000-01-03</td>\n",
              "      <td>365</td>\n",
              "      <td>0.1</td>\n",
              "      <td>0.162835</td>\n",
              "      <td>1920.602</td>\n",
              "      <td>1539.565658</td>\n",
              "      <td>1458.18</td>\n",
              "      <td>1.000000</td>\n",
              "      <td>315.627907</td>\n",
              "      <td>1.657665</td>\n",
              "      <td>2945.055925</td>\n",
              "    </tr>\n",
              "    <tr>\n",
              "      <th>...</th>\n",
              "      <td>...</td>\n",
              "      <td>...</td>\n",
              "      <td>...</td>\n",
              "      <td>...</td>\n",
              "      <td>...</td>\n",
              "      <td>...</td>\n",
              "      <td>...</td>\n",
              "      <td>...</td>\n",
              "      <td>...</td>\n",
              "      <td>...</td>\n",
              "      <td>...</td>\n",
              "    </tr>\n",
              "    <tr>\n",
              "      <th>138395</th>\n",
              "      <td>2021-12-31</td>\n",
              "      <td>30</td>\n",
              "      <td>0.9</td>\n",
              "      <td>0.297709</td>\n",
              "      <td>4283.507</td>\n",
              "      <td>4763.391298</td>\n",
              "      <td>4776.29</td>\n",
              "      <td>0.082192</td>\n",
              "      <td>232.154020</td>\n",
              "      <td>-0.697047</td>\n",
              "      <td>1243.430053</td>\n",
              "    </tr>\n",
              "    <tr>\n",
              "      <th>138396</th>\n",
              "      <td>2021-12-31</td>\n",
              "      <td>91</td>\n",
              "      <td>0.9</td>\n",
              "      <td>0.300537</td>\n",
              "      <td>3960.417</td>\n",
              "      <td>4757.947241</td>\n",
              "      <td>4776.29</td>\n",
              "      <td>0.249315</td>\n",
              "      <td>390.880660</td>\n",
              "      <td>-0.646431</td>\n",
              "      <td>2044.146579</td>\n",
              "    </tr>\n",
              "    <tr>\n",
              "      <th>138397</th>\n",
              "      <td>2021-12-31</td>\n",
              "      <td>182</td>\n",
              "      <td>0.9</td>\n",
              "      <td>0.312074</td>\n",
              "      <td>3643.571</td>\n",
              "      <td>4750.604483</td>\n",
              "      <td>4776.29</td>\n",
              "      <td>0.498630</td>\n",
              "      <td>531.169675</td>\n",
              "      <td>-0.577908</td>\n",
              "      <td>2635.716943</td>\n",
              "    </tr>\n",
              "    <tr>\n",
              "      <th>138398</th>\n",
              "      <td>2021-12-31</td>\n",
              "      <td>273</td>\n",
              "      <td>0.9</td>\n",
              "      <td>0.332495</td>\n",
              "      <td>3372.290</td>\n",
              "      <td>4744.505281</td>\n",
              "      <td>4776.29</td>\n",
              "      <td>0.747945</td>\n",
              "      <td>628.968763</td>\n",
              "      <td>-0.505035</td>\n",
              "      <td>2866.453766</td>\n",
              "    </tr>\n",
              "    <tr>\n",
              "      <th>138399</th>\n",
              "      <td>2021-12-31</td>\n",
              "      <td>365</td>\n",
              "      <td>0.9</td>\n",
              "      <td>0.336577</td>\n",
              "      <td>3186.017</td>\n",
              "      <td>4739.917649</td>\n",
              "      <td>4776.29</td>\n",
              "      <td>1.000000</td>\n",
              "      <td>701.716071</td>\n",
              "      <td>-0.471253</td>\n",
              "      <td>3145.451800</td>\n",
              "    </tr>\n",
              "  </tbody>\n",
              "</table>\n",
              "<p>138400 rows × 11 columns</p>\n",
              "</div>"
            ],
            "text/plain": [
              "             Date  Days  Delta  Volatility    Strike      Forward     Spot  \\\n",
              "0      2000-01-03    30    0.1    0.172792  1558.999  1461.336754  1458.18   \n",
              "1      2000-01-03    91    0.1    0.173377  1653.449  1474.440355  1458.18   \n",
              "2      2000-01-03   182    0.1    0.165017  1746.986  1494.896179  1458.18   \n",
              "3      2000-01-03   273    0.1    0.162485  1832.825  1516.515312  1458.18   \n",
              "4      2000-01-03   365    0.1    0.162835  1920.602  1539.565658  1458.18   \n",
              "...           ...   ...    ...         ...       ...          ...      ...   \n",
              "138395 2021-12-31    30    0.9    0.297709  4283.507  4763.391298  4776.29   \n",
              "138396 2021-12-31    91    0.9    0.300537  3960.417  4757.947241  4776.29   \n",
              "138397 2021-12-31   182    0.9    0.312074  3643.571  4750.604483  4776.29   \n",
              "138398 2021-12-31   273    0.9    0.332495  3372.290  4744.505281  4776.29   \n",
              "138399 2021-12-31   365    0.9    0.336577  3186.017  4739.917649  4776.29   \n",
              "\n",
              "        Maturity        Vega     Vanna        Volga  \n",
              "0       0.082192   76.707571  1.374824   718.908592  \n",
              "1       0.249315  139.063106  1.426428  1284.230627  \n",
              "2       0.498630  206.557606  1.553425  1957.400996  \n",
              "3       0.747945  263.432984  1.621756  2491.962079  \n",
              "4       1.000000  315.627907  1.657665  2945.055925  \n",
              "...          ...         ...       ...          ...  \n",
              "138395  0.082192  232.154020 -0.697047  1243.430053  \n",
              "138396  0.249315  390.880660 -0.646431  2044.146579  \n",
              "138397  0.498630  531.169675 -0.577908  2635.716943  \n",
              "138398  0.747945  628.968763 -0.505035  2866.453766  \n",
              "138399  1.000000  701.716071 -0.471253  3145.451800  \n",
              "\n",
              "[138400 rows x 11 columns]"
            ]
          },
          "metadata": {},
          "output_type": "display_data"
        }
      ],
      "source": [
        "calculator = GreeksCalculator(ql.Date().todaysDate())\n",
        "\n",
        "sensitivity_results = calculate_sensitivity(df, calculator=calculator)\n",
        "display(sensitivity_results)"
      ]
    },
    {
      "cell_type": "markdown",
      "metadata": {
        "id": "xQukUOor8P34"
      },
      "source": [
        "### Check Arbitrage opportunities"
      ]
    },
    {
      "cell_type": "markdown",
      "metadata": {
        "id": "tPosfbUqPF_R"
      },
      "source": [
        " We check for potential arbitrage opportunities in options data. This step is fundamental to understanding potential arbitrage strategies and verifying whether the model holds. For any trading data within the day, we have checked the following arbitrage violations:\n",
        "\n",
        "\n",
        "* Calendar Spread Arbitrage. For same strike and delta, check if longer maturity has lower volatility\n",
        "* Monotonicity in Delta. For same maturity, check if volatility is monotonic in delta\n",
        "* Butterfly Arbitrage. For same maturity and delta, check convexity in strike\n",
        "\n",
        "As we can see, there is a arbitrage violation for the Monotonicity in Delta and butterfly spread."
      ]
    },
    {
      "cell_type": "code",
      "execution_count": 14,
      "metadata": {
        "id": "A-X-GuQ4I-u7"
      },
      "outputs": [],
      "source": [
        "class ArbitrageChecker:\n",
        "    def __init__(self, df: pd.DataFrame):\n",
        "        \"\"\"\n",
        "        Initialize the arbitrage checker with a DataFrame containing options data.\n",
        "\n",
        "        The DataFrame should include the following columns:\n",
        "            - Date\n",
        "            - Strike\n",
        "            - Delta\n",
        "            - Volatility\n",
        "            - Maturity\n",
        "\n",
        "        Args:\n",
        "            df (pd.DataFrame): The options data.\n",
        "        \"\"\"\n",
        "        # Sort the DataFrame for consistent group operations.\n",
        "        self.df_sorted = df.sort_values(['Date', 'Maturity', 'Strike', 'Delta'])\n",
        "        # Containers for reporting violations and computed arbitrage bounds.\n",
        "        self.violations = {\n",
        "            'calendar_spread': [],\n",
        "            'monotonicity_delta': [],\n",
        "            'butterfly': []\n",
        "        }\n",
        "\n",
        "    def check_calendar_spread(self, date, group_array):\n",
        "        \"\"\"\n",
        "        Check for calendar spread arbitrage violations.\n",
        "\n",
        "        For each strike, the volatility for longer maturities should be\n",
        "        at least as high as for shorter maturities. When a violation is found\n",
        "        (i.e. vol_short > vol_long), the arbitrage-free condition for the longer maturity\n",
        "        option is that its volatility should be at least the short maturity volatility.\n",
        "\n",
        "        Args:\n",
        "            date: The date of the options data.\n",
        "            group_array (np.array): Array with columns [Strike, Delta, Volatility, Maturity].\n",
        "        \"\"\"\n",
        "        unique_strikes = np.unique(group_array[:, 0])\n",
        "        for strike in unique_strikes:\n",
        "            strike_indices = np.where(group_array[:, 0] == strike)[0]\n",
        "            if len(strike_indices) <= 1:\n",
        "                continue\n",
        "\n",
        "            # Select data for this strike and sort by increasing maturity.\n",
        "            strike_data = group_array[strike_indices]\n",
        "            maturity_order = np.argsort(strike_data[:, 3])\n",
        "            sorted_data = strike_data[maturity_order]\n",
        "            vols = sorted_data[:, 2]\n",
        "            maturities = sorted_data[:, 3]\n",
        "\n",
        "            # Check sequential pairs for violation: vol1 should be <= vol2.\n",
        "            for i in range(len(sorted_data) - 1):\n",
        "                vol1 = vols[i]\n",
        "                vol2 = vols[i+1]\n",
        "                if vol1 > vol2:\n",
        "                    # Violation detected.\n",
        "                    # Arbitrage-free condition: For the longer maturity, vol >= vol1.\n",
        "                    arbitrage_bound = vol1\n",
        "                    self.violations['calendar_spread'].append({\n",
        "                        'date': date,\n",
        "                        'strike': strike,\n",
        "                        'delta': sorted_data[i, 1],\n",
        "                        'maturity1': maturities[i],\n",
        "                        'maturity2': maturities[i+1],\n",
        "                        'vol1': vol1,\n",
        "                        'vol2': vol2,\n",
        "                        'arbitrage_free_bound_for_vol2': arbitrage_bound,\n",
        "                        'adjustment': f\"Increase vol2 from {vol2:.4f} to at least {arbitrage_bound:.4f} or decrease vol1\"\n",
        "                    })\n",
        "\n",
        "    def check_butterfly(self, date, group_array):\n",
        "        \"\"\"\n",
        "        Check for butterfly arbitrage violations.\n",
        "\n",
        "        For a triplet of strikes (k1, k2, k3) with corresponding volatilities (v1, v2, v3),\n",
        "        the volatility at the middle strike (v2) should not exceed the linearly interpolated value\n",
        "        from v1 and v3 by more than a small threshold.\n",
        "\n",
        "        If a violation is detected, the arbitrage-free upper bound for v2 is:\n",
        "            interpolated_vol + threshold.\n",
        "\n",
        "        Args:\n",
        "            date: The date of the options data.\n",
        "            group_array (np.array): Array with columns [Strike, Delta, Volatility, Maturity].\n",
        "        \"\"\"\n",
        "        BUTTERFLY_THRESHOLD = 0.001\n",
        "        unique_maturities = np.unique(group_array[:, 3])\n",
        "        for maturity in unique_maturities:\n",
        "            maturity_indices = np.where(group_array[:, 3] == maturity)[0]\n",
        "            maturity_data = group_array[maturity_indices]\n",
        "            if len(maturity_data) < 3:\n",
        "                continue\n",
        "\n",
        "            # Sort by strike.\n",
        "            strike_order = np.argsort(maturity_data[:, 0])\n",
        "            sorted_data = maturity_data[strike_order]\n",
        "            strikes = sorted_data[:, 0]\n",
        "            deltas = sorted_data[:, 1]\n",
        "            vols = sorted_data[:, 2]\n",
        "\n",
        "            # Evaluate triplets.\n",
        "            for i in range(len(sorted_data) - 2):\n",
        "                k1, k2, k3 = strikes[i:i+3]\n",
        "                if not (k1 < k2 < k3):\n",
        "                    continue\n",
        "                v1, v2, v3 = vols[i:i+3]\n",
        "\n",
        "                # Compute linear interpolation for the middle strike.\n",
        "                interpolated_vol = (v1 * (k3 - k2) + v3 * (k2 - k1)) / (k3 - k1)\n",
        "                if (v2 - interpolated_vol) > BUTTERFLY_THRESHOLD:\n",
        "                    # Violation: v2 is too high.\n",
        "                    arbitrage_bound = interpolated_vol + BUTTERFLY_THRESHOLD\n",
        "                    self.violations['butterfly'].append({\n",
        "                        'date': date,\n",
        "                        'maturity': maturity,\n",
        "                        'delta': deltas[i+1],\n",
        "                        'strikes': [k1, k2, k3],\n",
        "                        'vols': [v1, v2, v3],\n",
        "                        'interpolated_vol': interpolated_vol,\n",
        "                        'violation_size': v2 - interpolated_vol,\n",
        "                        'arbitrage_free_upper_bound_for_v2': arbitrage_bound,\n",
        "                        'adjustment': f\"Decrease v2 from {v2:.4f} to at most {arbitrage_bound:.4f}\"\n",
        "                    })\n",
        "\n",
        "    def check_delta_monotonicity(self, date, group_array):\n",
        "        \"\"\"\n",
        "        Check for delta monotonicity arbitrage violations.\n",
        "\n",
        "        For a given maturity:\n",
        "          - When delta < 0.5, the volatility should not drop too steeply (i.e. vol2 should be >= vol1).\n",
        "          - When delta >= 0.5, the volatility should not increase too steeply (i.e. vol2 should be <= vol1).\n",
        "\n",
        "        If a violation is detected, the arbitrage-free bound for the second option is simply the volatility\n",
        "        of the first option.\n",
        "\n",
        "        Args:\n",
        "            date: The date of the options data.\n",
        "            group_array (np.array): Array with columns [Strike, Delta, Volatility, Maturity].\n",
        "        \"\"\"\n",
        "        TOLERANCE = 0.01\n",
        "        unique_maturities = np.unique(group_array[:, 3])\n",
        "        for maturity in unique_maturities:\n",
        "            maturity_indices = np.where(group_array[:, 3] == maturity)[0]\n",
        "            maturity_data = group_array[maturity_indices]\n",
        "            # Sort by delta.\n",
        "            delta_order = np.argsort(maturity_data[:, 1])\n",
        "            sorted_data = maturity_data[delta_order]\n",
        "            deltas = sorted_data[:, 1]\n",
        "            vols = sorted_data[:, 2]\n",
        "\n",
        "            for i in range(len(sorted_data) - 1):\n",
        "                vol1 = vols[i]\n",
        "                vol2 = vols[i+1]\n",
        "                delta1 = deltas[i]\n",
        "                delta2 = deltas[i+1]\n",
        "                vol_change = vol2 - vol1\n",
        "\n",
        "                # For low deltas, volatility should not drop significantly.\n",
        "                if delta1 < 0.5 and vol_change < -TOLERANCE:\n",
        "                    arbitrage_bound = vol1  # v2 should be at least v1.\n",
        "                    self.violations['monotonicity_delta'].append({\n",
        "                        'date': date,\n",
        "                        'maturity': maturity,\n",
        "                        'delta1': delta1,\n",
        "                        'delta2': delta2,\n",
        "                        'vol1': vol1,\n",
        "                        'vol2': vol2,\n",
        "                        'violation_size': abs(vol_change),\n",
        "                        'arbitrage_free_lower_bound_for_vol2': arbitrage_bound,\n",
        "                        'adjustment': f\"Increase vol2 from {vol2:.4f} to at least {arbitrage_bound:.4f}\"\n",
        "                    })\n",
        "\n",
        "                # For high deltas, volatility should not rise significantly.\n",
        "                elif delta1 >= 0.5 and vol_change > TOLERANCE:\n",
        "                    arbitrage_bound = vol1  # v2 should be at most v1.\n",
        "                    self.violations['monotonicity_delta'].append({\n",
        "                        'date': date,\n",
        "                        'maturity': maturity,\n",
        "                        'delta1': delta1,\n",
        "                        'delta2': delta2,\n",
        "                        'vol1': vol1,\n",
        "                        'vol2': vol2,\n",
        "                        'violation_size': abs(vol_change),\n",
        "                        'arbitrage_free_upper_bound_for_vol2': arbitrage_bound,\n",
        "                        'adjustment': f\"Decrease vol2 from {vol2:.4f} to at most {arbitrage_bound:.4f}\"\n",
        "                    })\n",
        "\n",
        "    def check_all_violations(self):\n",
        "        \"\"\"\n",
        "        Check for all types of arbitrage violations in the dataset.\n",
        "\n",
        "        This method groups the data by Date and then applies all three arbitrage checks.\n",
        "        It returns a dictionary containing lists of violation details (including suggested adjustments).\n",
        "\n",
        "        Returns:\n",
        "            dict: Dictionary with keys 'calendar_spread', 'monotonicity_delta', 'butterfly'.\n",
        "        \"\"\"\n",
        "        for date, group in self.df_sorted.groupby('Date'):\n",
        "            group_array = group[['Strike', 'Delta', 'Volatility', 'Maturity']].to_numpy()\n",
        "            self.check_calendar_spread(date, group_array)\n",
        "            self.check_delta_monotonicity(date, group_array)\n",
        "            self.check_butterfly(date, group_array)\n",
        "        return self.violations\n"
      ]
    },
    {
      "cell_type": "code",
      "execution_count": 15,
      "metadata": {
        "id": "_UkdKgeoLoWq"
      },
      "outputs": [],
      "source": [
        "def format_violation_sample(violation, violation_type):\n",
        "    \"\"\"Format a sample violation for display, including arbitrage bounds and adjustments.\"\"\"\n",
        "    if violation_type == 'calendar_spread':\n",
        "        return (\n",
        "            f\"Date: {violation['date']}, Strike: {violation['strike']:.2f}\\n\"\n",
        "            f\"T1: {violation['maturity1']:.3f}, Vol1: {violation['vol1']:.4f}\\n\"\n",
        "            f\"T2: {violation['maturity2']:.3f}, Vol2: {violation['vol2']:.4f}\\n\"\n",
        "            f\"Arb Bound for T2 Vol: {violation['arbitrage_free_bound_for_vol2']:.4f}\\n\"\n",
        "            f\"Adjustment: {violation['adjustment']}\"\n",
        "        )\n",
        "    elif violation_type == 'monotonicity_delta':\n",
        "        # Controlla se è presente un bound inferiore o superiore.\n",
        "        if 'arbitrage_free_lower_bound_for_vol2' in violation:\n",
        "            arb_bound_str = f\"Arb Bound for Vol2 (min): {violation['arbitrage_free_lower_bound_for_vol2']:.4f}\"\n",
        "        elif 'arbitrage_free_upper_bound_for_vol2' in violation:\n",
        "            arb_bound_str = f\"Arb Bound for Vol2 (max): {violation['arbitrage_free_upper_bound_for_vol2']:.4f}\"\n",
        "        else:\n",
        "            arb_bound_str = \"\"\n",
        "        return (\n",
        "            f\"Date: {violation['date']}, Maturity: {violation['maturity']:.3f}\\n\"\n",
        "            f\"Delta1: {violation['delta1']:.2f}, Vol1: {violation['vol1']:.4f}\\n\"\n",
        "            f\"Delta2: {violation['delta2']:.2f}, Vol2: {violation['vol2']:.4f}\\n\"\n",
        "            f\"{arb_bound_str}\\n\"\n",
        "            f\"Adjustment: {violation['adjustment']}\"\n",
        "        )\n",
        "    else:  # butterfly\n",
        "        return (\n",
        "            f\"Date: {violation['date']}, Maturity: {violation['maturity']:.3f}\\n\"\n",
        "            f\"Strikes: [{violation['strikes'][0]:.1f}, {violation['strikes'][1]:.1f}, {violation['strikes'][2]:.1f}]\\n\"\n",
        "            f\"Vols: [{violation['vols'][0]:.4f}, {violation['vols'][1]:.4f}, {violation['vols'][2]:.4f}]\\n\"\n",
        "            f\"Interpolated Vol: {violation['interpolated_vol']:.4f}\\n\"\n",
        "            f\"Arb Bound for Middle Vol: {violation['arbitrage_free_upper_bound_for_v2']:.4f}\\n\"\n",
        "            f\"Adjustment: {violation['adjustment']}\"\n",
        "        )\n",
        "\n",
        "def print_arbitrage_summary(violations):\n",
        "    \"\"\"Print a summary of found arbitrage violations, including bounds and adjustments.\"\"\"\n",
        "    print(\"\\nArbitrage Analysis Summary:\")\n",
        "    print(\"-\" * 50)\n",
        "\n",
        "    violation_types = {\n",
        "        'calendar_spread': 'Calendar Spread Arbitrage Violations',\n",
        "        'monotonicity_delta': 'Delta Monotonicity Violations',\n",
        "        'butterfly': 'Butterfly Arbitrage Violations'\n",
        "    }\n",
        "\n",
        "    for violation_type, description in violation_types.items():\n",
        "        violations_list = violations.get(violation_type, [])\n",
        "        print(f\"\\n{description}: {len(violations_list)}\")\n",
        "        if violations_list:\n",
        "            print(\"Sample violation:\")\n",
        "            print(format_violation_sample(violations_list[0], violation_type))\n"
      ]
    },
    {
      "cell_type": "code",
      "execution_count": 16,
      "metadata": {
        "colab": {
          "base_uri": "https://localhost:8080/"
        },
        "id": "VS1jcjoGIs3G",
        "outputId": "2784a196-599d-43eb-fe49-4ce25369db25"
      },
      "outputs": [
        {
          "name": "stdout",
          "output_type": "stream",
          "text": [
            "\n",
            "Arbitrage Analysis Summary:\n",
            "--------------------------------------------------\n",
            "\n",
            "Calendar Spread Arbitrage Violations: 0\n",
            "\n",
            "Delta Monotonicity Violations: 54451\n",
            "Sample violation:\n",
            "Date: 2000-01-03 00:00:00, Maturity: 0.082\n",
            "Delta1: 0.50, Vol1: 0.2050\n",
            "Delta2: 0.75, Vol2: 0.2372\n",
            "Arb Bound for Vol2 (max): 0.2050\n",
            "Adjustment: Decrease vol2 from 0.2372 to at most 0.2050\n",
            "\n",
            "Butterfly Arbitrage Violations: 19538\n",
            "Sample violation:\n",
            "Date: 2000-01-03 00:00:00, Maturity: 0.082\n",
            "Strikes: [1329.2, 1398.9, 1463.8]\n",
            "Vols: [0.2651, 0.2372, 0.2050]\n",
            "Interpolated Vol: 0.2340\n",
            "Arb Bound for Middle Vol: 0.2350\n",
            "Adjustment: Decrease v2 from 0.2372 to at most 0.2350\n"
          ]
        }
      ],
      "source": [
        "arb_check = ArbitrageChecker(df)\n",
        "violations = arb_check.check_all_violations()\n",
        "print_arbitrage_summary(violations)"
      ]
    },
    {
      "cell_type": "markdown",
      "metadata": {
        "id": "CmhLidecQgzA"
      },
      "source": [
        "# Profit & Loss simulation"
      ]
    },
    {
      "cell_type": "markdown",
      "metadata": {
        "id": "eTAGhI5QQoKQ"
      },
      "source": [
        "Testing the previous hypothesis, we implement a profitable naive strategy from the violation of the main arbitrage conditions tested previously."
      ]
    },
    {
      "cell_type": "code",
      "execution_count": 17,
      "metadata": {
        "colab": {
          "base_uri": "https://localhost:8080/",
          "height": 1000
        },
        "id": "eYxpDkJwadHj",
        "outputId": "3b453694-368e-4fe4-da91-38da6a6f13c7"
      },
      "outputs": [
        {
          "name": "stdout",
          "output_type": "stream",
          "text": [
            "\n",
            "Final Cumulative PnL: $251129.64\n"
          ]
        },
        {
          "data": {
            "image/png": "[encoded data removed]",
            "text/plain": [
              "<Figure size 1000x500 with 1 Axes>"
            ]
          },
          "metadata": {},
          "output_type": "display_data"
        },
        {
          "data": {
            "image/png": "[encoded data removed]",
            "text/plain": [
              "<Figure size 1200x600 with 1 Axes>"
            ]
          },
          "metadata": {},
          "output_type": "display_data"
        }
      ],
      "source": [
        "def backtest_strategy(df, strategy_fn, initial_capital=100):\n",
        "    trades = strategy_fn(df)\n",
        "    trades['cumulative_PnL'] = trades['PnL'].cumsum() + initial_capital\n",
        "\n",
        "    if 'Date' in df.columns:\n",
        "        trades['Date'] = df['Date'].iloc[:len(trades)]\n",
        "\n",
        "    return trades\n",
        "\n",
        "\n",
        "# Butterfly arbitrage strategy\n",
        "def butterfly_arbitrage_strategy(df):\n",
        "    arb_check = ArbitrageChecker(df)\n",
        "    violations = arb_check.check_all_violations()\n",
        "    butterfly_trades = pd.DataFrame(violations['butterfly'])\n",
        "\n",
        "    if butterfly_trades.empty:\n",
        "        return pd.DataFrame(columns=['Date', 'PnL'])\n",
        "\n",
        "    butterfly_trades['PnL'] = np.sign(butterfly_trades['violation_size']) * np.abs(butterfly_trades['violation_size']) * 100\n",
        "\n",
        "    if 'Date' in df.columns:\n",
        "        butterfly_trades['Date'] = df['Date'].iloc[:len(butterfly_trades)]\n",
        "\n",
        "    return butterfly_trades[['Date', 'PnL']]\n",
        "\n",
        "\n",
        "# Delta monotonicity arbitrage strategy\n",
        "def delta_monotonicity_strategy(df):\n",
        "    arb_check = ArbitrageChecker(df)\n",
        "    violations = arb_check.check_all_violations()\n",
        "    delta_trades = pd.DataFrame(violations['monotonicity_delta'])\n",
        "\n",
        "    if delta_trades.empty:\n",
        "        return pd.DataFrame(columns=['Date', 'PnL'])\n",
        "\n",
        "    delta_trades['PnL'] = np.sign(delta_trades['vol2'] - delta_trades['vol1']) * np.abs(delta_trades['vol2'] - delta_trades['vol1']) * 100\n",
        "\n",
        "    if 'Date' in df.columns:\n",
        "        delta_trades['Date'] = df['Date'].iloc[:len(delta_trades)]\n",
        "\n",
        "    return delta_trades[['Date', 'PnL']]\n",
        "\n",
        "\n",
        "# Combined strategy execution\n",
        "def combined_strategy(df):\n",
        "    butterfly_results = butterfly_arbitrage_strategy(df)\n",
        "    delta_results = delta_monotonicity_strategy(df)\n",
        "\n",
        "    # Merge both strategies' trades and sort by Date\n",
        "    combined_results = pd.concat([butterfly_results, delta_results]).sort_values(by=\"Date\").reset_index(drop=True)\n",
        "\n",
        "    return combined_results\n",
        "\n",
        "# Print final cumulative PnL\n",
        "results = backtest_strategy(df, combined_strategy)\n",
        "final_pnl = results[\"cumulative_PnL\"].iloc[-1]\n",
        "print(f\"\\nFinal Cumulative PnL: ${final_pnl:.2f}\")\n",
        "\n",
        "def plot_backtest_results(results):\n",
        "    plt.figure(figsize=(12, 6))\n",
        "    plt.plot(results[\"Date\"], results[\"cumulative_PnL\"], label=\"Cumulative PnL\", color='b', linewidth=2, marker='o', markersize=4)\n",
        "\n",
        "    plt.fill_between(results[\"Date\"], results[\"cumulative_PnL\"], alpha=0.2, color='blue')\n",
        "\n",
        "    plt.xlabel(\"Date\", fontsize=12)\n",
        "    plt.ylabel(\"Cumulative PnL ($)\", fontsize=12)\n",
        "    plt.title(\"Backtest Performance - Cumulative PnL\", fontsize=14, fontweight='bold')\n",
        "\n",
        "    plt.grid(True, linestyle='--', alpha=0.7)\n",
        "    plt.legend()\n",
        "\n",
        "    plt.xticks(rotation=45)\n",
        "\n",
        "    plt.show()\n",
        "\n",
        "def plot_pnl_distribution(results):\n",
        "    plt.figure(figsize=(10, 5))\n",
        "    plt.hist(results[\"PnL\"], bins=50, edgecolor=\"black\", alpha=0.7)\n",
        "\n",
        "    plt.axvline(results[\"PnL\"].mean(), color='red', linestyle='dashed', linewidth=2, label=f\"Mean PnL: {results['PnL'].mean():.2f}\")\n",
        "\n",
        "    plt.xlabel(\"Daily PnL ($)\", fontsize=12)\n",
        "    plt.ylabel(\"Frequency\", fontsize=12)\n",
        "    plt.title(\"Distribution of Daily PnL\", fontsize=14, fontweight='bold')\n",
        "    plt.legend()\n",
        "    plt.grid(alpha=0.3)\n",
        "\n",
        "    plt.show()\n",
        "\n",
        "plot_pnl_distribution(results)\n",
        "plot_backtest_results(results)"
      ]
    },
    {
      "cell_type": "markdown",
      "metadata": {
        "id": "miwIyon9JMxw"
      },
      "source": [
        "# CONCLUSIONS\n",
        "\n",
        "The dataset provides some arbitrage opportunities mainly connected to some discrepancies between the interpolated volatility and the actual one. By checking the associated paper of the student this may due to the fact that the volatility is not the realized one for every contract, but the interpolated one. This may explain why there are such opportunities and that the interpolated one may be incorrect due to numerical approximation."
      ]
    },
    {
      "cell_type": "code",
      "execution_count": null,
      "metadata": {
        "id": "CNzYAf21aLdL"
      },
      "outputs": [],
      "source": []
    }
  ],
  "metadata": {
    "colab": {
      "provenance": []
    },
    "kernelspec": {
      "display_name": "Python 3",
      "name": "python3"
    },
    "language_info": {
      "codemirror_mode": {
        "name": "ipython",
        "version": 3
      },
      "file_extension": ".py",
      "mimetype": "text/x-python",
      "name": "python",
      "nbconvert_exporter": "python",
      "pygments_lexer": "ipython3",
      "version": "3.11.9"
    }
  },
  "nbformat": 4,
  "nbformat_minor": 0
}
