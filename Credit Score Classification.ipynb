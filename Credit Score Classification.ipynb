{
  "cells": [
    {
      "cell_type": "markdown",
      "id": "81078191",
      "metadata": {},
      "source": [
        "# Introduction\n",
        "We predict user's credit score by testing a set of classification algorithms: KNN, Decision Tree, Random Forest. We also use Nested K-Fold Cross-Validation on Decision Tree to obtain a more robust evaluation of the model through hyperparameters tuning. We find that Random Forest Classifier is the best predictor with an accuracy of 80% on the test set"
      ]
    },
    {
      "cell_type": "code",
      "execution_count": 1,
      "id": "32ba0364",
      "metadata": {
        "id": "32ba0364"
      },
      "outputs": [],
      "source": [
        "import numpy as np\n",
        "import pandas as pd\n",
        "import matplotlib.pyplot as plt\n",
        "import seaborn as sns"
      ]
    },
    {
      "cell_type": "markdown",
      "id": "748f5fc1",
      "metadata": {
        "id": "748f5fc1"
      },
      "source": [
        "### Credit score classification dataset\n",
        "\n",
        "Source: https://www.kaggle.com/datasets/parisrohan/credit-score-classification\n",
        "\n",
        "\n",
        "- **Dataset:** Credit Score Dataset  \n",
        "- **Content:** Customer demographic, financial, and credit history data.  \n",
        "- **Number of Rows:** 100\n",
        "- **Number of Columns:** 28  \n",
        "\n",
        "| **No** | **INPUTS**                  | **Description**                                                                                  |\n",
        "|-------|-----------------------------|--------------------------------------------------------------------------------------------------|\n",
        "| 1     | **ID**                       | Unique identifier for each record.                                                               |\n",
        "| 2     | **Customer_ID**              | Unique identifier for each customer.                                                             |\n",
        "| 3     | **Month**                    | Month of the transaction or record.                                                              |\n",
        "| 4     | **Name**                     | Customer’s name.                                                                                 |\n",
        "| 5     | **Age**                      | The customer’s age.                                                                              |\n",
        "| 6     | **SSN**                      | Customer’s social security number.                                                               |\n",
        "| 7     | **Occupation**               | The customer’s occupation.                                                                       |\n",
        "| 8     | **Annual_Income**            | The customer’s annual income.                                                                    |\n",
        "| 9     | **Monthly_Inhand_Salary**    | The customer’s monthly take-home salary.                                                         |\n",
        "| 10    | **Num_Bank_Accounts**        | Total number of bank accounts owned by the customer.                                            |\n",
        "| 11    | **Num_Credit_Card**          | Total number of credit cards held by the customer.                                              |\n",
        "| 12    | **Interest_Rate**            | The interest rate applied to loans or credits.                                                  |\n",
        "| 13    | **Num_of_Loan**              | Number of loans the customer has taken.                                                          |\n",
        "| 14    | **Type_of_Loan**             | Categories of loans obtained by the customer.                                                   |\n",
        "| 15    | **Delay_from_due_date**      | The delay in payment relative to the due date.                                                 |\n",
        "| 16    | **Num_of_Delayed_Payment**   | Total instances of late payments made by the customer.                                          |\n",
        "| 17    | **Changed_Credit_Limit**     | Adjustments made to the customer’s credit limit.                                               |\n",
        "| 18    | **Num_Credit_Inquiries**     | Number of inquiries made regarding the customer's credit.                                       |\n",
        "| 19    | **Credit_Mix**               | The variety of credit types the customer uses (e.g., loans, credit cards).                     |\n",
        "| 20    | **Outstanding_Debt**         | Total amount of debt the customer currently owes.                                              |\n",
        "| 21    | **Credit_Utilization_Ratio** | Proportion of credit used compared to the total credit limit.                                   |\n",
        "| 22    | **Credit_History_Age**       | Duration of the customer’s credit history.                                                      |\n",
        "| 23    | **Payment_of_Min_Amount**    | Indicates if the customer pays the minimum required amount each month.                         |\n",
        "| 24    | **Total_EMI_per_month**      | Total Equated Monthly Installment (EMI) paid by the customer.                                   |\n",
        "| 25    | **Amount_invested_monthly**  | Monthly investment amount made by the customer.                                                 |\n",
        "| 26    | **Payment_Behaviour**        | Customer’s payment habits and tendencies.                                                       |\n",
        "| 27    | **Monthly_Balance**          | The remaining balance in the customer’s account at the end of each month.                      |\n",
        "| 28    | **Credit_Score**             | The customer’s credit score (target variable: \"Good,\" \"Poor,\" \"Standard\").                     |\n"
      ]
    },
    {
      "cell_type": "code",
      "execution_count": 3,
      "id": "af62e66e",
      "metadata": {
        "colab": {
          "base_uri": "https://localhost:8080/",
          "height": 791
        },
        "id": "af62e66e",
        "outputId": "0f1d2279-e5ae-4ee3-ed56-c8e7c28042ba"
      },
      "outputs": [
        {
          "data": {
            "text/html": [
              "<div>\n",
              "<style scoped>\n",
              "    .dataframe tbody tr th:only-of-type {\n",
              "        vertical-align: middle;\n",
              "    }\n",
              "\n",
              "    .dataframe tbody tr th {\n",
              "        vertical-align: top;\n",
              "    }\n",
              "\n",
              "    .dataframe thead th {\n",
              "        text-align: right;\n",
              "    }\n",
              "</style>\n",
              "<table border=\"1\" class=\"dataframe\">\n",
              "  <thead>\n",
              "    <tr style=\"text-align: right;\">\n",
              "      <th></th>\n",
              "      <th>ID</th>\n",
              "      <th>Customer_ID</th>\n",
              "      <th>Month</th>\n",
              "      <th>Name</th>\n",
              "      <th>Age</th>\n",
              "      <th>SSN</th>\n",
              "      <th>Occupation</th>\n",
              "      <th>Annual_Income</th>\n",
              "      <th>Monthly_Inhand_Salary</th>\n",
              "      <th>Num_Bank_Accounts</th>\n",
              "      <th>...</th>\n",
              "      <th>Credit_Mix</th>\n",
              "      <th>Outstanding_Debt</th>\n",
              "      <th>Credit_Utilization_Ratio</th>\n",
              "      <th>Credit_History_Age</th>\n",
              "      <th>Payment_of_Min_Amount</th>\n",
              "      <th>Total_EMI_per_month</th>\n",
              "      <th>Amount_invested_monthly</th>\n",
              "      <th>Payment_Behaviour</th>\n",
              "      <th>Monthly_Balance</th>\n",
              "      <th>Credit_Score</th>\n",
              "    </tr>\n",
              "  </thead>\n",
              "  <tbody>\n",
              "    <tr>\n",
              "      <th>0</th>\n",
              "      <td>0x1602</td>\n",
              "      <td>CUS_0xd40</td>\n",
              "      <td>January</td>\n",
              "      <td>Aaron Maashoh</td>\n",
              "      <td>23</td>\n",
              "      <td>821-00-0265</td>\n",
              "      <td>Scientist</td>\n",
              "      <td>19114.12</td>\n",
              "      <td>1824.843333</td>\n",
              "      <td>3</td>\n",
              "      <td>...</td>\n",
              "      <td>_</td>\n",
              "      <td>809.98</td>\n",
              "      <td>26.822620</td>\n",
              "      <td>22 Years and 1 Months</td>\n",
              "      <td>No</td>\n",
              "      <td>49.574949</td>\n",
              "      <td>80.41529543900253</td>\n",
              "      <td>High_spent_Small_value_payments</td>\n",
              "      <td>312.49408867943663</td>\n",
              "      <td>Good</td>\n",
              "    </tr>\n",
              "    <tr>\n",
              "      <th>1</th>\n",
              "      <td>0x1603</td>\n",
              "      <td>CUS_0xd40</td>\n",
              "      <td>February</td>\n",
              "      <td>Aaron Maashoh</td>\n",
              "      <td>23</td>\n",
              "      <td>821-00-0265</td>\n",
              "      <td>Scientist</td>\n",
              "      <td>19114.12</td>\n",
              "      <td>NaN</td>\n",
              "      <td>3</td>\n",
              "      <td>...</td>\n",
              "      <td>Good</td>\n",
              "      <td>809.98</td>\n",
              "      <td>31.944960</td>\n",
              "      <td>NaN</td>\n",
              "      <td>No</td>\n",
              "      <td>49.574949</td>\n",
              "      <td>118.28022162236736</td>\n",
              "      <td>Low_spent_Large_value_payments</td>\n",
              "      <td>284.62916249607184</td>\n",
              "      <td>Good</td>\n",
              "    </tr>\n",
              "    <tr>\n",
              "      <th>2</th>\n",
              "      <td>0x1604</td>\n",
              "      <td>CUS_0xd40</td>\n",
              "      <td>March</td>\n",
              "      <td>Aaron Maashoh</td>\n",
              "      <td>-500</td>\n",
              "      <td>821-00-0265</td>\n",
              "      <td>Scientist</td>\n",
              "      <td>19114.12</td>\n",
              "      <td>NaN</td>\n",
              "      <td>3</td>\n",
              "      <td>...</td>\n",
              "      <td>Good</td>\n",
              "      <td>809.98</td>\n",
              "      <td>28.609352</td>\n",
              "      <td>22 Years and 3 Months</td>\n",
              "      <td>No</td>\n",
              "      <td>49.574949</td>\n",
              "      <td>81.699521264648</td>\n",
              "      <td>Low_spent_Medium_value_payments</td>\n",
              "      <td>331.2098628537912</td>\n",
              "      <td>Good</td>\n",
              "    </tr>\n",
              "    <tr>\n",
              "      <th>3</th>\n",
              "      <td>0x1605</td>\n",
              "      <td>CUS_0xd40</td>\n",
              "      <td>April</td>\n",
              "      <td>Aaron Maashoh</td>\n",
              "      <td>23</td>\n",
              "      <td>821-00-0265</td>\n",
              "      <td>Scientist</td>\n",
              "      <td>19114.12</td>\n",
              "      <td>NaN</td>\n",
              "      <td>3</td>\n",
              "      <td>...</td>\n",
              "      <td>Good</td>\n",
              "      <td>809.98</td>\n",
              "      <td>31.377862</td>\n",
              "      <td>22 Years and 4 Months</td>\n",
              "      <td>No</td>\n",
              "      <td>49.574949</td>\n",
              "      <td>199.4580743910713</td>\n",
              "      <td>Low_spent_Small_value_payments</td>\n",
              "      <td>223.45130972736786</td>\n",
              "      <td>Good</td>\n",
              "    </tr>\n",
              "    <tr>\n",
              "      <th>4</th>\n",
              "      <td>0x1606</td>\n",
              "      <td>CUS_0xd40</td>\n",
              "      <td>May</td>\n",
              "      <td>Aaron Maashoh</td>\n",
              "      <td>23</td>\n",
              "      <td>821-00-0265</td>\n",
              "      <td>Scientist</td>\n",
              "      <td>19114.12</td>\n",
              "      <td>1824.843333</td>\n",
              "      <td>3</td>\n",
              "      <td>...</td>\n",
              "      <td>Good</td>\n",
              "      <td>809.98</td>\n",
              "      <td>24.797347</td>\n",
              "      <td>22 Years and 5 Months</td>\n",
              "      <td>No</td>\n",
              "      <td>49.574949</td>\n",
              "      <td>41.420153086217326</td>\n",
              "      <td>High_spent_Medium_value_payments</td>\n",
              "      <td>341.48923103222177</td>\n",
              "      <td>Good</td>\n",
              "    </tr>\n",
              "    <tr>\n",
              "      <th>...</th>\n",
              "      <td>...</td>\n",
              "      <td>...</td>\n",
              "      <td>...</td>\n",
              "      <td>...</td>\n",
              "      <td>...</td>\n",
              "      <td>...</td>\n",
              "      <td>...</td>\n",
              "      <td>...</td>\n",
              "      <td>...</td>\n",
              "      <td>...</td>\n",
              "      <td>...</td>\n",
              "      <td>...</td>\n",
              "      <td>...</td>\n",
              "      <td>...</td>\n",
              "      <td>...</td>\n",
              "      <td>...</td>\n",
              "      <td>...</td>\n",
              "      <td>...</td>\n",
              "      <td>...</td>\n",
              "      <td>...</td>\n",
              "      <td>...</td>\n",
              "    </tr>\n",
              "    <tr>\n",
              "      <th>99995</th>\n",
              "      <td>0x25fe9</td>\n",
              "      <td>CUS_0x942c</td>\n",
              "      <td>April</td>\n",
              "      <td>Nicks</td>\n",
              "      <td>25</td>\n",
              "      <td>078-73-5990</td>\n",
              "      <td>Mechanic</td>\n",
              "      <td>39628.99</td>\n",
              "      <td>3359.415833</td>\n",
              "      <td>4</td>\n",
              "      <td>...</td>\n",
              "      <td>_</td>\n",
              "      <td>502.38</td>\n",
              "      <td>34.663572</td>\n",
              "      <td>31 Years and 6 Months</td>\n",
              "      <td>No</td>\n",
              "      <td>35.104023</td>\n",
              "      <td>60.97133255718485</td>\n",
              "      <td>High_spent_Large_value_payments</td>\n",
              "      <td>479.86622816574095</td>\n",
              "      <td>Poor</td>\n",
              "    </tr>\n",
              "    <tr>\n",
              "      <th>99996</th>\n",
              "      <td>0x25fea</td>\n",
              "      <td>CUS_0x942c</td>\n",
              "      <td>May</td>\n",
              "      <td>Nicks</td>\n",
              "      <td>25</td>\n",
              "      <td>078-73-5990</td>\n",
              "      <td>Mechanic</td>\n",
              "      <td>39628.99</td>\n",
              "      <td>3359.415833</td>\n",
              "      <td>4</td>\n",
              "      <td>...</td>\n",
              "      <td>_</td>\n",
              "      <td>502.38</td>\n",
              "      <td>40.565631</td>\n",
              "      <td>31 Years and 7 Months</td>\n",
              "      <td>No</td>\n",
              "      <td>35.104023</td>\n",
              "      <td>54.18595028760385</td>\n",
              "      <td>High_spent_Medium_value_payments</td>\n",
              "      <td>496.651610435322</td>\n",
              "      <td>Poor</td>\n",
              "    </tr>\n",
              "    <tr>\n",
              "      <th>99997</th>\n",
              "      <td>0x25feb</td>\n",
              "      <td>CUS_0x942c</td>\n",
              "      <td>June</td>\n",
              "      <td>Nicks</td>\n",
              "      <td>25</td>\n",
              "      <td>078-73-5990</td>\n",
              "      <td>Mechanic</td>\n",
              "      <td>39628.99</td>\n",
              "      <td>3359.415833</td>\n",
              "      <td>4</td>\n",
              "      <td>...</td>\n",
              "      <td>Good</td>\n",
              "      <td>502.38</td>\n",
              "      <td>41.255522</td>\n",
              "      <td>31 Years and 8 Months</td>\n",
              "      <td>No</td>\n",
              "      <td>35.104023</td>\n",
              "      <td>24.02847744864441</td>\n",
              "      <td>High_spent_Large_value_payments</td>\n",
              "      <td>516.8090832742814</td>\n",
              "      <td>Poor</td>\n",
              "    </tr>\n",
              "    <tr>\n",
              "      <th>99998</th>\n",
              "      <td>0x25fec</td>\n",
              "      <td>CUS_0x942c</td>\n",
              "      <td>July</td>\n",
              "      <td>Nicks</td>\n",
              "      <td>25</td>\n",
              "      <td>078-73-5990</td>\n",
              "      <td>Mechanic</td>\n",
              "      <td>39628.99</td>\n",
              "      <td>3359.415833</td>\n",
              "      <td>4</td>\n",
              "      <td>...</td>\n",
              "      <td>Good</td>\n",
              "      <td>502.38</td>\n",
              "      <td>33.638208</td>\n",
              "      <td>31 Years and 9 Months</td>\n",
              "      <td>No</td>\n",
              "      <td>35.104023</td>\n",
              "      <td>251.67258219721603</td>\n",
              "      <td>Low_spent_Large_value_payments</td>\n",
              "      <td>319.1649785257098</td>\n",
              "      <td>Standard</td>\n",
              "    </tr>\n",
              "    <tr>\n",
              "      <th>99999</th>\n",
              "      <td>0x25fed</td>\n",
              "      <td>CUS_0x942c</td>\n",
              "      <td>August</td>\n",
              "      <td>Nicks</td>\n",
              "      <td>25</td>\n",
              "      <td>078-73-5990</td>\n",
              "      <td>Mechanic</td>\n",
              "      <td>39628.99_</td>\n",
              "      <td>3359.415833</td>\n",
              "      <td>4</td>\n",
              "      <td>...</td>\n",
              "      <td>Good</td>\n",
              "      <td>502.38</td>\n",
              "      <td>34.192463</td>\n",
              "      <td>31 Years and 10 Months</td>\n",
              "      <td>No</td>\n",
              "      <td>35.104023</td>\n",
              "      <td>167.1638651610451</td>\n",
              "      <td>!@9#%8</td>\n",
              "      <td>393.6736955618808</td>\n",
              "      <td>Poor</td>\n",
              "    </tr>\n",
              "  </tbody>\n",
              "</table>\n",
              "<p>100000 rows × 28 columns</p>\n",
              "</div>"
            ],
            "text/plain": [
              "            ID Customer_ID     Month           Name   Age          SSN  \\\n",
              "0       0x1602   CUS_0xd40   January  Aaron Maashoh    23  821-00-0265   \n",
              "1       0x1603   CUS_0xd40  February  Aaron Maashoh    23  821-00-0265   \n",
              "2       0x1604   CUS_0xd40     March  Aaron Maashoh  -500  821-00-0265   \n",
              "3       0x1605   CUS_0xd40     April  Aaron Maashoh    23  821-00-0265   \n",
              "4       0x1606   CUS_0xd40       May  Aaron Maashoh    23  821-00-0265   \n",
              "...        ...         ...       ...            ...   ...          ...   \n",
              "99995  0x25fe9  CUS_0x942c     April          Nicks    25  078-73-5990   \n",
              "99996  0x25fea  CUS_0x942c       May          Nicks    25  078-73-5990   \n",
              "99997  0x25feb  CUS_0x942c      June          Nicks    25  078-73-5990   \n",
              "99998  0x25fec  CUS_0x942c      July          Nicks    25  078-73-5990   \n",
              "99999  0x25fed  CUS_0x942c    August          Nicks    25  078-73-5990   \n",
              "\n",
              "      Occupation Annual_Income  Monthly_Inhand_Salary  Num_Bank_Accounts  ...  \\\n",
              "0      Scientist      19114.12            1824.843333                  3  ...   \n",
              "1      Scientist      19114.12                    NaN                  3  ...   \n",
              "2      Scientist      19114.12                    NaN                  3  ...   \n",
              "3      Scientist      19114.12                    NaN                  3  ...   \n",
              "4      Scientist      19114.12            1824.843333                  3  ...   \n",
              "...          ...           ...                    ...                ...  ...   \n",
              "99995   Mechanic      39628.99            3359.415833                  4  ...   \n",
              "99996   Mechanic      39628.99            3359.415833                  4  ...   \n",
              "99997   Mechanic      39628.99            3359.415833                  4  ...   \n",
              "99998   Mechanic      39628.99            3359.415833                  4  ...   \n",
              "99999   Mechanic     39628.99_            3359.415833                  4  ...   \n",
              "\n",
              "       Credit_Mix  Outstanding_Debt Credit_Utilization_Ratio  \\\n",
              "0               _            809.98                26.822620   \n",
              "1            Good            809.98                31.944960   \n",
              "2            Good            809.98                28.609352   \n",
              "3            Good            809.98                31.377862   \n",
              "4            Good            809.98                24.797347   \n",
              "...           ...               ...                      ...   \n",
              "99995           _            502.38                34.663572   \n",
              "99996           _            502.38                40.565631   \n",
              "99997        Good            502.38                41.255522   \n",
              "99998        Good            502.38                33.638208   \n",
              "99999        Good            502.38                34.192463   \n",
              "\n",
              "           Credit_History_Age  Payment_of_Min_Amount Total_EMI_per_month  \\\n",
              "0       22 Years and 1 Months                     No           49.574949   \n",
              "1                         NaN                     No           49.574949   \n",
              "2       22 Years and 3 Months                     No           49.574949   \n",
              "3       22 Years and 4 Months                     No           49.574949   \n",
              "4       22 Years and 5 Months                     No           49.574949   \n",
              "...                       ...                    ...                 ...   \n",
              "99995   31 Years and 6 Months                     No           35.104023   \n",
              "99996   31 Years and 7 Months                     No           35.104023   \n",
              "99997   31 Years and 8 Months                     No           35.104023   \n",
              "99998   31 Years and 9 Months                     No           35.104023   \n",
              "99999  31 Years and 10 Months                     No           35.104023   \n",
              "\n",
              "      Amount_invested_monthly                 Payment_Behaviour  \\\n",
              "0           80.41529543900253   High_spent_Small_value_payments   \n",
              "1          118.28022162236736    Low_spent_Large_value_payments   \n",
              "2             81.699521264648   Low_spent_Medium_value_payments   \n",
              "3           199.4580743910713    Low_spent_Small_value_payments   \n",
              "4          41.420153086217326  High_spent_Medium_value_payments   \n",
              "...                       ...                               ...   \n",
              "99995       60.97133255718485   High_spent_Large_value_payments   \n",
              "99996       54.18595028760385  High_spent_Medium_value_payments   \n",
              "99997       24.02847744864441   High_spent_Large_value_payments   \n",
              "99998      251.67258219721603    Low_spent_Large_value_payments   \n",
              "99999       167.1638651610451                            !@9#%8   \n",
              "\n",
              "          Monthly_Balance Credit_Score  \n",
              "0      312.49408867943663         Good  \n",
              "1      284.62916249607184         Good  \n",
              "2       331.2098628537912         Good  \n",
              "3      223.45130972736786         Good  \n",
              "4      341.48923103222177         Good  \n",
              "...                   ...          ...  \n",
              "99995  479.86622816574095         Poor  \n",
              "99996    496.651610435322         Poor  \n",
              "99997   516.8090832742814         Poor  \n",
              "99998   319.1649785257098     Standard  \n",
              "99999   393.6736955618808         Poor  \n",
              "\n",
              "[100000 rows x 28 columns]"
            ]
          },
          "execution_count": 3,
          "metadata": {},
          "output_type": "execute_result"
        }
      ],
      "source": [
        "df = pd.read_csv(r\"C:\\users\\AntonioPetrelli\\Downloads\\credit_score_dataset (4).csv\", low_memory=False)\n",
        "df"
      ]
    },
    {
      "cell_type": "code",
      "execution_count": 4,
      "id": "cc894636",
      "metadata": {
        "colab": {
          "base_uri": "https://localhost:8080/"
        },
        "id": "cc894636",
        "outputId": "ae93f049-cb2c-45b9-8ce0-146ffc80d05a"
      },
      "outputs": [
        {
          "name": "stdout",
          "output_type": "stream",
          "text": [
            "<class 'pandas.core.frame.DataFrame'>\n",
            "RangeIndex: 100000 entries, 0 to 99999\n",
            "Data columns (total 28 columns):\n",
            " #   Column                    Non-Null Count   Dtype  \n",
            "---  ------                    --------------   -----  \n",
            " 0   ID                        100000 non-null  object \n",
            " 1   Customer_ID               100000 non-null  object \n",
            " 2   Month                     100000 non-null  object \n",
            " 3   Name                      90015 non-null   object \n",
            " 4   Age                       100000 non-null  object \n",
            " 5   SSN                       100000 non-null  object \n",
            " 6   Occupation                100000 non-null  object \n",
            " 7   Annual_Income             100000 non-null  object \n",
            " 8   Monthly_Inhand_Salary     84998 non-null   float64\n",
            " 9   Num_Bank_Accounts         100000 non-null  int64  \n",
            " 10  Num_Credit_Card           100000 non-null  int64  \n",
            " 11  Interest_Rate             100000 non-null  int64  \n",
            " 12  Num_of_Loan               100000 non-null  object \n",
            " 13  Type_of_Loan              88592 non-null   object \n",
            " 14  Delay_from_due_date       100000 non-null  int64  \n",
            " 15  Num_of_Delayed_Payment    92998 non-null   object \n",
            " 16  Changed_Credit_Limit      100000 non-null  object \n",
            " 17  Num_Credit_Inquiries      98035 non-null   float64\n",
            " 18  Credit_Mix                100000 non-null  object \n",
            " 19  Outstanding_Debt          100000 non-null  object \n",
            " 20  Credit_Utilization_Ratio  100000 non-null  float64\n",
            " 21  Credit_History_Age        90970 non-null   object \n",
            " 22  Payment_of_Min_Amount     100000 non-null  object \n",
            " 23  Total_EMI_per_month       100000 non-null  float64\n",
            " 24  Amount_invested_monthly   95521 non-null   object \n",
            " 25  Payment_Behaviour         100000 non-null  object \n",
            " 26  Monthly_Balance           98800 non-null   object \n",
            " 27  Credit_Score              100000 non-null  object \n",
            "dtypes: float64(4), int64(4), object(20)\n",
            "memory usage: 21.4+ MB\n"
          ]
        }
      ],
      "source": [
        "df.info()"
      ]
    },
    {
      "cell_type": "code",
      "execution_count": 5,
      "id": "20ae28e0",
      "metadata": {
        "id": "20ae28e0"
      },
      "outputs": [],
      "source": [
        "df.columns = [s.lower() for s in df.columns]"
      ]
    },
    {
      "cell_type": "markdown",
      "id": "9708711f",
      "metadata": {
        "id": "9708711f"
      },
      "source": [
        "## Cleaning"
      ]
    },
    {
      "cell_type": "code",
      "execution_count": 6,
      "id": "0d36d612",
      "metadata": {
        "colab": {
          "base_uri": "https://localhost:8080/"
        },
        "id": "0d36d612",
        "outputId": "ece95b1c-b31a-4af6-8ab3-10e062be5840"
      },
      "outputs": [
        {
          "data": {
            "text/plain": [
              "np.int64(0)"
            ]
          },
          "execution_count": 6,
          "metadata": {},
          "output_type": "execute_result"
        }
      ],
      "source": [
        "df.duplicated().sum()"
      ]
    },
    {
      "cell_type": "code",
      "execution_count": 7,
      "id": "a552a000",
      "metadata": {
        "colab": {
          "base_uri": "https://localhost:8080/"
        },
        "id": "a552a000",
        "outputId": "e3f3db33-bcb5-4fe7-c566-e2ce03c5e164"
      },
      "outputs": [
        {
          "data": {
            "text/plain": [
              "np.int64(0)"
            ]
          },
          "execution_count": 7,
          "metadata": {},
          "output_type": "execute_result"
        }
      ],
      "source": [
        "df[\"id\"].duplicated().sum()"
      ]
    },
    {
      "cell_type": "code",
      "execution_count": 8,
      "id": "e5fb8a29",
      "metadata": {
        "colab": {
          "base_uri": "https://localhost:8080/",
          "height": 962
        },
        "id": "e5fb8a29",
        "outputId": "ae711400-c7d6-4849-efa8-eac463260a4e"
      },
      "outputs": [
        {
          "data": {
            "text/plain": [
              "id                              0\n",
              "customer_id                     0\n",
              "month                           0\n",
              "name                         9985\n",
              "age                             0\n",
              "ssn                             0\n",
              "occupation                      0\n",
              "annual_income                   0\n",
              "monthly_inhand_salary       15002\n",
              "num_bank_accounts               0\n",
              "num_credit_card                 0\n",
              "interest_rate                   0\n",
              "num_of_loan                     0\n",
              "type_of_loan                11408\n",
              "delay_from_due_date             0\n",
              "num_of_delayed_payment       7002\n",
              "changed_credit_limit            0\n",
              "num_credit_inquiries         1965\n",
              "credit_mix                      0\n",
              "outstanding_debt                0\n",
              "credit_utilization_ratio        0\n",
              "credit_history_age           9030\n",
              "payment_of_min_amount           0\n",
              "total_emi_per_month             0\n",
              "amount_invested_monthly      4479\n",
              "payment_behaviour               0\n",
              "monthly_balance              1200\n",
              "credit_score                    0\n",
              "dtype: int64"
            ]
          },
          "execution_count": 8,
          "metadata": {},
          "output_type": "execute_result"
        }
      ],
      "source": [
        "df.isna().sum()"
      ]
    },
    {
      "cell_type": "code",
      "execution_count": 9,
      "id": "3711a79a",
      "metadata": {
        "colab": {
          "base_uri": "https://localhost:8080/",
          "height": 962
        },
        "id": "3711a79a",
        "outputId": "0f6b257f-ea28-4fa6-a8a5-05af0705e493"
      },
      "outputs": [
        {
          "data": {
            "text/plain": [
              "id                           object\n",
              "customer_id                  object\n",
              "month                        object\n",
              "name                         object\n",
              "age                          object\n",
              "ssn                          object\n",
              "occupation                   object\n",
              "annual_income                object\n",
              "monthly_inhand_salary       float64\n",
              "num_bank_accounts             int64\n",
              "num_credit_card               int64\n",
              "interest_rate                 int64\n",
              "num_of_loan                  object\n",
              "type_of_loan                 object\n",
              "delay_from_due_date           int64\n",
              "num_of_delayed_payment       object\n",
              "changed_credit_limit         object\n",
              "num_credit_inquiries        float64\n",
              "credit_mix                   object\n",
              "outstanding_debt             object\n",
              "credit_utilization_ratio    float64\n",
              "credit_history_age           object\n",
              "payment_of_min_amount        object\n",
              "total_emi_per_month         float64\n",
              "amount_invested_monthly      object\n",
              "payment_behaviour            object\n",
              "monthly_balance              object\n",
              "credit_score                 object\n",
              "dtype: object"
            ]
          },
          "execution_count": 9,
          "metadata": {},
          "output_type": "execute_result"
        }
      ],
      "source": [
        "df.dtypes "
      ]
    },
    {
      "cell_type": "markdown",
      "id": "3af9ac1f",
      "metadata": {
        "id": "3af9ac1f"
      },
      "source": [
        "### Age"
      ]
    },
    {
      "cell_type": "code",
      "execution_count": 10,
      "id": "ce6fcaa9",
      "metadata": {
        "colab": {
          "base_uri": "https://localhost:8080/"
        },
        "id": "ce6fcaa9",
        "outputId": "1c57b966-5f10-440f-d38a-c0310b62288c"
      },
      "outputs": [
        {
          "data": {
            "text/plain": [
              "array(['23', '-500', '28_', ..., '4808_', '2263', '1342'], dtype=object)"
            ]
          },
          "execution_count": 10,
          "metadata": {},
          "output_type": "execute_result"
        }
      ],
      "source": [
        "df.age.unique()"
      ]
    },
    {
      "cell_type": "code",
      "execution_count": 11,
      "id": "68668667",
      "metadata": {
        "id": "68668667"
      },
      "outputs": [],
      "source": [
        "df[\"age\"] = df[\"age\"].str.strip(\"_\") \n",
        "df[\"age\"] = pd.to_numeric(df[\"age\"], downcast=\"integer\")"
      ]
    },
    {
      "cell_type": "code",
      "execution_count": 12,
      "id": "807d843d",
      "metadata": {
        "colab": {
          "base_uri": "https://localhost:8080/",
          "height": 1000
        },
        "id": "807d843d",
        "outputId": "9f0e581f-ea33-4f7e-cbfb-c4ae4abcf979"
      },
      "outputs": [
        {
          "data": {
            "text/plain": [
              "age\n",
              "-500     886\n",
              " 14     1175\n",
              " 15     1574\n",
              " 16     1455\n",
              " 17     1502\n",
              " 18     2385\n",
              " 19     2793\n",
              " 20     2744\n",
              " 21     2716\n",
              " 22     2785\n",
              " 23     2654\n",
              " 24     2714\n",
              " 25     2861\n",
              " 26     2945\n",
              " 27     2859\n",
              " 28     2968\n",
              " 29     2735\n",
              " 30     2727\n",
              " 31     2955\n",
              " 32     2884\n",
              " 33     2543\n",
              " 34     2837\n",
              " 35     2866\n",
              " 36     2868\n",
              " 37     2742\n",
              " 38     2994\n",
              " 39     2846\n",
              " 40     2609\n",
              " 41     2785\n",
              " 42     2577\n",
              " 43     2734\n",
              " 44     2824\n",
              " 45     2642\n",
              " 46     1621\n",
              " 47     1227\n",
              " 48     1385\n",
              " 49     1375\n",
              " 50     1273\n",
              " 51     1291\n",
              " 52     1356\n",
              " 53     1354\n",
              " 54     1311\n",
              " 55     1366\n",
              " 56      362\n",
              " 95        3\n",
              " 99        1\n",
              " 100       1\n",
              " 102       1\n",
              " 109       1\n",
              " 111       1\n",
              "Name: count, dtype: int64"
            ]
          },
          "execution_count": 12,
          "metadata": {},
          "output_type": "execute_result"
        }
      ],
      "source": [
        "df.age.value_counts().sort_index().head(50)"
      ]
    },
    {
      "cell_type": "code",
      "execution_count": 13,
      "id": "eebcb892",
      "metadata": {
        "id": "eebcb892"
      },
      "outputs": [],
      "source": [
        "df.loc[(df[\"age\"] < 14) | (df[\"age\"] > 56), \"age\"] = pd.NA\n",
        "df[\"age\"] = df.groupby(\"customer_id\")[\"age\"].transform(lambda x: x.ffill().bfill())"
      ]
    },
    {
      "cell_type": "markdown",
      "id": "cb8e5d2a",
      "metadata": {
        "id": "cb8e5d2a"
      },
      "source": [
        "### Occupation"
      ]
    },
    {
      "cell_type": "code",
      "execution_count": 14,
      "id": "d8ad4eea",
      "metadata": {
        "colab": {
          "base_uri": "https://localhost:8080/",
          "height": 1000
        },
        "id": "d8ad4eea",
        "outputId": "fb074857-01e9-4a0b-cf9e-9dac4601e6af"
      },
      "outputs": [
        {
          "data": {
            "text/plain": [
              "customer_id  occupation   \n",
              "CUS_0x1000   Lawyer           8\n",
              "CUS_0x1009   Mechanic         7\n",
              "             _______          1\n",
              "CUS_0x100b   Media_Manager    8\n",
              "CUS_0x1011   Doctor           8\n",
              "CUS_0x1013   Mechanic         8\n",
              "CUS_0x1015   Journalist       8\n",
              "CUS_0x1018   Accountant       8\n",
              "CUS_0x1026   Manager          7\n",
              "             _______          1\n",
              "CUS_0x102d   Entrepreneur     7\n",
              "             _______          1\n",
              "CUS_0x102e   Scientist        8\n",
              "CUS_0x1032   Lawyer           8\n",
              "CUS_0x1037   Accountant       8\n",
              "CUS_0x1038   Architect        8\n",
              "CUS_0x103e   Scientist        8\n",
              "CUS_0x1041   Teacher          8\n",
              "CUS_0x1044   Entrepreneur     7\n",
              "             _______          1\n",
              "CUS_0x1048   Accountant       8\n",
              "CUS_0x104a   Mechanic         8\n",
              "CUS_0x104e   Teacher          7\n",
              "             _______          1\n",
              "CUS_0x104f   Architect        7\n",
              "             _______          1\n",
              "CUS_0x1051   Engineer         7\n",
              "             _______          1\n",
              "CUS_0x1056   Entrepreneur     8\n",
              "CUS_0x1057   Writer           7\n",
              "Name: count, dtype: int64"
            ]
          },
          "execution_count": 14,
          "metadata": {},
          "output_type": "execute_result"
        }
      ],
      "source": [
        "df.groupby(\"customer_id\")[\"occupation\"].value_counts().head(30)"
      ]
    },
    {
      "cell_type": "code",
      "execution_count": 15,
      "id": "96416c61",
      "metadata": {
        "id": "96416c61"
      },
      "outputs": [],
      "source": [
        "df[\"occupation\"] = df.groupby(\"customer_id\")[\"occupation\"].transform(\n",
        "    lambda x: x.where(x != \"_______\", x[x != \"_______\"].mode().iloc[0]))"
      ]
    },
    {
      "cell_type": "markdown",
      "id": "9aa7f60c",
      "metadata": {
        "id": "9aa7f60c"
      },
      "source": [
        "### Annual_income"
      ]
    },
    {
      "cell_type": "code",
      "execution_count": 16,
      "id": "8f56c907",
      "metadata": {
        "colab": {
          "base_uri": "https://localhost:8080/",
          "height": 711
        },
        "id": "8f56c907",
        "outputId": "7f50b8d5-754c-49cd-b5ad-a27614e431fe"
      },
      "outputs": [
        {
          "data": {
            "text/plain": [
              "10      34847.84_\n",
              "27      30689.89_\n",
              "32      35547.71_\n",
              "56      34081.38_\n",
              "66     114838.41_\n",
              "94      88640.24_\n",
              "98      54392.16_\n",
              "106     8701.545_\n",
              "111     8701.545_\n",
              "115     25546.26_\n",
              "129     92047.08_\n",
              "151     97791.42_\n",
              "175    10183.015_\n",
              "180    106733.13_\n",
              "188    12600.445_\n",
              "197     57983.12_\n",
              "214     34290.12_\n",
              "217     43070.24_\n",
              "231    6515990.0_\n",
              "235     39641.54_\n",
              "Name: annual_income, dtype: object"
            ]
          },
          "execution_count": 16,
          "metadata": {},
          "output_type": "execute_result"
        }
      ],
      "source": [
        "df[pd.to_numeric(df[\"annual_income\"], errors=\"coerce\").isna()][\"annual_income\"].head(20)"
      ]
    },
    {
      "cell_type": "code",
      "execution_count": 17,
      "id": "87fc19cf",
      "metadata": {
        "id": "87fc19cf"
      },
      "outputs": [],
      "source": [
        "df[\"annual_income\"] = df[\"annual_income\"].str.strip(\"_\")\n",
        "df[\"annual_income\"] = pd.to_numeric(df[\"annual_income\"], downcast=\"integer\")"
      ]
    },
    {
      "cell_type": "markdown",
      "id": "3e8021d4",
      "metadata": {
        "id": "3e8021d4"
      },
      "source": [
        "### Monthly_inhand_salary"
      ]
    },
    {
      "cell_type": "code",
      "execution_count": 18,
      "id": "78a2bee2",
      "metadata": {
        "id": "78a2bee2"
      },
      "outputs": [],
      "source": [
        "df[\"monthly_inhand_salary\"] = df.groupby(\"customer_id\")[\"monthly_inhand_salary\"].transform(\n",
        "    lambda x: x.ffill().bfill()\n",
        ")"
      ]
    },
    {
      "cell_type": "markdown",
      "id": "4ce75987",
      "metadata": {
        "id": "4ce75987"
      },
      "source": [
        "### Num_bank_accounts"
      ]
    },
    {
      "cell_type": "code",
      "execution_count": 19,
      "id": "ffe6b0a5",
      "metadata": {
        "colab": {
          "base_uri": "https://localhost:8080/",
          "height": 742
        },
        "id": "ffe6b0a5",
        "outputId": "2712d18f-5172-4c1e-eee0-732d704fadab"
      },
      "outputs": [
        {
          "data": {
            "text/plain": [
              "num_bank_accounts\n",
              "-1        21\n",
              " 0      4328\n",
              " 1      4490\n",
              " 2      4304\n",
              " 3     11950\n",
              " 4     12186\n",
              " 5     12118\n",
              " 6     13001\n",
              " 7     12823\n",
              " 8     12765\n",
              " 9      5443\n",
              " 10     5247\n",
              " 11        9\n",
              " 18        1\n",
              " 26        1\n",
              " 27        1\n",
              " 28        3\n",
              " 29        1\n",
              " 30        1\n",
              " 31        1\n",
              "Name: count, dtype: int64"
            ]
          },
          "execution_count": 19,
          "metadata": {},
          "output_type": "execute_result"
        }
      ],
      "source": [
        "df[\"num_bank_accounts\"].value_counts().sort_index().head(20)"
      ]
    },
    {
      "cell_type": "code",
      "execution_count": 20,
      "id": "39b46e42",
      "metadata": {
        "id": "39b46e42"
      },
      "outputs": [],
      "source": [
        "df.loc[(df[\"num_bank_accounts\"] < 0) | (df[\"num_bank_accounts\"] > 11), \"num_bank_accounts\", ] = pd.NA\n",
        "df[\"num_bank_accounts\"] = df.groupby(\"customer_id\")[\"num_bank_accounts\"].transform(\n",
        "    lambda x: x.ffill().bfill()\n",
        ")"
      ]
    },
    {
      "cell_type": "markdown",
      "id": "34740686",
      "metadata": {
        "id": "34740686"
      },
      "source": [
        "### Num_credit_card"
      ]
    },
    {
      "cell_type": "code",
      "execution_count": 21,
      "id": "696d5278",
      "metadata": {
        "colab": {
          "base_uri": "https://localhost:8080/",
          "height": 742
        },
        "id": "696d5278",
        "outputId": "002616ac-3fed-4c0b-f9bb-5908a52b8fd3"
      },
      "outputs": [
        {
          "data": {
            "text/plain": [
              "num_credit_card\n",
              "0        13\n",
              "1      2132\n",
              "2      2149\n",
              "3     13277\n",
              "4     14030\n",
              "5     18459\n",
              "6     16559\n",
              "7     16615\n",
              "8      4956\n",
              "9      4643\n",
              "10     4860\n",
              "11       36\n",
              "15        3\n",
              "16        2\n",
              "17        1\n",
              "18        1\n",
              "20        1\n",
              "21        1\n",
              "22        2\n",
              "24        1\n",
              "Name: count, dtype: int64"
            ]
          },
          "execution_count": 21,
          "metadata": {},
          "output_type": "execute_result"
        }
      ],
      "source": [
        "df[\"num_credit_card\"].value_counts().sort_index().head(20)"
      ]
    },
    {
      "cell_type": "code",
      "execution_count": 22,
      "id": "8c9a4136",
      "metadata": {
        "id": "8c9a4136"
      },
      "outputs": [],
      "source": [
        "df.loc[df[\"num_credit_card\"] > 11, \"num_credit_card\"] = pd.NA\n",
        "df[\"num_credit_card\"] = df.groupby(\"customer_id\")[\"num_credit_card\"].transform(\n",
        "    lambda x: x.ffill().bfill()\n",
        ")"
      ]
    },
    {
      "cell_type": "markdown",
      "id": "3dad1c61",
      "metadata": {
        "id": "3dad1c61"
      },
      "source": [
        "### Interest rate"
      ]
    },
    {
      "cell_type": "code",
      "execution_count": 23,
      "id": "e28fe92f",
      "metadata": {
        "colab": {
          "base_uri": "https://localhost:8080/",
          "height": 1000
        },
        "id": "e28fe92f",
        "outputId": "c44f87b4-ac40-40ff-d52d-366771f92d46"
      },
      "outputs": [
        {
          "data": {
            "text/plain": [
              "interest_rate\n",
              "5663    1\n",
              "5670    2\n",
              "5671    1\n",
              "5672    1\n",
              "5676    1\n",
              "5677    1\n",
              "5682    1\n",
              "5686    1\n",
              "5694    1\n",
              "5695    1\n",
              "5697    2\n",
              "5698    1\n",
              "5699    2\n",
              "5701    1\n",
              "5703    1\n",
              "5704    1\n",
              "5705    1\n",
              "5707    1\n",
              "5709    1\n",
              "5710    1\n",
              "5712    1\n",
              "5713    2\n",
              "5717    1\n",
              "5718    1\n",
              "5721    2\n",
              "5722    1\n",
              "5729    1\n",
              "5731    1\n",
              "5732    2\n",
              "5733    1\n",
              "5737    1\n",
              "5739    1\n",
              "5740    1\n",
              "5743    1\n",
              "5745    1\n",
              "5747    1\n",
              "5751    1\n",
              "5752    1\n",
              "5756    1\n",
              "5762    1\n",
              "5763    1\n",
              "5770    1\n",
              "5771    1\n",
              "5773    1\n",
              "5774    1\n",
              "5775    1\n",
              "5776    1\n",
              "5788    1\n",
              "5789    1\n",
              "5797    1\n",
              "Name: count, dtype: int64"
            ]
          },
          "execution_count": 23,
          "metadata": {},
          "output_type": "execute_result"
        }
      ],
      "source": [
        "df.interest_rate.value_counts().sort_index().tail(50)"
      ]
    },
    {
      "cell_type": "code",
      "execution_count": 24,
      "id": "886e9ddf",
      "metadata": {
        "id": "886e9ddf"
      },
      "outputs": [],
      "source": [
        "df.loc[df[\"interest_rate\"] > 34, \"interest_rate\"] = pd.NA\n",
        "df[\"interest_rate\"] = df.groupby(\"customer_id\")[\"interest_rate\"].transform(\n",
        "    lambda x: x.fillna(x.mode()[0])\n",
        ")"
      ]
    },
    {
      "cell_type": "markdown",
      "id": "4335f60c",
      "metadata": {
        "id": "4335f60c"
      },
      "source": [
        "### Num_of_loan"
      ]
    },
    {
      "cell_type": "code",
      "execution_count": 25,
      "id": "5558b38f",
      "metadata": {
        "colab": {
          "base_uri": "https://localhost:8080/",
          "height": 711
        },
        "id": "5558b38f",
        "outputId": "fbccdab5-64ea-4e71-9a65-844ea10d7944"
      },
      "outputs": [
        {
          "data": {
            "text/plain": [
              "37     0_\n",
              "80     3_\n",
              "84     3_\n",
              "94     2_\n",
              "119    5_\n",
              "125    2_\n",
              "131    0_\n",
              "144    0_\n",
              "158    5_\n",
              "256    2_\n",
              "360    8_\n",
              "366    8_\n",
              "377    2_\n",
              "382    2_\n",
              "391    9_\n",
              "410    5_\n",
              "442    4_\n",
              "481    7_\n",
              "483    7_\n",
              "486    7_\n",
              "Name: num_of_loan, dtype: object"
            ]
          },
          "execution_count": 25,
          "metadata": {},
          "output_type": "execute_result"
        }
      ],
      "source": [
        "df[pd.to_numeric(df[\"num_of_loan\"], errors=\"coerce\").isna()][\"num_of_loan\"].head(20)"
      ]
    },
    {
      "cell_type": "code",
      "execution_count": 26,
      "id": "678171d5",
      "metadata": {
        "id": "678171d5"
      },
      "outputs": [],
      "source": [
        "df[\"num_of_loan\"] = df[\"num_of_loan\"].str.strip(\"_\")\n",
        "df[\"num_of_loan\"] = pd.to_numeric(df[\"num_of_loan\"], downcast=\"integer\")"
      ]
    },
    {
      "cell_type": "code",
      "execution_count": 27,
      "id": "8b21e12a",
      "metadata": {
        "id": "8b21e12a"
      },
      "outputs": [],
      "source": [
        "df.loc[(df[\"num_of_loan\"] < 0) | (df[\"num_of_loan\"] > 9), \"num_of_loan\"] = pd.NA\n",
        "df[\"num_of_loan\"] = df.groupby(\"customer_id\")[\"num_of_loan\"].transform(lambda x: x.ffill().bfill())"
      ]
    },
    {
      "cell_type": "markdown",
      "id": "cd450698",
      "metadata": {
        "id": "cd450698"
      },
      "source": [
        "### Type_of_loan"
      ]
    },
    {
      "cell_type": "code",
      "execution_count": 28,
      "id": "b0e32433",
      "metadata": {
        "id": "b0e32433"
      },
      "outputs": [],
      "source": [
        "df.loc[df[\"num_of_loan\"] == 0, \"type_of_loan\"] = \"No Loan\"\n",
        "df[\"type_of_loan\"] = df[\"type_of_loan\"].str.replace(\" and\", \"\", regex=False)\n",
        "df[\"type_of_loan\"] = df[\"type_of_loan\"].str.split(\", \")"
      ]
    },
    {
      "cell_type": "markdown",
      "id": "47bfaf59",
      "metadata": {
        "id": "47bfaf59"
      },
      "source": [
        "### Num_of_delayed_payment"
      ]
    },
    {
      "cell_type": "code",
      "execution_count": 29,
      "id": "9be35ef5",
      "metadata": {
        "colab": {
          "base_uri": "https://localhost:8080/",
          "height": 711
        },
        "id": "9be35ef5",
        "outputId": "a01b18b7-a082-41cc-87e0-7345b3c12bf9"
      },
      "outputs": [
        {
          "data": {
            "text/plain": [
              "1      NaN\n",
              "4      NaN\n",
              "6       8_\n",
              "11      3_\n",
              "30     NaN\n",
              "32     NaN\n",
              "33     NaN\n",
              "53      3_\n",
              "54      2_\n",
              "70     NaN\n",
              "95     NaN\n",
              "106    NaN\n",
              "119    13_\n",
              "124    14_\n",
              "140    NaN\n",
              "141    12_\n",
              "142    NaN\n",
              "148    NaN\n",
              "152    NaN\n",
              "164    NaN\n",
              "Name: num_of_delayed_payment, dtype: object"
            ]
          },
          "execution_count": 29,
          "metadata": {},
          "output_type": "execute_result"
        }
      ],
      "source": [
        "df[pd.to_numeric(df[\"num_of_delayed_payment\"],\n",
        "                  errors=\"coerce\").isna()][\"num_of_delayed_payment\"].head(20)"
      ]
    },
    {
      "cell_type": "code",
      "execution_count": 30,
      "id": "510cd316",
      "metadata": {
        "id": "510cd316"
      },
      "outputs": [],
      "source": [
        "df[\"num_of_delayed_payment\"] = df[\"num_of_delayed_payment\"].str.strip(\"_\")\n",
        "\n",
        "df[\"num_of_delayed_payment\"] = pd.to_numeric(df[\"num_of_delayed_payment\"],\n",
        "                                              downcast=\"integer\")"
      ]
    },
    {
      "cell_type": "code",
      "execution_count": 31,
      "id": "a64d39ab",
      "metadata": {
        "id": "a64d39ab"
      },
      "outputs": [],
      "source": [
        "df.loc[(df[\"num_of_delayed_payment\"] < 0) | (df[\"num_of_delayed_payment\"] > 28), \"num_of_delayed_payment\"] = np.nan\n",
        "df[\"num_of_delayed_payment\"] = df.groupby(\"customer_id\")[\"num_of_delayed_payment\"].transform(\n",
        "    lambda x: x.ffill().bfill()\n",
        ")"
      ]
    },
    {
      "cell_type": "markdown",
      "id": "eb319584",
      "metadata": {
        "id": "eb319584"
      },
      "source": [
        "### Changed_credit_limit"
      ]
    },
    {
      "cell_type": "code",
      "execution_count": 32,
      "id": "c450a754",
      "metadata": {
        "colab": {
          "base_uri": "https://localhost:8080/",
          "height": 711
        },
        "id": "c450a754",
        "outputId": "0d3adfeb-39dc-4ffd-e1cc-8782e90b390b"
      },
      "outputs": [
        {
          "data": {
            "text/plain": [
              "82758    _\n",
              "15644    _\n",
              "24080    _\n",
              "40506    _\n",
              "97521    _\n",
              "76506    _\n",
              "15823    _\n",
              "57129    _\n",
              "20773    _\n",
              "44722    _\n",
              "35807    _\n",
              "64994    _\n",
              "11612    _\n",
              "40012    _\n",
              "44743    _\n",
              "31569    _\n",
              "16387    _\n",
              "32382    _\n",
              "57554    _\n",
              "97622    _\n",
              "Name: changed_credit_limit, dtype: object"
            ]
          },
          "execution_count": 32,
          "metadata": {},
          "output_type": "execute_result"
        }
      ],
      "source": [
        "df[pd.to_numeric(df[\"changed_credit_limit\"],\n",
        "                  errors=\"coerce\").isna()][\"changed_credit_limit\"].sample(20)"
      ]
    },
    {
      "cell_type": "code",
      "execution_count": 33,
      "id": "5ab98ca4",
      "metadata": {
        "id": "5ab98ca4"
      },
      "outputs": [],
      "source": [
        "df.loc[(df[\"changed_credit_limit\"] == \"_\"), \"changed_credit_limit\"] = np.nan\n",
        "df[\"changed_credit_limit\"] = df.groupby(\"customer_id\")[\"changed_credit_limit\"].transform(\n",
        "    lambda x: x.ffill().bfill()\n",
        ")"
      ]
    },
    {
      "cell_type": "code",
      "execution_count": 34,
      "id": "0b7eb2b8",
      "metadata": {
        "id": "0b7eb2b8"
      },
      "outputs": [],
      "source": [
        "df[\"changed_credit_limit\"] = pd.to_numeric(df[\"changed_credit_limit\"], downcast=\"float\").round(3)"
      ]
    },
    {
      "cell_type": "markdown",
      "id": "a3c98407",
      "metadata": {
        "id": "a3c98407"
      },
      "source": [
        "### Num_credit_inquiries"
      ]
    },
    {
      "cell_type": "code",
      "execution_count": 35,
      "id": "8f2a47ff",
      "metadata": {
        "colab": {
          "base_uri": "https://localhost:8080/",
          "height": 1000
        },
        "id": "8f2a47ff",
        "outputId": "9251e8d8-3af1-4c82-a27c-45635a4b7ea0"
      },
      "outputs": [
        {
          "data": {
            "text/plain": [
              "num_credit_inquiries\n",
              "4.0       11271\n",
              "3.0        8890\n",
              "6.0        8111\n",
              "7.0        8058\n",
              "2.0        8028\n",
              "8.0        7866\n",
              "1.0        7588\n",
              "0.0        6972\n",
              "5.0        5693\n",
              "9.0        5283\n",
              "11.0       5051\n",
              "10.0       4936\n",
              "12.0       4571\n",
              "NaN        1965\n",
              "13.0       1480\n",
              "14.0       1039\n",
              "15.0        808\n",
              "16.0        456\n",
              "17.0        284\n",
              "1460.0        4\n",
              "53.0          4\n",
              "318.0         4\n",
              "1786.0        4\n",
              "31.0          4\n",
              "1244.0        4\n",
              "2297.0        4\n",
              "2310.0        4\n",
              "285.0         4\n",
              "1114.0        4\n",
              "1768.0        4\n",
              "Name: count, dtype: int64"
            ]
          },
          "execution_count": 35,
          "metadata": {},
          "output_type": "execute_result"
        }
      ],
      "source": [
        "df[\"num_credit_inquiries\"].value_counts(dropna=False).head(30)"
      ]
    },
    {
      "cell_type": "code",
      "execution_count": 36,
      "id": "906fe7bf",
      "metadata": {
        "id": "906fe7bf"
      },
      "outputs": [],
      "source": [
        "df.loc[(df[\"num_credit_inquiries\"] > 17), \"num_credit_inquiries\"] = pd.NA\n",
        "df[\"num_credit_inquiries\"] = df.groupby(\"customer_id\")[\"num_credit_inquiries\"].transform(\n",
        "    lambda x: x.ffill().bfill()\n",
        ")"
      ]
    },
    {
      "cell_type": "markdown",
      "id": "6f08fcaf",
      "metadata": {
        "id": "6f08fcaf"
      },
      "source": [
        "### Credit_mix"
      ]
    },
    {
      "cell_type": "code",
      "execution_count": 37,
      "id": "1fdba03f",
      "metadata": {
        "colab": {
          "base_uri": "https://localhost:8080/",
          "height": 742
        },
        "id": "1fdba03f",
        "outputId": "76730fad-29e3-4740-caba-66a37e8725b5"
      },
      "outputs": [
        {
          "data": {
            "text/plain": [
              "customer_id  credit_mix\n",
              "CUS_0x1000   Bad           8\n",
              "CUS_0x1009   Standard      5\n",
              "             _             3\n",
              "CUS_0x100b   Good          7\n",
              "             _             1\n",
              "CUS_0x1011   Standard      8\n",
              "CUS_0x1013   Good          7\n",
              "             _             1\n",
              "CUS_0x1015   Standard      8\n",
              "CUS_0x1018   Bad           6\n",
              "             _             2\n",
              "CUS_0x1026   Good          6\n",
              "             _             2\n",
              "CUS_0x102d   Good          7\n",
              "             _             1\n",
              "CUS_0x102e   Standard      6\n",
              "             _             2\n",
              "CUS_0x1032   Standard      8\n",
              "CUS_0x1037   Good          7\n",
              "             _             1\n",
              "Name: count, dtype: int64"
            ]
          },
          "execution_count": 37,
          "metadata": {},
          "output_type": "execute_result"
        }
      ],
      "source": [
        "df.groupby([\"customer_id\"])[\"credit_mix\"].value_counts().head(20)"
      ]
    },
    {
      "cell_type": "code",
      "execution_count": 38,
      "id": "85b532d5",
      "metadata": {
        "id": "85b532d5"
      },
      "outputs": [],
      "source": [
        "df.loc[df[\"credit_mix\"] == \"_\", \"credit_mix\"] = pd.NA\n",
        "df[\"credit_mix\"] = df.groupby(\"customer_id\")[\"credit_mix\"].transform(\n",
        "    lambda x: x.fillna(x.mode()[0]))"
      ]
    },
    {
      "cell_type": "markdown",
      "id": "d1d94a70",
      "metadata": {
        "id": "d1d94a70"
      },
      "source": [
        "### Outstanding_debt"
      ]
    },
    {
      "cell_type": "code",
      "execution_count": 39,
      "id": "3c353ac8",
      "metadata": {
        "colab": {
          "base_uri": "https://localhost:8080/",
          "height": 711
        },
        "id": "3c353ac8",
        "outputId": "82d14e34-9a0a-4c0c-d55f-6d6d51c0a05d"
      },
      "outputs": [
        {
          "data": {
            "text/plain": [
              "87      1328.93_\n",
              "142     1283.37_\n",
              "368     2797.17_\n",
              "632     3818.57_\n",
              "703      343.84_\n",
              "731      363.51_\n",
              "782      404.51_\n",
              "819     1755.81_\n",
              "835     2593.44_\n",
              "992       89.62_\n",
              "1147    1054.86_\n",
              "1148    1054.86_\n",
              "1162    1374.23_\n",
              "1243    1166.47_\n",
              "1339     457.81_\n",
              "1369    1684.06_\n",
              "1486    1126.35_\n",
              "1542    2098.83_\n",
              "1573     761.18_\n",
              "1633    1343.01_\n",
              "Name: outstanding_debt, dtype: object"
            ]
          },
          "execution_count": 39,
          "metadata": {},
          "output_type": "execute_result"
        }
      ],
      "source": [
        "df[pd.to_numeric(df[\"outstanding_debt\"], errors=\"coerce\").isna()][\"outstanding_debt\"].head(20)"
      ]
    },
    {
      "cell_type": "code",
      "execution_count": 40,
      "id": "7200e428",
      "metadata": {
        "id": "7200e428"
      },
      "outputs": [],
      "source": [
        "df[\"outstanding_debt\"] = df[\"outstanding_debt\"].str.strip(\"_\")\n",
        "df[\"outstanding_debt\"] = pd.to_numeric(df[\"outstanding_debt\"], downcast=\"float\")"
      ]
    },
    {
      "cell_type": "markdown",
      "id": "68a528fc",
      "metadata": {
        "id": "68a528fc"
      },
      "source": [
        "### Credit_utilization_ratio\n",
        "\n",
        "This seems fine!"
      ]
    },
    {
      "cell_type": "code",
      "execution_count": 41,
      "id": "9443b4b0",
      "metadata": {
        "colab": {
          "base_uri": "https://localhost:8080/",
          "height": 742
        },
        "id": "9443b4b0",
        "outputId": "5f9f2999-5dcf-4496-97db-a9b8a8d88160"
      },
      "outputs": [
        {
          "data": {
            "text/plain": [
              "credit_utilization_ratio\n",
              "26.822620    1\n",
              "31.944960    1\n",
              "28.609352    1\n",
              "31.377862    1\n",
              "24.797347    1\n",
              "27.262259    1\n",
              "22.537593    1\n",
              "23.933795    1\n",
              "24.464031    1\n",
              "38.550848    1\n",
              "33.224951    1\n",
              "39.182656    1\n",
              "34.977895    1\n",
              "33.381010    1\n",
              "31.131702    1\n",
              "32.933856    1\n",
              "39.868572    1\n",
              "34.085971    1\n",
              "30.472041    1\n",
              "36.132095    1\n",
              "Name: count, dtype: int64"
            ]
          },
          "execution_count": 41,
          "metadata": {},
          "output_type": "execute_result"
        }
      ],
      "source": [
        "df.credit_utilization_ratio.value_counts().sort_values().head(20)"
      ]
    },
    {
      "cell_type": "code",
      "execution_count": 42,
      "id": "a9934f65",
      "metadata": {
        "colab": {
          "base_uri": "https://localhost:8080/",
          "height": 742
        },
        "id": "a9934f65",
        "outputId": "135f6777-7ad4-4782-f221-dd44099e7d10"
      },
      "outputs": [
        {
          "data": {
            "text/plain": [
              "credit_utilization_ratio\n",
              "40.565631    1\n",
              "41.255522    1\n",
              "33.638208    1\n",
              "34.192463    1\n",
              "28.616735    1\n",
              "41.702573    1\n",
              "26.519815    1\n",
              "39.501648    1\n",
              "31.376150    1\n",
              "39.783993    1\n",
              "38.068624    1\n",
              "38.374753    1\n",
              "26.544229    1\n",
              "35.279982    1\n",
              "32.301163    1\n",
              "38.132348    1\n",
              "41.154317    1\n",
              "27.445422    1\n",
              "26.056395    1\n",
              "27.332515    1\n",
              "Name: count, dtype: int64"
            ]
          },
          "execution_count": 42,
          "metadata": {},
          "output_type": "execute_result"
        }
      ],
      "source": [
        "df.credit_utilization_ratio.value_counts().sort_values().tail(20)"
      ]
    },
    {
      "cell_type": "markdown",
      "id": "dbc04eeb",
      "metadata": {
        "id": "dbc04eeb"
      },
      "source": [
        "### Payment_of_min_amount\n",
        "\n",
        "This seems fine!"
      ]
    },
    {
      "cell_type": "code",
      "execution_count": 43,
      "id": "7d36ec71",
      "metadata": {
        "colab": {
          "base_uri": "https://localhost:8080/"
        },
        "id": "7d36ec71",
        "outputId": "2ae3ed93-156c-4662-b092-3c7d4dece9d0"
      },
      "outputs": [
        {
          "data": {
            "text/plain": [
              "array(['No', 'NM', 'Yes'], dtype=object)"
            ]
          },
          "execution_count": 43,
          "metadata": {},
          "output_type": "execute_result"
        }
      ],
      "source": [
        "df.payment_of_min_amount.unique()"
      ]
    },
    {
      "cell_type": "markdown",
      "id": "18a285d3",
      "metadata": {
        "id": "18a285d3"
      },
      "source": [
        "### Amount_invested_monthly"
      ]
    },
    {
      "cell_type": "code",
      "execution_count": 44,
      "id": "7ec3f9ea",
      "metadata": {
        "colab": {
          "base_uri": "https://localhost:8080/",
          "height": 178
        },
        "id": "7ec3f9ea",
        "outputId": "afcf7447-7caf-4b0b-c4aa-7e555925e857"
      },
      "outputs": [
        {
          "data": {
            "text/plain": [
              "amount_invested_monthly\n",
              "NaN          4479\n",
              "__10000__    4305\n",
              "Name: count, dtype: int64"
            ]
          },
          "execution_count": 44,
          "metadata": {},
          "output_type": "execute_result"
        }
      ],
      "source": [
        "df[pd.to_numeric(df[\"amount_invested_monthly\"],errors=\"coerce\").isna()][\"amount_invested_monthly\"].value_counts(dropna=False)"
      ]
    },
    {
      "cell_type": "code",
      "execution_count": 45,
      "id": "85632045",
      "metadata": {
        "id": "85632045"
      },
      "outputs": [],
      "source": [
        "df[\"amount_invested_monthly\"] = df[\"amount_invested_monthly\"].str.strip(\"_\")\n",
        "df[\"amount_invested_monthly\"] = pd.to_numeric(df[\"amount_invested_monthly\"], downcast=\"float\")"
      ]
    },
    {
      "cell_type": "markdown",
      "id": "4e61226d",
      "metadata": {
        "id": "4e61226d"
      },
      "source": [
        "### Total_emi_per_month\n",
        "\n",
        "The value of `total_emi_per_month` is typically around 30%-40% of the monthly income. So we are going to fix those that are above this threshold."
      ]
    },
    {
      "cell_type": "code",
      "execution_count": 46,
      "id": "7b98964b",
      "metadata": {
        "colab": {
          "base_uri": "https://localhost:8080/",
          "height": 962
        },
        "id": "7b98964b",
        "outputId": "35198f91-846b-4ad2-9582-7385ea68c138"
      },
      "outputs": [
        {
          "data": {
            "text/plain": [
              "id                          3146\n",
              "customer_id                 3146\n",
              "month                       3146\n",
              "name                        2853\n",
              "age                         3146\n",
              "ssn                         3146\n",
              "occupation                  3146\n",
              "annual_income               3146\n",
              "monthly_inhand_salary       3146\n",
              "num_bank_accounts           3146\n",
              "num_credit_card             3146\n",
              "interest_rate               3146\n",
              "num_of_loan                 3146\n",
              "type_of_loan                3146\n",
              "delay_from_due_date         3146\n",
              "num_of_delayed_payment      3146\n",
              "changed_credit_limit        3146\n",
              "num_credit_inquiries        3146\n",
              "credit_mix                  3146\n",
              "outstanding_debt            3146\n",
              "credit_utilization_ratio    3146\n",
              "credit_history_age          2886\n",
              "payment_of_min_amount       3146\n",
              "total_emi_per_month         3146\n",
              "amount_invested_monthly     3013\n",
              "payment_behaviour           3146\n",
              "monthly_balance             3118\n",
              "credit_score                3146\n",
              "dtype: int64"
            ]
          },
          "execution_count": 46,
          "metadata": {},
          "output_type": "execute_result"
        }
      ],
      "source": [
        "df.loc[df[\"total_emi_per_month\"] > df[\"monthly_inhand_salary\"] * 0.3].count()"
      ]
    },
    {
      "cell_type": "code",
      "execution_count": 47,
      "id": "5ad854a7",
      "metadata": {
        "id": "5ad854a7"
      },
      "outputs": [],
      "source": [
        "df.loc[df[\"total_emi_per_month\"] > df[\"monthly_inhand_salary\"] * 0.3, \"total_emi_per_month\"] = np.nan\n",
        "df[\"total_emi_per_month\"] = df.groupby(\"customer_id\")[\"total_emi_per_month\"].transform(\n",
        "    lambda x: x.fillna(x.mode()[0]) if not x.mode().empty else x\n",
        ")"
      ]
    },
    {
      "cell_type": "markdown",
      "id": "fe27aea2",
      "metadata": {
        "id": "fe27aea2"
      },
      "source": [
        "### Amount_invested_monthly"
      ]
    },
    {
      "cell_type": "code",
      "execution_count": 48,
      "id": "247610e5",
      "metadata": {
        "colab": {
          "base_uri": "https://localhost:8080/"
        },
        "id": "247610e5",
        "outputId": "886778e4-e4d7-49f6-a36c-6f56de0d9dfe"
      },
      "outputs": [
        {
          "data": {
            "text/plain": [
              "np.int64(0)"
            ]
          },
          "execution_count": 48,
          "metadata": {},
          "output_type": "execute_result"
        }
      ],
      "source": [
        "df.groupby(\"customer_id\")[\"amount_invested_monthly\"].apply(\n",
        "    lambda x: x.isna().all()).sum()"
      ]
    },
    {
      "cell_type": "code",
      "execution_count": 49,
      "id": "9f1d8dcc",
      "metadata": {
        "id": "9f1d8dcc"
      },
      "outputs": [],
      "source": [
        "df[\"amount_invested_monthly\"] = df.groupby(\"customer_id\")[\"amount_invested_monthly\"].transform(\n",
        "    lambda x: x.ffill().bfill()\n",
        ")"
      ]
    },
    {
      "cell_type": "markdown",
      "id": "125b2ebb",
      "metadata": {
        "id": "125b2ebb"
      },
      "source": [
        "### Payment_behaviour"
      ]
    },
    {
      "cell_type": "code",
      "execution_count": 50,
      "id": "169f8a35",
      "metadata": {
        "colab": {
          "base_uri": "https://localhost:8080/",
          "height": 335
        },
        "id": "169f8a35",
        "outputId": "b67a3d7f-71d1-4166-81fd-6e1b1bb80aed"
      },
      "outputs": [
        {
          "data": {
            "text/plain": [
              "payment_behaviour\n",
              "Low_spent_Small_value_payments      25513\n",
              "High_spent_Medium_value_payments    17540\n",
              "Low_spent_Medium_value_payments     13861\n",
              "High_spent_Large_value_payments     13721\n",
              "High_spent_Small_value_payments     11340\n",
              "Low_spent_Large_value_payments      10425\n",
              "!@9#%8                               7600\n",
              "Name: count, dtype: int64"
            ]
          },
          "execution_count": 50,
          "metadata": {},
          "output_type": "execute_result"
        }
      ],
      "source": [
        "df[\"payment_behaviour\"].value_counts()"
      ]
    },
    {
      "cell_type": "code",
      "execution_count": 51,
      "id": "2600bf8e",
      "metadata": {
        "id": "2600bf8e"
      },
      "outputs": [],
      "source": [
        "df.loc[(df[\"payment_behaviour\"] == \"!@9#%8\"), \"payment_behaviour\"] = np.nan\n",
        "\n",
        "df[\"payment_behaviour\"] = df.groupby(\"customer_id\")[\"payment_behaviour\"].transform(\n",
        "    lambda x: x.ffill().bfill()\n",
        ")"
      ]
    },
    {
      "cell_type": "markdown",
      "id": "8e78a125",
      "metadata": {
        "id": "8e78a125"
      },
      "source": [
        "### Monthly_balance"
      ]
    },
    {
      "cell_type": "code",
      "execution_count": 52,
      "id": "ae787802",
      "metadata": {
        "colab": {
          "base_uri": "https://localhost:8080/",
          "height": 178
        },
        "id": "ae787802",
        "outputId": "62e58ead-50a9-409e-e356-5397952cbba8"
      },
      "outputs": [
        {
          "data": {
            "text/plain": [
              "monthly_balance\n",
              "NaN                                 1200\n",
              "__-333333333333333333333333333__       9\n",
              "Name: count, dtype: int64"
            ]
          },
          "execution_count": 52,
          "metadata": {},
          "output_type": "execute_result"
        }
      ],
      "source": [
        "df[pd.to_numeric(df[\"monthly_balance\"], errors=\"coerce\").isna()][\"monthly_balance\"].value_counts(dropna=False)"
      ]
    },
    {
      "cell_type": "code",
      "execution_count": 53,
      "id": "89b77b99",
      "metadata": {
        "id": "89b77b99"
      },
      "outputs": [],
      "source": [
        "df['monthly_balance'] = df['monthly_balance'].apply(\n",
        "    lambda x: x.replace('_', '').replace('-', '') if isinstance(x, str) else x\n",
        ")"
      ]
    },
    {
      "cell_type": "code",
      "execution_count": 54,
      "id": "c003a50d",
      "metadata": {
        "id": "c003a50d"
      },
      "outputs": [],
      "source": [
        "df[\"monthly_balance\"] = df[\"monthly_balance\"].astype('float')"
      ]
    },
    {
      "cell_type": "code",
      "execution_count": 55,
      "id": "bf8f1c80",
      "metadata": {
        "colab": {
          "base_uri": "https://localhost:8080/",
          "height": 398
        },
        "id": "bf8f1c80",
        "outputId": "2105b7ad-53df-4aa5-d3f0-5ba9caef51c1"
      },
      "outputs": [
        {
          "data": {
            "text/plain": [
              "5545     3.333333e+26\n",
              "26177    3.333333e+26\n",
              "29158    3.333333e+26\n",
              "35570    3.333333e+26\n",
              "38622    3.333333e+26\n",
              "60009    3.333333e+26\n",
              "75251    3.333333e+26\n",
              "82918    3.333333e+26\n",
              "83255    3.333333e+26\n",
              "9376     1.602041e+03\n",
              "Name: monthly_balance, dtype: float64"
            ]
          },
          "execution_count": 55,
          "metadata": {},
          "output_type": "execute_result"
        }
      ],
      "source": [
        "df[\"monthly_balance\"].nlargest(10)"
      ]
    },
    {
      "cell_type": "code",
      "execution_count": 56,
      "id": "e154c9f3",
      "metadata": {
        "id": "e154c9f3"
      },
      "outputs": [],
      "source": [
        "mask = df[\"monthly_balance\"] > 3.3e22\n",
        "\n",
        "df.loc[mask, \"monthly_balance\"] = df.loc[mask, \"customer_id\"].map(\n",
        "    df[df[\"monthly_balance\"] <  3.3e22].groupby(\"customer_id\")[\"monthly_balance\"].mean()\n",
        ")"
      ]
    },
    {
      "cell_type": "code",
      "execution_count": 57,
      "id": "1891dd1f",
      "metadata": {
        "id": "1891dd1f"
      },
      "outputs": [],
      "source": [
        "df[\"monthly_balance\"] = df.groupby(\n",
        "    \"customer_id\")[\"monthly_balance\"].transform(lambda x: x.fillna(x.mean()))"
      ]
    },
    {
      "cell_type": "markdown",
      "id": "55de31e9",
      "metadata": {
        "id": "55de31e9"
      },
      "source": [
        "### Credit_score\n",
        "\n",
        "This seems fine!"
      ]
    },
    {
      "cell_type": "code",
      "execution_count": 58,
      "id": "bfea87f7",
      "metadata": {
        "colab": {
          "base_uri": "https://localhost:8080/"
        },
        "id": "bfea87f7",
        "outputId": "fc6237ab-5164-4c3b-c0c7-548787c35270"
      },
      "outputs": [
        {
          "data": {
            "text/plain": [
              "array(['Good', 'Standard', 'Poor'], dtype=object)"
            ]
          },
          "execution_count": 58,
          "metadata": {},
          "output_type": "execute_result"
        }
      ],
      "source": [
        "df.credit_score.unique()"
      ]
    },
    {
      "cell_type": "code",
      "execution_count": 59,
      "id": "94b9051c",
      "metadata": {
        "colab": {
          "base_uri": "https://localhost:8080/"
        },
        "id": "94b9051c",
        "outputId": "70e79c0d-cd95-453f-cb8c-2a7e6f50fdc6"
      },
      "outputs": [
        {
          "data": {
            "text/plain": [
              "list"
            ]
          },
          "execution_count": 59,
          "metadata": {},
          "output_type": "execute_result"
        }
      ],
      "source": [
        "type(df.type_of_loan[0])"
      ]
    },
    {
      "cell_type": "code",
      "execution_count": 60,
      "id": "fd7a69f7",
      "metadata": {
        "id": "fd7a69f7"
      },
      "outputs": [],
      "source": [
        "df.to_csv(\"./cleaned_credit_score_dataset.csv\", index=False)"
      ]
    },
    {
      "cell_type": "markdown",
      "id": "3089757a",
      "metadata": {
        "id": "3089757a"
      },
      "source": [
        "## Pre-processing"
      ]
    },
    {
      "cell_type": "code",
      "execution_count": 61,
      "id": "8a4df047",
      "metadata": {
        "id": "8a4df047"
      },
      "outputs": [],
      "source": [
        "import numpy as np\n",
        "import pandas as pd\n",
        "import matplotlib.pyplot as plt\n",
        "import seaborn as sns"
      ]
    },
    {
      "cell_type": "code",
      "execution_count": 62,
      "id": "13a72eb6",
      "metadata": {
        "id": "13a72eb6"
      },
      "outputs": [],
      "source": [
        "df = pd.read_csv(\"./cleaned_credit_score_dataset.csv\")"
      ]
    },
    {
      "cell_type": "code",
      "execution_count": 63,
      "id": "edec97f0",
      "metadata": {
        "colab": {
          "base_uri": "https://localhost:8080/"
        },
        "id": "edec97f0",
        "outputId": "b97a9fad-2f3c-44b7-c356-7e6555d9faa1"
      },
      "outputs": [
        {
          "name": "stdout",
          "output_type": "stream",
          "text": [
            "<class 'pandas.core.frame.DataFrame'>\n",
            "RangeIndex: 100000 entries, 0 to 99999\n",
            "Data columns (total 28 columns):\n",
            " #   Column                    Non-Null Count   Dtype  \n",
            "---  ------                    --------------   -----  \n",
            " 0   id                        100000 non-null  object \n",
            " 1   customer_id               100000 non-null  object \n",
            " 2   month                     100000 non-null  object \n",
            " 3   name                      90015 non-null   object \n",
            " 4   age                       100000 non-null  float64\n",
            " 5   ssn                       100000 non-null  object \n",
            " 6   occupation                100000 non-null  object \n",
            " 7   annual_income             100000 non-null  float64\n",
            " 8   monthly_inhand_salary     100000 non-null  float64\n",
            " 9   num_bank_accounts         100000 non-null  float64\n",
            " 10  num_credit_card           100000 non-null  float64\n",
            " 11  interest_rate             100000 non-null  float64\n",
            " 12  num_of_loan               100000 non-null  float64\n",
            " 13  type_of_loan              100000 non-null  object \n",
            " 14  delay_from_due_date       100000 non-null  int64  \n",
            " 15  num_of_delayed_payment    100000 non-null  float64\n",
            " 16  changed_credit_limit      100000 non-null  float64\n",
            " 17  num_credit_inquiries      100000 non-null  float64\n",
            " 18  credit_mix                100000 non-null  object \n",
            " 19  outstanding_debt          100000 non-null  float64\n",
            " 20  credit_utilization_ratio  100000 non-null  float64\n",
            " 21  credit_history_age        90970 non-null   object \n",
            " 22  payment_of_min_amount     100000 non-null  object \n",
            " 23  total_emi_per_month       100000 non-null  float64\n",
            " 24  amount_invested_monthly   100000 non-null  float64\n",
            " 25  payment_behaviour         100000 non-null  object \n",
            " 26  monthly_balance           100000 non-null  float64\n",
            " 27  credit_score              100000 non-null  object \n",
            "dtypes: float64(15), int64(1), object(12)\n",
            "memory usage: 21.4+ MB\n"
          ]
        }
      ],
      "source": [
        "df.info()"
      ]
    },
    {
      "cell_type": "markdown",
      "id": "187d3c3f",
      "metadata": {
        "id": "187d3c3f"
      },
      "source": [
        "### Occupation"
      ]
    },
    {
      "cell_type": "code",
      "execution_count": 64,
      "id": "0d8be929",
      "metadata": {
        "id": "0d8be929"
      },
      "outputs": [],
      "source": [
        "occupations = df.occupation.unique()\n",
        "df_occ = pd.get_dummies(df.occupation, prefix=\"occ\", dtype=int)\n",
        "occ_cols = [c.lower() for c in df_occ.columns]\n",
        "df_occ.columns = occ_cols\n",
        "df[occ_cols] = df_occ"
      ]
    },
    {
      "cell_type": "markdown",
      "id": "4759b1b7",
      "metadata": {
        "id": "4759b1b7"
      },
      "source": [
        "### Type of loan"
      ]
    },
    {
      "cell_type": "code",
      "execution_count": 65,
      "id": "704015a6",
      "metadata": {
        "id": "704015a6"
      },
      "outputs": [],
      "source": [
        "def get_unique_loan_type(df):\n",
        "    loan_types = set()\n",
        "    for i in range(df.shape[0]):\n",
        "        lt = df.type_of_loan.iloc[i]\n",
        "        lt_list = lt.strip(\"[]\").replace(\"'\", \"\").split(\", \")\n",
        "        loan_types = loan_types | set(lt_list)\n",
        "    return loan_types"
      ]
    },
    {
      "cell_type": "code",
      "execution_count": 66,
      "id": "0053f6ac",
      "metadata": {
        "id": "0053f6ac"
      },
      "outputs": [],
      "source": [
        "loan_types = get_unique_loan_type(df)\n",
        "\n",
        "for t in loan_types:\n",
        "    df[f\"{t}_bin\"] = df.type_of_loan.apply(lambda x: t in x).astype(int)"
      ]
    },
    {
      "cell_type": "code",
      "execution_count": 67,
      "id": "a40188dd",
      "metadata": {
        "id": "a40188dd"
      },
      "outputs": [],
      "source": [
        "df.columns = [c.lower().replace(\" \", \"_\").replace(\"-\", \"_\") for c in df.columns]"
      ]
    },
    {
      "cell_type": "markdown",
      "id": "7cb06690",
      "metadata": {
        "id": "7cb06690"
      },
      "source": [
        "### Credit mix"
      ]
    },
    {
      "cell_type": "code",
      "execution_count": 68,
      "id": "eb793ca2",
      "metadata": {
        "id": "eb793ca2"
      },
      "outputs": [],
      "source": [
        "df['credit_mix'] = df['credit_mix'].map({'Good': 2, 'Standard': 1, 'Bad': 0})"
      ]
    },
    {
      "cell_type": "markdown",
      "id": "67fc3a65",
      "metadata": {
        "id": "67fc3a65"
      },
      "source": [
        "### Payment_of_min_amount"
      ]
    },
    {
      "cell_type": "code",
      "execution_count": 69,
      "id": "d23d27b0",
      "metadata": {
        "id": "d23d27b0"
      },
      "outputs": [],
      "source": [
        "poma = df.payment_of_min_amount.unique()\n",
        "df_poma = pd.get_dummies(df.payment_of_min_amount, prefix=\"poma\", dtype=int)\n",
        "poma_cols = [c.lower() for c in df_poma.columns]\n",
        "df_poma.columns = poma_cols\n",
        "df[poma_cols] = df_poma"
      ]
    },
    {
      "cell_type": "markdown",
      "id": "a633268f",
      "metadata": {
        "id": "a633268f"
      },
      "source": [
        "### Payment behaviour"
      ]
    },
    {
      "cell_type": "code",
      "execution_count": 70,
      "id": "ea259bcd",
      "metadata": {
        "id": "ea259bcd"
      },
      "outputs": [],
      "source": [
        "payment_beh_values = df.payment_behaviour.unique()"
      ]
    },
    {
      "cell_type": "code",
      "execution_count": 71,
      "id": "b378e919",
      "metadata": {
        "id": "b378e919"
      },
      "outputs": [],
      "source": [
        "payment_mapping = {\n",
        "    'High_spent_Large_value_payments': 6,#Successfully managing large debts provides the most positive contribution to the credit score.\n",
        "    'High_spent_Medium_value_payments': 5, #Medium-value payments with high spending positively impact the credit score.\n",
        "    'High_spent_Small_value_payments': 4, #Small payments can negatively affect the credit score if debts accumulate over time.\n",
        "    'Low_spent_Large_value_payments': 3, #shows quick financial responsibility, positively affecting the credit score.\n",
        "    'Low_spent_Medium_value_payments': 2, #contributes positively to the credit score by demonstrating debt management.\n",
        "    'Low_spent_Small_value_payments': 1 #may limit the credit history and provide minimal contribution to the credit score\n",
        "}"
      ]
    },
    {
      "cell_type": "code",
      "execution_count": 72,
      "id": "6dca8976",
      "metadata": {
        "id": "6dca8976"
      },
      "outputs": [],
      "source": [
        "df['payment_behaviour'] = df['payment_behaviour'].map(payment_mapping)\n",
        "df['payment_behaviour'] = pd.to_numeric(df['payment_behaviour'], downcast='integer')"
      ]
    },
    {
      "cell_type": "markdown",
      "id": "f2aae777",
      "metadata": {
        "id": "f2aae777"
      },
      "source": [
        "### Credit score"
      ]
    },
    {
      "cell_type": "code",
      "execution_count": 73,
      "id": "b4169dd1",
      "metadata": {
        "id": "b4169dd1"
      },
      "outputs": [],
      "source": [
        "df['credit_score'] = df['credit_score'].map({'Good': 2, 'Standard': 1, 'Poor': 0})"
      ]
    },
    {
      "cell_type": "code",
      "execution_count": 74,
      "id": "6e665bb5",
      "metadata": {
        "colab": {
          "base_uri": "https://localhost:8080/"
        },
        "id": "6e665bb5",
        "outputId": "0f09d552-3c20-4552-df78-4598e268bebd"
      },
      "outputs": [
        {
          "name": "stdout",
          "output_type": "stream",
          "text": [
            "<class 'pandas.core.frame.DataFrame'>\n",
            "RangeIndex: 100000 entries, 0 to 99999\n",
            "Data columns (total 56 columns):\n",
            " #   Column                       Non-Null Count   Dtype  \n",
            "---  ------                       --------------   -----  \n",
            " 0   id                           100000 non-null  object \n",
            " 1   customer_id                  100000 non-null  object \n",
            " 2   month                        100000 non-null  object \n",
            " 3   name                         90015 non-null   object \n",
            " 4   age                          100000 non-null  float64\n",
            " 5   ssn                          100000 non-null  object \n",
            " 6   occupation                   100000 non-null  object \n",
            " 7   annual_income                100000 non-null  float64\n",
            " 8   monthly_inhand_salary        100000 non-null  float64\n",
            " 9   num_bank_accounts            100000 non-null  float64\n",
            " 10  num_credit_card              100000 non-null  float64\n",
            " 11  interest_rate                100000 non-null  float64\n",
            " 12  num_of_loan                  100000 non-null  float64\n",
            " 13  type_of_loan                 100000 non-null  object \n",
            " 14  delay_from_due_date          100000 non-null  int64  \n",
            " 15  num_of_delayed_payment       100000 non-null  float64\n",
            " 16  changed_credit_limit         100000 non-null  float64\n",
            " 17  num_credit_inquiries         100000 non-null  float64\n",
            " 18  credit_mix                   100000 non-null  int64  \n",
            " 19  outstanding_debt             100000 non-null  float64\n",
            " 20  credit_utilization_ratio     100000 non-null  float64\n",
            " 21  credit_history_age           90970 non-null   object \n",
            " 22  payment_of_min_amount        100000 non-null  object \n",
            " 23  total_emi_per_month          100000 non-null  float64\n",
            " 24  amount_invested_monthly      100000 non-null  float64\n",
            " 25  payment_behaviour            100000 non-null  int8   \n",
            " 26  monthly_balance              100000 non-null  float64\n",
            " 27  credit_score                 100000 non-null  int64  \n",
            " 28  occ_accountant               100000 non-null  int64  \n",
            " 29  occ_architect                100000 non-null  int64  \n",
            " 30  occ_developer                100000 non-null  int64  \n",
            " 31  occ_doctor                   100000 non-null  int64  \n",
            " 32  occ_engineer                 100000 non-null  int64  \n",
            " 33  occ_entrepreneur             100000 non-null  int64  \n",
            " 34  occ_journalist               100000 non-null  int64  \n",
            " 35  occ_lawyer                   100000 non-null  int64  \n",
            " 36  occ_manager                  100000 non-null  int64  \n",
            " 37  occ_mechanic                 100000 non-null  int64  \n",
            " 38  occ_media_manager            100000 non-null  int64  \n",
            " 39  occ_musician                 100000 non-null  int64  \n",
            " 40  occ_scientist                100000 non-null  int64  \n",
            " 41  occ_teacher                  100000 non-null  int64  \n",
            " 42  occ_writer                   100000 non-null  int64  \n",
            " 43  auto_loan_bin                100000 non-null  int64  \n",
            " 44  no_loan_bin                  100000 non-null  int64  \n",
            " 45  payday_loan_bin              100000 non-null  int64  \n",
            " 46  credit_builder_loan_bin      100000 non-null  int64  \n",
            " 47  debt_consolidation_loan_bin  100000 non-null  int64  \n",
            " 48  not_specified_bin            100000 non-null  int64  \n",
            " 49  home_equity_loan_bin         100000 non-null  int64  \n",
            " 50  mortgage_loan_bin            100000 non-null  int64  \n",
            " 51  personal_loan_bin            100000 non-null  int64  \n",
            " 52  student_loan_bin             100000 non-null  int64  \n",
            " 53  poma_nm                      100000 non-null  int64  \n",
            " 54  poma_no                      100000 non-null  int64  \n",
            " 55  poma_yes                     100000 non-null  int64  \n",
            "dtypes: float64(15), int64(31), int8(1), object(9)\n",
            "memory usage: 42.1+ MB\n"
          ]
        }
      ],
      "source": [
        "df.info()"
      ]
    },
    {
      "cell_type": "code",
      "execution_count": 75,
      "id": "fae1713c",
      "metadata": {
        "colab": {
          "base_uri": "https://localhost:8080/",
          "height": 613
        },
        "id": "fae1713c",
        "outputId": "d407c65b-5e23-4937-b57e-0177d6d1f5d3"
      },
      "outputs": [
        {
          "name": "stderr",
          "output_type": "stream",
          "text": [
            "C:\\Users\\AntonioPetrelli\\AppData\\Local\\Temp\\ipykernel_20760\\2890842716.py:2: FutureWarning: \n",
            "\n",
            "Passing `palette` without assigning `hue` is deprecated and will be removed in v0.14.0. Assign the `x` variable to `hue` and set `legend=False` for the same effect.\n",
            "\n",
            "  sns.boxplot(data=df, y=\"monthly_inhand_salary\", palette=\"Set3\")\n"
          ]
        },
        {
          "data": {
            "image/png": "[encoded data removed]",
            "text/plain": [
              "<Figure size 800x600 with 1 Axes>"
            ]
          },
          "metadata": {},
          "output_type": "display_data"
        }
      ],
      "source": [
        "plt.figure(figsize=(8, 6))\n",
        "sns.boxplot(data=df, y=\"monthly_inhand_salary\", palette=\"Set3\")\n",
        "plt.title(\"Monthly_Inhand_Salary Distribution\")\n",
        "plt.show()"
      ]
    },
    {
      "cell_type": "code",
      "execution_count": 76,
      "id": "8df1411c",
      "metadata": {
        "colab": {
          "base_uri": "https://localhost:8080/",
          "height": 683
        },
        "id": "8df1411c",
        "outputId": "a961bf72-b12f-4466-a119-1210fe159cb1"
      },
      "outputs": [
        {
          "data": {
            "image/png": "[encoded data removed]",
            "text/plain": [
              "<Figure size 800x800 with 1 Axes>"
            ]
          },
          "metadata": {},
          "output_type": "display_data"
        }
      ],
      "source": [
        "plt.figure(figsize=(8, 8))\n",
        "plt.pie(df[\"occupation\"].value_counts(),\n",
        "        labels=df[\"occupation\"].value_counts().index,\n",
        "        autopct='%1.1f%%',\n",
        "        startangle=90,\n",
        "        colors=plt.cm.Set3.colors,\n",
        "        wedgeprops=dict(width=0.5))\n",
        "plt.title(\"Occupation Distribution\")\n",
        "plt.axis('equal')\n",
        "plt.show()"
      ]
    },
    {
      "cell_type": "code",
      "execution_count": 77,
      "id": "5ff21c19",
      "metadata": {
        "colab": {
          "base_uri": "https://localhost:8080/",
          "height": 1000
        },
        "id": "5ff21c19",
        "outputId": "2111c90c-85c4-4e43-ef66-1a9f813e122c"
      },
      "outputs": [
        {
          "data": {
            "image/png": "[encoded data removed]",
            "text/plain": [
              "<Figure size 3000x2000 with 49 Axes>"
            ]
          },
          "metadata": {},
          "output_type": "display_data"
        }
      ],
      "source": [
        "df.hist(bins=20, figsize=(30, 20))\n",
        "plt.tight_layout()\n",
        "plt.show()"
      ]
    },
    {
      "cell_type": "code",
      "execution_count": 78,
      "id": "c7a771f7",
      "metadata": {
        "id": "c7a771f7"
      },
      "outputs": [],
      "source": [
        "col_to_drop = [\"id\", \"customer_id\", \"month\", \"name\", \"ssn\", \"type_of_loan\", \"occupation\", \"delay_from_due_date\", \"payment_of_min_amount\", \"credit_history_age\"]\n",
        "df = df.drop(col_to_drop, axis=1)\n",
        "df.to_csv(\"preprocessed_credit_score_dataset.csv\")"
      ]
    },
    {
      "cell_type": "code",
      "execution_count": null,
      "id": "89c89eae",
      "metadata": {
        "id": "89c89eae"
      },
      "outputs": [],
      "source": []
    },
    {
      "cell_type": "markdown",
      "id": "4dd00dd0",
      "metadata": {
        "id": "4dd00dd0"
      },
      "source": [
        "## Classification"
      ]
    },
    {
      "cell_type": "code",
      "execution_count": 79,
      "id": "90ee8848",
      "metadata": {
        "id": "90ee8848"
      },
      "outputs": [],
      "source": [
        "import pandas as pd"
      ]
    },
    {
      "cell_type": "code",
      "execution_count": 80,
      "id": "1d4c2411",
      "metadata": {
        "id": "1d4c2411"
      },
      "outputs": [],
      "source": [
        "df = pd.read_csv(\"./preprocessed_credit_score_dataset.csv\")"
      ]
    },
    {
      "cell_type": "code",
      "execution_count": 81,
      "id": "adf27393",
      "metadata": {
        "id": "adf27393"
      },
      "outputs": [],
      "source": [
        "from sklearn.model_selection import train_test_split\n",
        "\n",
        "train_data, test_data, train_labels, test_labels = train_test_split(df.drop(columns=[\"credit_score\"]),\n",
        "                                                                    df[\"credit_score\"],\n",
        "                                                                    test_size=0.2,\n",
        "                                                                    shuffle=True,\n",
        "                                                                    random_state=0)"
      ]
    },
    {
      "cell_type": "code",
      "execution_count": null,
      "id": "5d508689",
      "metadata": {
        "id": "5d508689"
      },
      "outputs": [],
      "source": [
        "from sklearn.preprocessing import StandardScaler\n",
        "\n",
        "def standard_scaling(X_train, X_test, col):\n",
        "    scaler = StandardScaler()\n",
        "    X_train[[col]] = scaler.fit_transform(X_train[[col]])\n",
        "    X_test[[col]] = scaler.transform(X_test[[col]])\n",
        "\n",
        "scaling_columns = [\n",
        "    'age',\n",
        "    'annual_income',\n",
        "    'monthly_inhand_salary',\n",
        "    'num_bank_accounts',\n",
        "    'num_credit_card',\n",
        "    'interest_rate',\n",
        "    'num_of_loan',\n",
        "    'num_of_delayed_payment',\n",
        "    'changed_credit_limit',\n",
        "    'num_credit_inquiries',\n",
        "    'outstanding_debt',\n",
        "    'credit_utilization_ratio',\n",
        "    'total_emi_per_month',\n",
        "    'amount_invested_monthly',\n",
        "    'monthly_balance'\n",
        " ]\n",
        "\n",
        "for col in scaling_columns:\n",
        "    standard_scaling(train_data, test_data, col)"
      ]
    },
    {
      "cell_type": "code",
      "execution_count": 83,
      "id": "22779e4d",
      "metadata": {
        "id": "22779e4d"
      },
      "outputs": [],
      "source": [
        "from sklearn import metrics\n",
        "\n",
        "def print_bin_classification_metrics(test_labels, predicted_labels, average='macro', prefix=\"\"):\n",
        "    # Model Accuracy: how often is the classifier correct?\n",
        "    accuracy = metrics.accuracy_score(test_labels, predicted_labels)\n",
        "    # Model Precision: what percentage of positive tuples are labeled as such?\n",
        "    precision = metrics.precision_score(\n",
        "        test_labels, predicted_labels, average=average)\n",
        "    # Model Recall: what percentage of positive tuples are labelled as such?\n",
        "    recall = metrics.recall_score(\n",
        "        test_labels, predicted_labels, average=average)\n",
        "    # Model F1: weighted average of precision and recall\n",
        "    F1 = metrics.f1_score(test_labels, predicted_labels, average=average)\n",
        "    print(prefix+\"Accuracy:\", \"{:.5f}\".format(accuracy), \"Precision:\", \"{:.5f}\".format(\n",
        "        precision), \"Recall:\", \"{:.5f}\".format(recall), \"F1:\", \"{:.5f}\".format(F1))"
      ]
    },
    {
      "cell_type": "code",
      "execution_count": 84,
      "id": "77f924ee",
      "metadata": {
        "colab": {
          "base_uri": "https://localhost:8080/"
        },
        "id": "77f924ee",
        "outputId": "8d095284-4730-4dbb-e245-0cee77475986"
      },
      "outputs": [
        {
          "name": "stdout",
          "output_type": "stream",
          "text": [
            "Accuracy: 0.73900 Precision: 0.72677 Recall: 0.72616 F1: 0.72646\n"
          ]
        }
      ],
      "source": [
        "from sklearn.tree import DecisionTreeClassifier\n",
        "dt = DecisionTreeClassifier()\n",
        "dt.fit(train_data, train_labels)\n",
        "predicted_train = dt.predict(train_data)\n",
        "predicted = dt.predict(test_data)\n",
        "print_bin_classification_metrics(test_labels, predicted)"
      ]
    },
    {
      "cell_type": "code",
      "execution_count": 85,
      "id": "00950206",
      "metadata": {
        "colab": {
          "base_uri": "https://localhost:8080/"
        },
        "id": "00950206",
        "outputId": "40bf2219-9ec9-4738-e535-a0fff8960613"
      },
      "outputs": [
        {
          "name": "stdout",
          "output_type": "stream",
          "text": [
            "Accuracy: 0.81095 Precision: 0.80348 Recall: 0.80434 F1: 0.80372\n"
          ]
        }
      ],
      "source": [
        "from sklearn.ensemble import RandomForestClassifier\n",
        "rf = RandomForestClassifier(random_state=42)\n",
        "rf.fit(train_data, train_labels)\n",
        "predicted_train = rf.predict(train_data)\n",
        "predicted = rf.predict(test_data)\n",
        "print_bin_classification_metrics(test_labels, predicted)"
      ]
    },
    {
      "cell_type": "code",
      "execution_count": 86,
      "id": "103da828",
      "metadata": {
        "colab": {
          "base_uri": "https://localhost:8080/"
        },
        "id": "103da828",
        "outputId": "5c1ca18f-8717-41bd-9e93-ea0231eb5bde"
      },
      "outputs": [
        {
          "name": "stdout",
          "output_type": "stream",
          "text": [
            "Accuracy: 0.70695 Precision: 0.70040 Recall: 0.65511 F1: 0.66929\n"
          ]
        }
      ],
      "source": [
        "from sklearn.neighbors import KNeighborsClassifier\n",
        "\n",
        "knn = KNeighborsClassifier(n_neighbors=10)\n",
        "knn.fit(train_data, train_labels)\n",
        "predicted_train = knn.predict(train_data)\n",
        "predicted = knn.predict(test_data)\n",
        "print_bin_classification_metrics(test_labels, predicted)"
      ]
    },
    {
      "cell_type": "markdown",
      "id": "ba061ad5",
      "metadata": {
        "id": "ba061ad5"
      },
      "source": [
        "## Nested k-fold cross validation"
      ]
    },
    {
      "cell_type": "code",
      "execution_count": 87,
      "id": "e2836ecc",
      "metadata": {
        "colab": {
          "base_uri": "https://localhost:8080/"
        },
        "id": "e2836ecc",
        "outputId": "9e920292-bb29-4356-f9b4-08578aed0d29"
      },
      "outputs": [
        {
          "name": "stdout",
          "output_type": "stream",
          "text": [
            ">acc=0.736, est=0.709, cfg={'criterion': 'entropy', 'max_depth': None}\n",
            ">acc=0.732, est=0.713, cfg={'criterion': 'gini', 'max_depth': None}\n",
            ">acc=0.736, est=0.712, cfg={'criterion': 'entropy', 'max_depth': None}\n",
            ">acc=0.730, est=0.713, cfg={'criterion': 'gini', 'max_depth': None}\n",
            ">acc=0.734, est=0.713, cfg={'criterion': 'entropy', 'max_depth': None}\n",
            "Accuracy: 0.733 (0.003)\n"
          ]
        }
      ],
      "source": [
        "import numpy as np\n",
        "from sklearn.model_selection import KFold\n",
        "from sklearn.model_selection import GridSearchCV\n",
        "from sklearn.metrics import accuracy_score\n",
        "\n",
        "# configure the cross-validation procedure\n",
        "cv_outer = KFold(n_splits=5, shuffle=True, random_state=1)\n",
        "# enumerate splits\n",
        "outer_results = list()\n",
        "\n",
        "X = train_data.to_numpy()\n",
        "y = train_labels.to_numpy()\n",
        "\n",
        "p_grid = {\n",
        "    \"criterion\": [\"gini\", \"entropy\"],\n",
        "    \"max_depth\": [3, 5, 10, None],\n",
        "\n",
        "}\n",
        "\n",
        "for train_ix, test_ix in cv_outer.split(train_data):\n",
        "\t# split data\n",
        "\tX_train, X_test = X[train_ix, :], X[test_ix, :]\n",
        "\ty_train, y_test = y[train_ix], y[test_ix]\n",
        "\t# configure the cross-validation procedure\n",
        "\tcv_inner = KFold(n_splits=3, shuffle=True, random_state=1)\n",
        "\t# define the model\n",
        "\tmodel = DecisionTreeClassifier(random_state=1)\n",
        "\t# define search\n",
        "\tsearch = GridSearchCV(model, p_grid, scoring='accuracy', cv=cv_inner, refit=True)\n",
        "\t# execute search\n",
        "\tresult = search.fit(X_train, y_train)\n",
        "\t# get the best performing model fit on the whole training set\n",
        "\tbest_model = result.best_estimator_\n",
        "\t# evaluate model on the hold out dataset\n",
        "\tyhat = best_model.predict(X_test)\n",
        "\t# evaluate the model\n",
        "\tacc = accuracy_score(y_test, yhat)\n",
        "\t# store the result and print\n",
        "\touter_results.append(acc)\n",
        "\tprint('>acc=%.3f, est=%.3f, cfg=%s' % (acc, result.best_score_, result.best_params_))\n",
        "print('Accuracy: %.3f (%.3f)' % (np.mean(outer_results), np.std(outer_results)))"
      ]
    },
    {
      "cell_type": "code",
      "execution_count": 87,
      "id": "09e4dfc7",
      "metadata": {
        "id": "09e4dfc7"
      },
      "outputs": [],
      "source": []
    }
  ],
  "metadata": {
    "colab": {
      "provenance": []
    },
    "kernelspec": {
      "display_name": "Python 3",
      "name": "python3"
    },
    "language_info": {
      "codemirror_mode": {
        "name": "ipython",
        "version": 3
      },
      "file_extension": ".py",
      "mimetype": "text/x-python",
      "name": "python",
      "nbconvert_exporter": "python",
      "pygments_lexer": "ipython3",
      "version": "3.11.9"
    }
  },
  "nbformat": 4,
  "nbformat_minor": 5
}
