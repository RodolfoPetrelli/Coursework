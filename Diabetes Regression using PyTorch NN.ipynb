{
 "cells": [
  {
   "cell_type": "markdown",
   "metadata": {},
   "source": [
    "# Diabetes Regression using PyTorch Neural Network\n",
    "In this task I build a neural network using PyTorch to predict diabetes progression based on a diabetes dataset. At the end I evaluate the model's performance and plot the training and test MSE over epochs."
   ]
  },
  {
   "cell_type": "markdown",
   "metadata": {},
   "source": [
    "# Libraries to import"
   ]
  },
  {
   "cell_type": "code",
   "execution_count": 1,
   "metadata": {},
   "outputs": [],
   "source": [
    "import torch\n",
    "import torch.nn as nn\n",
    "import torch.optim as optim\n",
    "import numpy as np\n",
    "import matplotlib.pyplot as plt\n",
    "from sklearn.datasets import load_diabetes\n",
    "from sklearn.model_selection import train_test_split\n",
    "from sklearn.preprocessing import StandardScaler\n",
    "from torch.utils.data import DataLoader, TensorDataset"
   ]
  },
  {
   "cell_type": "code",
   "execution_count": 3,
   "metadata": {},
   "outputs": [],
   "source": [
    "df = load_diabetes()\n",
    "X, y = df.data, df.target"
   ]
  },
  {
   "cell_type": "code",
   "execution_count": 7,
   "metadata": {},
   "outputs": [],
   "source": [
    "X_train, X_test, y_train, y_test = train_test_split(X, y, test_size=0.2, random_state=42)\n",
    "\n",
    "# Scale the data\n",
    "scaler = StandardScaler()\n",
    "X_train = scaler.fit_transform(X_train)\n",
    "X_test = scaler.transform(X_test)"
   ]
  },
  {
   "cell_type": "code",
   "execution_count": 8,
   "metadata": {},
   "outputs": [],
   "source": [
    "# Convert to pytorch tensors\n",
    "X_train_tensor = torch.tensor(X_train, dtype=torch.float32)\n",
    "y_train_tensor = torch.tensor(y_train, dtype=torch.float32).view(-1, 1)\n",
    "X_test_tensor = torch.tensor(X_test, dtype=torch.float32)\n",
    "y_test_tensor = torch.tensor(y_test, dtype=torch.float32).view(-1, 1)"
   ]
  },
  {
   "cell_type": "code",
   "execution_count": 9,
   "metadata": {},
   "outputs": [],
   "source": [
    "# Create dataloader objects\n",
    "train_df = TensorDataset(X_train_tensor, y_train_tensor)\n",
    "test_df = TensorDataset(X_test_tensor, y_test_tensor)\n",
    "train_loader = DataLoader(train_df, batch_size=64, shuffle=True)\n",
    "test_loader = DataLoader(test_df, batch_size=64, shuffle=True)"
   ]
  },
  {
   "cell_type": "markdown",
   "metadata": {},
   "source": [
    "# Neural Network \n",
    "My nn model consists of an input layer that takes in ten features from the dataset, followed by two hidden layers. The first hidden layer has 64 neurons, and the second has 32 neurons, both using the ReLU activation function to introduce non-linearity and improve learning. The final output layer consists of a single neuron without an activation function, as this is a regression task requiring continuous output values"
   ]
  },
  {
   "cell_type": "code",
   "execution_count": null,
   "metadata": {},
   "outputs": [],
   "source": [
    "class DiabetesNN(nn.Module):\n",
    "    def __init__(self):\n",
    "        super(DiabetesNN, self).__init__()\n",
    "        self.fc1 = nn.Linear(10, 64)\n",
    "        self.fc2 = nn.Linear(64, 32)\n",
    "        self.fc3 = nn.Linear(32, 1)\n",
    "        self.relu = nn.ReLU()\n",
    "\n",
    "    def forward(self, x):\n",
    "        x = self.relu(self.fc1(x))\n",
    "        x = self.relu(self.fc2(x))\n",
    "        x = self.fc3(x)  \n",
    "        return x  "
   ]
  },
  {
   "cell_type": "code",
   "execution_count": null,
   "metadata": {},
   "outputs": [
    {
     "name": "stdout",
     "output_type": "stream",
     "text": [
      "Outputs: None\n",
      "Targets: tensor([[ 71.],\n",
      "        [248.],\n",
      "        [182.],\n",
      "        [ 75.],\n",
      "        [244.],\n",
      "        [237.],\n",
      "        [283.],\n",
      "        [103.],\n",
      "        [292.],\n",
      "        [ 71.],\n",
      "        [ 91.],\n",
      "        [ 71.],\n",
      "        [259.],\n",
      "        [192.],\n",
      "        [178.],\n",
      "        [229.],\n",
      "        [332.],\n",
      "        [ 49.],\n",
      "        [242.],\n",
      "        [281.],\n",
      "        [ 43.],\n",
      "        [ 77.],\n",
      "        [182.],\n",
      "        [ 90.],\n",
      "        [ 65.],\n",
      "        [200.],\n",
      "        [200.],\n",
      "        [109.],\n",
      "        [261.],\n",
      "        [275.],\n",
      "        [ 53.],\n",
      "        [150.],\n",
      "        [ 31.],\n",
      "        [310.],\n",
      "        [258.],\n",
      "        [245.],\n",
      "        [170.],\n",
      "        [190.],\n",
      "        [277.],\n",
      "        [ 68.],\n",
      "        [118.],\n",
      "        [ 97.],\n",
      "        [249.],\n",
      "        [321.],\n",
      "        [245.],\n",
      "        [152.],\n",
      "        [268.],\n",
      "        [139.],\n",
      "        [279.],\n",
      "        [ 69.],\n",
      "        [ 94.],\n",
      "        [ 65.],\n",
      "        [265.],\n",
      "        [185.],\n",
      "        [303.],\n",
      "        [201.],\n",
      "        [ 57.],\n",
      "        [173.],\n",
      "        [ 79.],\n",
      "        [ 95.],\n",
      "        [ 39.],\n",
      "        [210.],\n",
      "        [ 51.],\n",
      "        [ 60.]])\n",
      "Epoch 1/100, Train Loss: 29619.2292, Test Loss: 24588.3438\n",
      "Epoch 11/100, Train Loss: 3494.6772, Test Loss: 3690.5442\n",
      "Epoch 21/100, Train Loss: 2733.0944, Test Loss: 3104.9268\n",
      "Epoch 31/100, Train Loss: 2540.2735, Test Loss: 2670.5879\n",
      "Epoch 41/100, Train Loss: 2527.3531, Test Loss: 2449.2399\n",
      "Epoch 51/100, Train Loss: 2538.3580, Test Loss: 2650.7731\n",
      "Epoch 61/100, Train Loss: 2542.0273, Test Loss: 2767.0535\n",
      "Epoch 71/100, Train Loss: 2397.9126, Test Loss: 2815.6945\n",
      "Epoch 81/100, Train Loss: 2399.0232, Test Loss: 2773.2502\n",
      "Epoch 91/100, Train Loss: 2403.4222, Test Loss: 2463.3104\n",
      "Final Test MSE: 2761.5039\n"
     ]
    },
    {
     "data": {
      "image/png": "[encoded data removed]",
      "text/plain": [
       "<Figure size 640x480 with 1 Axes>"
      ]
     },
     "metadata": {},
     "output_type": "display_data"
    }
   ],
   "source": [
    "# Instantiate model, loss function, and optimizer\n",
    "model = DiabetesNN()\n",
    "criterion = nn.MSELoss()\n",
    "optimizer = optim.Adam(model.parameters(), lr=0.01)\n",
    "\n",
    "# Training loop\n",
    "epochs = 100\n",
    "train_losses = []\n",
    "test_losses = []\n",
    "\n",
    "for epoch in range(epochs):\n",
    "    model.train()\n",
    "    running_loss = 0.0\n",
    "    for inputs, targets in train_loader:\n",
    "        optimizer.zero_grad()\n",
    "        outputs = model(inputs)\n",
    "        loss = criterion(outputs, targets)\n",
    "        loss.backward()\n",
    "        optimizer.step()\n",
    "        running_loss += loss.item()\n",
    "    \n",
    "    avg_train_loss = running_loss / len(train_loader)\n",
    "    train_losses.append(avg_train_loss)\n",
    "\n",
    "    # Evaluate on test set\n",
    "    model.eval()\n",
    "    test_loss = 0.0\n",
    "    with torch.no_grad():\n",
    "        for inputs, targets in test_loader:\n",
    "            outputs = model(inputs)\n",
    "            loss = criterion(outputs, targets)\n",
    "            test_loss += loss.item()\n",
    "    \n",
    "    avg_test_loss = test_loss / len(test_loader)\n",
    "    test_losses.append(avg_test_loss)\n",
    "\n",
    "    if epoch % 10 == 0:\n",
    "        print(f\"Epoch {epoch+1}/{epochs}, Train Loss: {avg_train_loss:.4f}, Test Loss: {avg_test_loss:.4f}\")\n",
    "\n",
    "# Final model evaluation\n",
    "model.eval()\n",
    "with torch.no_grad():\n",
    "    y_pred = model(X_test_tensor)\n",
    "    final_mse = criterion(y_pred, y_test_tensor).item()\n",
    "\n",
    "print(f\"Final Test MSE: {final_mse:.4f}\")\n",
    "\n",
    "# Plot training and test loss\n",
    "plt.plot(range(epochs), train_losses, label='Train Loss')\n",
    "plt.plot(range(epochs), test_losses, label='Test Loss')\n",
    "plt.xlabel(\"Epochs\")\n",
    "plt.ylabel(\"MSE Loss\")\n",
    "plt.legend()\n",
    "plt.show()"
   ]
  },
  {
   "cell_type": "markdown",
   "metadata": {},
   "source": [
    "Conclusion\n",
    "\n",
    "The model seems to generalize well as MSE on the test set is approximately 2761, which aligns well with the expected value of ~3000 given by the professor"
   ]
  },
  {
   "cell_type": "code",
   "execution_count": null,
   "metadata": {},
   "outputs": [],
   "source": []
  }
 ],
 "metadata": {
  "kernelspec": {
   "display_name": "Python 3",
   "language": "python",
   "name": "python3"
  },
  "language_info": {
   "codemirror_mode": {
    "name": "ipython",
    "version": 3
   },
   "file_extension": ".py",
   "mimetype": "text/x-python",
   "name": "python",
   "nbconvert_exporter": "python",
   "pygments_lexer": "ipython3",
   "version": "3.11.9"
  }
 },
 "nbformat": 4,
 "nbformat_minor": 2
}
